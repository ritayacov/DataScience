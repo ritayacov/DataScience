{
 "cells": [
  {
   "cell_type": "markdown",
   "metadata": {},
   "source": [
    "## IEEE-CIS Fraud Detection-Project Protocol Introduction ##"
   ]
  },
  {
   "cell_type": "markdown",
   "metadata": {},
   "source": [
    "### Introduction ###\n",
    "\n",
    "E-Commerce fraud is an illegal or false transaction made in a webshop. \n",
    "The big difference between physical and online payment fraud is that the card does not need to be present when making an online transaction.\n",
    "\n",
    "Fraud in e-commerce has substantially increased globally over the last few years with the immense rise in online marketplaces. With more sophisticated technology available to fraudsters, it’s only become more difficult for e-commerce businesses to keep a track of the tactics used to defraud online businesses.\n",
    "\n",
    "According to the 2020 Global Identity and Fraud Report, nearly three in five businesses say online fraud has increased in the past 12 months. Almost 75% of businesses cite fraud as a growing concern. And 57% of businesses are experiencing rising year-on-year fraud losses."
   ]
  },
  {
   "cell_type": "markdown",
   "metadata": {},
   "source": [
    "### Which questions do we want to answer ? \n",
    "\n",
    "How we define fraudulent transactions\n",
    "\n",
    "How to identify fraudulent transactions. \n",
    "\n",
    "How to to figure out what’s fraudulent and what’s not as quickly as possible."
   ]
  },
  {
   "cell_type": "markdown",
   "metadata": {},
   "source": [
    "### What is known about the problem?\n",
    "The term ecommerce fraud, also known as purchase fraud, is pretty self-explanatory. It occurs when a fraudster approaches a merchant and proposes a business transaction using fraudulent means such as a stolen or fake credit card to pay for it. This leaves the merchant without payment for the sale that was just made.\n",
    "\n",
    "Fraud detection is a challenging problem. The fact is that fraudulent transactions are rare; they represent a very small fraction of activity within an organization. The challenge is that a small percentage of activity can quickly turn into big dollar losses without the right tools and systems in place. Criminals are crafty. As traditional fraud schemes fail to pay off, fraudsters have learned to change their tactics. The good news is that with advances in fraud analytics, systems can learn, adapt and uncover emerging patterns for preventing fraud.\n",
    "\n",
    "Ecommerce fraud is an incredibly lucrative endeavour when carried out successfully. Online businesses are an obvious target for cybercriminals, as it’s far easier for them to hide behind false details and cover up their tracks. An increase in international transactions have made this even easier, adding layers of complexity in terms of language barriers and long distance shipping.\n",
    "\n",
    "The continued advance of the mobile device into the financial services markets is gifting another avenue to fraudsters, as smartphones and tablets are used for Internet and mobile banking, as are mobile wallets, and NFC contactless payments – more often by younger people who may not be as security conscious and actually lean towards convenience over security.  \n",
    "\n",
    "Social networks are also being to be used by fraudsters to assume identities and gain valuable personal information.The proliferation of these new types of fraud is not at the expense of more established practices, any gap in security will be taken advantage of. Devices, channels and fraudulent methods evolve rapidly. This is why a financial institution needs to partner with a specialist vendor that can help it adopt a multi-layer, integrated approach to fraud protection using the latest technology available."
   ]
  },
  {
   "cell_type": "markdown",
   "metadata": {},
   "source": [
    "\n",
    "### How do we define the outcome(s)?\n",
    "\n",
    "We need to define reported chargeback on the card as fraud transaction (isFraud=1) and transactions posterior to it with either user account, email address or billing address directly linked to these attributes as fraud too. If none of above is reported and found beyond 120 days, then we define as legit transaction (isFraud=0).\n",
    "\n",
    "At the end, we need to Predict the probability that an online transaction is fraudulent, as denoted by the binary target isFraud."
   ]
  },
  {
   "cell_type": "markdown",
   "metadata": {},
   "source": [
    "### What is known to influence the outcome?\n",
    "First-time customers\n",
    "\n",
    "Bigger than average orders\n",
    "\n",
    "Fast shipping\n",
    "\n",
    "Unusual location\n",
    "\n",
    "Large quantity of the same product\n",
    "\n",
    "Multiple shipping addresses\n",
    "\n",
    "Shipping and billing address is not the same\n",
    "\n",
    "Several cards used from the same IP address\n",
    "\n",
    "Payment information typed with capital letters\n",
    "\n",
    "Many transactions in a short amount of time"
   ]
  },
  {
   "cell_type": "markdown",
   "metadata": {},
   "source": [
    "\n",
    "### Does we have any possible new knowledge that has not been in use before?\n",
    "The good news is that with advances in fraud analytics, systems can learn, adapt and uncover emerging patterns for preventing fraud.\n"
   ]
  }
 ],
 "metadata": {
  "kernelspec": {
   "display_name": "Python 3",
   "language": "python",
   "name": "python3"
  },
  "language_info": {
   "codemirror_mode": {
    "name": "ipython",
    "version": 3
   },
   "file_extension": ".py",
   "mimetype": "text/x-python",
   "name": "python",
   "nbconvert_exporter": "python",
   "pygments_lexer": "ipython3",
   "version": "3.8.5"
  }
 },
 "nbformat": 4,
 "nbformat_minor": 4
}
