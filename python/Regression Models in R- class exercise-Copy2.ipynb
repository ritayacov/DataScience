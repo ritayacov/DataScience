{
 "cells": [
  {
   "cell_type": "markdown",
   "metadata": {},
   "source": [
    "# Regression Models in R (tips)"
   ]
  },
  {
   "cell_type": "code",
   "execution_count": 1,
   "metadata": {},
   "outputs": [
    {
     "name": "stderr",
     "output_type": "stream",
     "text": [
      "\n",
      "Attaching package: 'dplyr'\n",
      "\n",
      "\n",
      "The following objects are masked from 'package:stats':\n",
      "\n",
      "    filter, lag\n",
      "\n",
      "\n",
      "The following objects are masked from 'package:base':\n",
      "\n",
      "    intersect, setdiff, setequal, union\n",
      "\n",
      "\n"
     ]
    }
   ],
   "source": [
    "library(readr)\n",
    "library(mechkar)\n",
    "library(dplyr)\n",
    "library(ggplot2)"
   ]
  },
  {
   "cell_type": "code",
   "execution_count": 2,
   "metadata": {},
   "outputs": [],
   "source": [
    "df_train <- read.csv(\"C:/Users/Rita/DataScience/data/BikeSharing/train.csv\")\n",
    "df_test <- read.csv(\"C:/Users/Rita/DataScience/data/BikeSharing/test.csv\")"
   ]
  },
  {
   "cell_type": "code",
   "execution_count": 3,
   "metadata": {},
   "outputs": [
    {
     "data": {
      "text/html": [
       "<table>\n",
       "<caption>A data.frame: 6 × 12</caption>\n",
       "<thead>\n",
       "\t<tr><th></th><th scope=col>id</th><th scope=col>season</th><th scope=col>mnth</th><th scope=col>holiday</th><th scope=col>weekday</th><th scope=col>workingday</th><th scope=col>weathersit</th><th scope=col>temp</th><th scope=col>atemp</th><th scope=col>hum</th><th scope=col>windspeed</th><th scope=col>cnt</th></tr>\n",
       "\t<tr><th></th><th scope=col>&lt;int&gt;</th><th scope=col>&lt;int&gt;</th><th scope=col>&lt;int&gt;</th><th scope=col>&lt;int&gt;</th><th scope=col>&lt;int&gt;</th><th scope=col>&lt;int&gt;</th><th scope=col>&lt;int&gt;</th><th scope=col>&lt;dbl&gt;</th><th scope=col>&lt;dbl&gt;</th><th scope=col>&lt;dbl&gt;</th><th scope=col>&lt;dbl&gt;</th><th scope=col>&lt;int&gt;</th></tr>\n",
       "</thead>\n",
       "<tbody>\n",
       "\t<tr><th scope=row>1</th><td>1</td><td>1</td><td>1</td><td>0</td><td>6</td><td>0</td><td>2</td><td>0.344167</td><td>0.363625</td><td>0.805833</td><td>0.1604460</td><td> 985</td></tr>\n",
       "\t<tr><th scope=row>2</th><td>2</td><td>1</td><td>1</td><td>0</td><td>0</td><td>0</td><td>2</td><td>0.363478</td><td>0.353739</td><td>0.696087</td><td>0.2485390</td><td> 801</td></tr>\n",
       "\t<tr><th scope=row>3</th><td>3</td><td>1</td><td>1</td><td>0</td><td>1</td><td>1</td><td>1</td><td>0.196364</td><td>0.189405</td><td>0.437273</td><td>0.2483090</td><td>1349</td></tr>\n",
       "\t<tr><th scope=row>4</th><td>4</td><td>1</td><td>1</td><td>0</td><td>2</td><td>1</td><td>1</td><td>0.200000</td><td>0.212122</td><td>0.590435</td><td>0.1602960</td><td>1562</td></tr>\n",
       "\t<tr><th scope=row>5</th><td>5</td><td>1</td><td>1</td><td>0</td><td>3</td><td>1</td><td>1</td><td>0.226957</td><td>0.229270</td><td>0.436957</td><td>0.1869000</td><td>1600</td></tr>\n",
       "\t<tr><th scope=row>6</th><td>6</td><td>1</td><td>1</td><td>0</td><td>4</td><td>1</td><td>1</td><td>0.204348</td><td>0.233209</td><td>0.518261</td><td>0.0895652</td><td>1606</td></tr>\n",
       "</tbody>\n",
       "</table>\n"
      ],
      "text/latex": [
       "A data.frame: 6 × 12\n",
       "\\begin{tabular}{r|llllllllllll}\n",
       "  & id & season & mnth & holiday & weekday & workingday & weathersit & temp & atemp & hum & windspeed & cnt\\\\\n",
       "  & <int> & <int> & <int> & <int> & <int> & <int> & <int> & <dbl> & <dbl> & <dbl> & <dbl> & <int>\\\\\n",
       "\\hline\n",
       "\t1 & 1 & 1 & 1 & 0 & 6 & 0 & 2 & 0.344167 & 0.363625 & 0.805833 & 0.1604460 &  985\\\\\n",
       "\t2 & 2 & 1 & 1 & 0 & 0 & 0 & 2 & 0.363478 & 0.353739 & 0.696087 & 0.2485390 &  801\\\\\n",
       "\t3 & 3 & 1 & 1 & 0 & 1 & 1 & 1 & 0.196364 & 0.189405 & 0.437273 & 0.2483090 & 1349\\\\\n",
       "\t4 & 4 & 1 & 1 & 0 & 2 & 1 & 1 & 0.200000 & 0.212122 & 0.590435 & 0.1602960 & 1562\\\\\n",
       "\t5 & 5 & 1 & 1 & 0 & 3 & 1 & 1 & 0.226957 & 0.229270 & 0.436957 & 0.1869000 & 1600\\\\\n",
       "\t6 & 6 & 1 & 1 & 0 & 4 & 1 & 1 & 0.204348 & 0.233209 & 0.518261 & 0.0895652 & 1606\\\\\n",
       "\\end{tabular}\n"
      ],
      "text/markdown": [
       "\n",
       "A data.frame: 6 × 12\n",
       "\n",
       "| <!--/--> | id &lt;int&gt; | season &lt;int&gt; | mnth &lt;int&gt; | holiday &lt;int&gt; | weekday &lt;int&gt; | workingday &lt;int&gt; | weathersit &lt;int&gt; | temp &lt;dbl&gt; | atemp &lt;dbl&gt; | hum &lt;dbl&gt; | windspeed &lt;dbl&gt; | cnt &lt;int&gt; |\n",
       "|---|---|---|---|---|---|---|---|---|---|---|---|---|\n",
       "| 1 | 1 | 1 | 1 | 0 | 6 | 0 | 2 | 0.344167 | 0.363625 | 0.805833 | 0.1604460 |  985 |\n",
       "| 2 | 2 | 1 | 1 | 0 | 0 | 0 | 2 | 0.363478 | 0.353739 | 0.696087 | 0.2485390 |  801 |\n",
       "| 3 | 3 | 1 | 1 | 0 | 1 | 1 | 1 | 0.196364 | 0.189405 | 0.437273 | 0.2483090 | 1349 |\n",
       "| 4 | 4 | 1 | 1 | 0 | 2 | 1 | 1 | 0.200000 | 0.212122 | 0.590435 | 0.1602960 | 1562 |\n",
       "| 5 | 5 | 1 | 1 | 0 | 3 | 1 | 1 | 0.226957 | 0.229270 | 0.436957 | 0.1869000 | 1600 |\n",
       "| 6 | 6 | 1 | 1 | 0 | 4 | 1 | 1 | 0.204348 | 0.233209 | 0.518261 | 0.0895652 | 1606 |\n",
       "\n"
      ],
      "text/plain": [
       "  id season mnth holiday weekday workingday weathersit temp     atemp   \n",
       "1 1  1      1    0       6       0          2          0.344167 0.363625\n",
       "2 2  1      1    0       0       0          2          0.363478 0.353739\n",
       "3 3  1      1    0       1       1          1          0.196364 0.189405\n",
       "4 4  1      1    0       2       1          1          0.200000 0.212122\n",
       "5 5  1      1    0       3       1          1          0.226957 0.229270\n",
       "6 6  1      1    0       4       1          1          0.204348 0.233209\n",
       "  hum      windspeed cnt \n",
       "1 0.805833 0.1604460  985\n",
       "2 0.696087 0.2485390  801\n",
       "3 0.437273 0.2483090 1349\n",
       "4 0.590435 0.1602960 1562\n",
       "5 0.436957 0.1869000 1600\n",
       "6 0.518261 0.0895652 1606"
      ]
     },
     "metadata": {},
     "output_type": "display_data"
    },
    {
     "data": {
      "text/html": [
       "<style>\n",
       ".list-inline {list-style: none; margin:0; padding: 0}\n",
       ".list-inline>li {display: inline-block}\n",
       ".list-inline>li:not(:last-child)::after {content: \"\\00b7\"; padding: 0 .5ex}\n",
       "</style>\n",
       "<ol class=list-inline><li>365</li><li>12</li></ol>\n"
      ],
      "text/latex": [
       "\\begin{enumerate*}\n",
       "\\item 365\n",
       "\\item 12\n",
       "\\end{enumerate*}\n"
      ],
      "text/markdown": [
       "1. 365\n",
       "2. 12\n",
       "\n",
       "\n"
      ],
      "text/plain": [
       "[1] 365  12"
      ]
     },
     "metadata": {},
     "output_type": "display_data"
    }
   ],
   "source": [
    "head(df_train)\n",
    "dim(df_train)"
   ]
  },
  {
   "cell_type": "code",
   "execution_count": 4,
   "metadata": {},
   "outputs": [
    {
     "data": {
      "text/html": [
       "<table>\n",
       "<caption>A data.frame: 6 × 11</caption>\n",
       "<thead>\n",
       "\t<tr><th></th><th scope=col>id</th><th scope=col>season</th><th scope=col>mnth</th><th scope=col>holiday</th><th scope=col>weekday</th><th scope=col>workingday</th><th scope=col>weathersit</th><th scope=col>temp</th><th scope=col>atemp</th><th scope=col>hum</th><th scope=col>windspeed</th></tr>\n",
       "\t<tr><th></th><th scope=col>&lt;int&gt;</th><th scope=col>&lt;int&gt;</th><th scope=col>&lt;int&gt;</th><th scope=col>&lt;int&gt;</th><th scope=col>&lt;int&gt;</th><th scope=col>&lt;int&gt;</th><th scope=col>&lt;int&gt;</th><th scope=col>&lt;dbl&gt;</th><th scope=col>&lt;dbl&gt;</th><th scope=col>&lt;dbl&gt;</th><th scope=col>&lt;dbl&gt;</th></tr>\n",
       "</thead>\n",
       "<tbody>\n",
       "\t<tr><th scope=row>1</th><td>366</td><td>1</td><td>1</td><td>0</td><td>0</td><td>0</td><td>1</td><td>0.370000</td><td>0.375621</td><td>0.692500</td><td>0.192167</td></tr>\n",
       "\t<tr><th scope=row>2</th><td>367</td><td>1</td><td>1</td><td>1</td><td>1</td><td>0</td><td>1</td><td>0.273043</td><td>0.252304</td><td>0.381304</td><td>0.329665</td></tr>\n",
       "\t<tr><th scope=row>3</th><td>368</td><td>1</td><td>1</td><td>0</td><td>2</td><td>1</td><td>1</td><td>0.150000</td><td>0.126275</td><td>0.441250</td><td>0.365671</td></tr>\n",
       "\t<tr><th scope=row>4</th><td>369</td><td>1</td><td>1</td><td>0</td><td>3</td><td>1</td><td>2</td><td>0.107500</td><td>0.119337</td><td>0.414583</td><td>0.184700</td></tr>\n",
       "\t<tr><th scope=row>5</th><td>370</td><td>1</td><td>1</td><td>0</td><td>4</td><td>1</td><td>1</td><td>0.265833</td><td>0.278412</td><td>0.524167</td><td>0.129987</td></tr>\n",
       "\t<tr><th scope=row>6</th><td>371</td><td>1</td><td>1</td><td>0</td><td>5</td><td>1</td><td>1</td><td>0.334167</td><td>0.340267</td><td>0.542083</td><td>0.167908</td></tr>\n",
       "</tbody>\n",
       "</table>\n"
      ],
      "text/latex": [
       "A data.frame: 6 × 11\n",
       "\\begin{tabular}{r|lllllllllll}\n",
       "  & id & season & mnth & holiday & weekday & workingday & weathersit & temp & atemp & hum & windspeed\\\\\n",
       "  & <int> & <int> & <int> & <int> & <int> & <int> & <int> & <dbl> & <dbl> & <dbl> & <dbl>\\\\\n",
       "\\hline\n",
       "\t1 & 366 & 1 & 1 & 0 & 0 & 0 & 1 & 0.370000 & 0.375621 & 0.692500 & 0.192167\\\\\n",
       "\t2 & 367 & 1 & 1 & 1 & 1 & 0 & 1 & 0.273043 & 0.252304 & 0.381304 & 0.329665\\\\\n",
       "\t3 & 368 & 1 & 1 & 0 & 2 & 1 & 1 & 0.150000 & 0.126275 & 0.441250 & 0.365671\\\\\n",
       "\t4 & 369 & 1 & 1 & 0 & 3 & 1 & 2 & 0.107500 & 0.119337 & 0.414583 & 0.184700\\\\\n",
       "\t5 & 370 & 1 & 1 & 0 & 4 & 1 & 1 & 0.265833 & 0.278412 & 0.524167 & 0.129987\\\\\n",
       "\t6 & 371 & 1 & 1 & 0 & 5 & 1 & 1 & 0.334167 & 0.340267 & 0.542083 & 0.167908\\\\\n",
       "\\end{tabular}\n"
      ],
      "text/markdown": [
       "\n",
       "A data.frame: 6 × 11\n",
       "\n",
       "| <!--/--> | id &lt;int&gt; | season &lt;int&gt; | mnth &lt;int&gt; | holiday &lt;int&gt; | weekday &lt;int&gt; | workingday &lt;int&gt; | weathersit &lt;int&gt; | temp &lt;dbl&gt; | atemp &lt;dbl&gt; | hum &lt;dbl&gt; | windspeed &lt;dbl&gt; |\n",
       "|---|---|---|---|---|---|---|---|---|---|---|---|\n",
       "| 1 | 366 | 1 | 1 | 0 | 0 | 0 | 1 | 0.370000 | 0.375621 | 0.692500 | 0.192167 |\n",
       "| 2 | 367 | 1 | 1 | 1 | 1 | 0 | 1 | 0.273043 | 0.252304 | 0.381304 | 0.329665 |\n",
       "| 3 | 368 | 1 | 1 | 0 | 2 | 1 | 1 | 0.150000 | 0.126275 | 0.441250 | 0.365671 |\n",
       "| 4 | 369 | 1 | 1 | 0 | 3 | 1 | 2 | 0.107500 | 0.119337 | 0.414583 | 0.184700 |\n",
       "| 5 | 370 | 1 | 1 | 0 | 4 | 1 | 1 | 0.265833 | 0.278412 | 0.524167 | 0.129987 |\n",
       "| 6 | 371 | 1 | 1 | 0 | 5 | 1 | 1 | 0.334167 | 0.340267 | 0.542083 | 0.167908 |\n",
       "\n"
      ],
      "text/plain": [
       "  id  season mnth holiday weekday workingday weathersit temp     atemp   \n",
       "1 366 1      1    0       0       0          1          0.370000 0.375621\n",
       "2 367 1      1    1       1       0          1          0.273043 0.252304\n",
       "3 368 1      1    0       2       1          1          0.150000 0.126275\n",
       "4 369 1      1    0       3       1          2          0.107500 0.119337\n",
       "5 370 1      1    0       4       1          1          0.265833 0.278412\n",
       "6 371 1      1    0       5       1          1          0.334167 0.340267\n",
       "  hum      windspeed\n",
       "1 0.692500 0.192167 \n",
       "2 0.381304 0.329665 \n",
       "3 0.441250 0.365671 \n",
       "4 0.414583 0.184700 \n",
       "5 0.524167 0.129987 \n",
       "6 0.542083 0.167908 "
      ]
     },
     "metadata": {},
     "output_type": "display_data"
    },
    {
     "data": {
      "text/html": [
       "<style>\n",
       ".list-inline {list-style: none; margin:0; padding: 0}\n",
       ".list-inline>li {display: inline-block}\n",
       ".list-inline>li:not(:last-child)::after {content: \"\\00b7\"; padding: 0 .5ex}\n",
       "</style>\n",
       "<ol class=list-inline><li>366</li><li>11</li></ol>\n"
      ],
      "text/latex": [
       "\\begin{enumerate*}\n",
       "\\item 366\n",
       "\\item 11\n",
       "\\end{enumerate*}\n"
      ],
      "text/markdown": [
       "1. 366\n",
       "2. 11\n",
       "\n",
       "\n"
      ],
      "text/plain": [
       "[1] 366  11"
      ]
     },
     "metadata": {},
     "output_type": "display_data"
    }
   ],
   "source": [
    "head(df_test)\n",
    "dim(df_test)"
   ]
  },
  {
   "cell_type": "markdown",
   "metadata": {},
   "source": [
    "# EDA"
   ]
  },
  {
   "cell_type": "code",
   "execution_count": 5,
   "metadata": {},
   "outputs": [
    {
     "data": {
      "text/plain": [
       "       id          season           mnth           holiday      \n",
       " Min.   :  1   Min.   :1.000   Min.   : 1.000   Min.   :0.0000  \n",
       " 1st Qu.: 92   1st Qu.:2.000   1st Qu.: 4.000   1st Qu.:0.0000  \n",
       " Median :183   Median :3.000   Median : 7.000   Median :0.0000  \n",
       " Mean   :183   Mean   :2.499   Mean   : 6.526   Mean   :0.0274  \n",
       " 3rd Qu.:274   3rd Qu.:3.000   3rd Qu.:10.000   3rd Qu.:0.0000  \n",
       " Max.   :365   Max.   :4.000   Max.   :12.000   Max.   :1.0000  \n",
       "    weekday        workingday       weathersit         temp        \n",
       " Min.   :0.000   Min.   :0.0000   Min.   :1.000   Min.   :0.05913  \n",
       " 1st Qu.:1.000   1st Qu.:0.0000   1st Qu.:1.000   1st Qu.:0.32500  \n",
       " Median :3.000   Median :1.0000   Median :1.000   Median :0.47917  \n",
       " Mean   :3.008   Mean   :0.6849   Mean   :1.422   Mean   :0.48666  \n",
       " 3rd Qu.:5.000   3rd Qu.:1.0000   3rd Qu.:2.000   3rd Qu.:0.65667  \n",
       " Max.   :6.000   Max.   :1.0000   Max.   :3.000   Max.   :0.84917  \n",
       "     atemp              hum           windspeed            cnt      \n",
       " Min.   :0.07907   Min.   :0.0000   Min.   :0.02239   Min.   : 431  \n",
       " 1st Qu.:0.32195   1st Qu.:0.5383   1st Qu.:0.13558   1st Qu.:2132  \n",
       " Median :0.47285   Median :0.6475   Median :0.18690   Median :3740  \n",
       " Mean   :0.46684   Mean   :0.6437   Mean   :0.19140   Mean   :3406  \n",
       " 3rd Qu.:0.61238   3rd Qu.:0.7421   3rd Qu.:0.23508   3rd Qu.:4586  \n",
       " Max.   :0.84090   Max.   :0.9725   Max.   :0.50746   Max.   :6043  "
      ]
     },
     "metadata": {},
     "output_type": "display_data"
    }
   ],
   "source": [
    "summary(df_train)"
   ]
  },
  {
   "cell_type": "code",
   "execution_count": 6,
   "metadata": {},
   "outputs": [],
   "source": [
    "df_train$season <- factor(df_train$season)\n",
    "df_train$mnth <- factor(df_train$mnth)\n",
    "df_train$holiday <- factor(df_train$holiday)\n",
    "df_train$weekday <- factor(df_train$weekday)\n",
    "df_train$workingday <- factor(df_train$workingday)\n",
    "df_train$weathersit <- factor(df_train$weathersit)\n"
   ]
  },
  {
   "cell_type": "code",
   "execution_count": 7,
   "metadata": {},
   "outputs": [
    {
     "data": {
      "text/plain": [
       "       id      season      mnth     holiday weekday workingday weathersit\n",
       " Min.   :  1   1:90   1      : 31   0:355   0:52    0:115      1:226     \n",
       " 1st Qu.: 92   2:92   3      : 31   1: 10   1:52    1:250      2:124     \n",
       " Median :183   3:94   5      : 31           2:52               3: 15     \n",
       " Mean   :183   4:89   7      : 31           3:52                         \n",
       " 3rd Qu.:274          8      : 31           4:52                         \n",
       " Max.   :365          10     : 31           5:52                         \n",
       "                      (Other):179           6:53                         \n",
       "      temp             atemp              hum           windspeed      \n",
       " Min.   :0.05913   Min.   :0.07907   Min.   :0.0000   Min.   :0.02239  \n",
       " 1st Qu.:0.32500   1st Qu.:0.32195   1st Qu.:0.5383   1st Qu.:0.13558  \n",
       " Median :0.47917   Median :0.47285   Median :0.6475   Median :0.18690  \n",
       " Mean   :0.48666   Mean   :0.46684   Mean   :0.6437   Mean   :0.19140  \n",
       " 3rd Qu.:0.65667   3rd Qu.:0.61238   3rd Qu.:0.7421   3rd Qu.:0.23508  \n",
       " Max.   :0.84917   Max.   :0.84090   Max.   :0.9725   Max.   :0.50746  \n",
       "                                                                       \n",
       "      cnt      \n",
       " Min.   : 431  \n",
       " 1st Qu.:2132  \n",
       " Median :3740  \n",
       " Mean   :3406  \n",
       " 3rd Qu.:4586  \n",
       " Max.   :6043  \n",
       "               "
      ]
     },
     "metadata": {},
     "output_type": "display_data"
    }
   ],
   "source": [
    "summary(df_train)"
   ]
  },
  {
   "cell_type": "markdown",
   "metadata": {},
   "source": [
    "# DATASET PARTITION"
   ]
  },
  {
   "cell_type": "code",
   "execution_count": 8,
   "metadata": {},
   "outputs": [
    {
     "name": "stderr",
     "output_type": "stream",
     "text": [
      "Dataset partitioned into:\n",
      "\n",
      " + Train dataset: train\n",
      "\n",
      " + Test dataset: test\n",
      "\n",
      "Warning message in Table1(data = df, y = \"traintest_ind_\", messages = FALSE):\n",
      "\"The following variables have unique values and will not be included in the analysis: \"\n"
     ]
    },
    {
     "name": "stdout",
     "output_type": "stream",
     "text": [
      "  |======================================================================| 100%"
     ]
    },
    {
     "name": "stderr",
     "output_type": "stream",
     "text": [
      "Warning message:\n",
      "\"The `x` argument of `as_tibble.matrix()` must have column names if `.name_repair` is omitted as of tibble 2.0.0.\n",
      "Using compatibility `.name_repair`.\n",
      "\u001b[90mThis warning is displayed once every 8 hours.\u001b[39m\n",
      "\u001b[90mCall `lifecycle::last_warnings()` to see where this warning was generated.\u001b[39m\"\n"
     ]
    },
    {
     "name": "stdout",
     "output_type": "stream",
     "text": [
      "  |===========================                                           |  38%"
     ]
    },
    {
     "name": "stderr",
     "output_type": "stream",
     "text": [
      "Warning message in stats::chisq.test(data[[v]], data[[y]]):\n",
      "\"Chi-squared approximation may be incorrect\"\n"
     ]
    },
    {
     "name": "stdout",
     "output_type": "stream",
     "text": [
      "  |=================================================================     |  92%"
     ]
    },
    {
     "name": "stderr",
     "output_type": "stream",
     "text": [
      " \n",
      "\n",
      "You got a perfectly balanced training and test datasets\n",
      "\n",
      " \n",
      "\n"
     ]
    },
    {
     "data": {
      "text/html": [
       "<table>\n",
       "<caption>A tibble: 43 × 6</caption>\n",
       "<thead>\n",
       "\t<tr><th scope=col>V1</th><th scope=col>V2</th><th scope=col>Pop</th><th scope=col>1</th><th scope=col>2</th><th scope=col>pval</th></tr>\n",
       "\t<tr><th scope=col>&lt;chr&gt;</th><th scope=col>&lt;chr&gt;</th><th scope=col>&lt;chr&gt;</th><th scope=col>&lt;chr&gt;</th><th scope=col>&lt;chr&gt;</th><th scope=col>&lt;chr&gt;</th></tr>\n",
       "</thead>\n",
       "<tbody>\n",
       "\t<tr><td>Individuals   </td><td>n           </td><td>365                      </td><td>255                      </td><td>110                      </td><td>NA   </td></tr>\n",
       "\t<tr><td>id            </td><td>Mean (SD)   </td><td>183.0 (105.5)            </td><td>183.7 (105.0)            </td><td>181.4 (107.2)            </td><td>NA   </td></tr>\n",
       "\t<tr><td>id            </td><td>Median (IQR)</td><td>183.0 (92.0-274.0)       </td><td>181.0 (92.5-272.5)       </td><td>184.5 (88.0-277.0)       </td><td>0.854</td></tr>\n",
       "\t<tr><td>season        </td><td>1           </td><td>90 (24.7%)               </td><td>62 (24.3%)               </td><td>28 (25.5%)               </td><td>NA   </td></tr>\n",
       "\t<tr><td>season        </td><td>2           </td><td>92 (25.2%)               </td><td>67 (26.3%)               </td><td>25 (22.7%)               </td><td>0.914</td></tr>\n",
       "\t<tr><td>season        </td><td>3           </td><td>94 (25.8%)               </td><td>65 (25.5%)               </td><td>29 (26.4%)               </td><td>NA   </td></tr>\n",
       "\t<tr><td>season        </td><td>4           </td><td>89 (24.4%)               </td><td>61 (23.9%)               </td><td>28 (25.5%)               </td><td>NA   </td></tr>\n",
       "\t<tr><td>mnth          </td><td>1           </td><td>31 (8.5%)                </td><td>20 (7.8%)                </td><td>11 (10.0%)               </td><td>NA   </td></tr>\n",
       "\t<tr><td>mnth          </td><td>2           </td><td>28 (7.7%)                </td><td>18 (7.1%)                </td><td>10 (9.1%)                </td><td>0.841</td></tr>\n",
       "\t<tr><td>mnth          </td><td>3           </td><td>31 (8.5%)                </td><td>24 (9.4%)                </td><td>7 (6.4%)                 </td><td>NA   </td></tr>\n",
       "\t<tr><td>mnth          </td><td>4           </td><td>30 (8.2%)                </td><td>20 (7.8%)                </td><td>10 (9.1%)                </td><td>NA   </td></tr>\n",
       "\t<tr><td>mnth          </td><td>5           </td><td>31 (8.5%)                </td><td>23 (9.0%)                </td><td>8 (7.3%)                 </td><td>NA   </td></tr>\n",
       "\t<tr><td>mnth          </td><td>6           </td><td>30 (8.2%)                </td><td>23 (9.0%)                </td><td>7 (6.4%)                 </td><td>NA   </td></tr>\n",
       "\t<tr><td>mnth          </td><td>7           </td><td>31 (8.5%)                </td><td>20 (7.8%)                </td><td>11 (10.0%)               </td><td>NA   </td></tr>\n",
       "\t<tr><td>mnth          </td><td>8           </td><td>31 (8.5%)                </td><td>24 (9.4%)                </td><td>7 (6.4%)                 </td><td>NA   </td></tr>\n",
       "\t<tr><td>mnth          </td><td>9           </td><td>30 (8.2%)                </td><td>20 (7.8%)                </td><td>10 (9.1%)                </td><td>NA   </td></tr>\n",
       "\t<tr><td>mnth          </td><td>10          </td><td>31 (8.5%)                </td><td>21 (8.2%)                </td><td>10 (9.1%)                </td><td>NA   </td></tr>\n",
       "\t<tr><td>mnth          </td><td>11          </td><td>30 (8.2%)                </td><td>18 (7.1%)                </td><td>12 (10.9%)               </td><td>NA   </td></tr>\n",
       "\t<tr><td>mnth          </td><td>12          </td><td>31 (8.5%)                </td><td>24 (9.4%)                </td><td>7 (6.4%)                 </td><td>NA   </td></tr>\n",
       "\t<tr><td>holiday       </td><td>1           </td><td>10 (2.7%)                </td><td>5 (2.0%)                 </td><td>5 (4.5%)                 </td><td>0.166</td></tr>\n",
       "\t<tr><td>weekday       </td><td>0           </td><td>52 (14.2%)               </td><td>36 (14.1%)               </td><td>16 (14.5%)               </td><td>NA   </td></tr>\n",
       "\t<tr><td>weekday       </td><td>1           </td><td>52 (14.2%)               </td><td>34 (13.3%)               </td><td>18 (16.4%)               </td><td>0.931</td></tr>\n",
       "\t<tr><td>weekday       </td><td>2           </td><td>52 (14.2%)               </td><td>36 (14.1%)               </td><td>16 (14.5%)               </td><td>NA   </td></tr>\n",
       "\t<tr><td>weekday       </td><td>3           </td><td>52 (14.2%)               </td><td>34 (13.3%)               </td><td>18 (16.4%)               </td><td>NA   </td></tr>\n",
       "\t<tr><td>weekday       </td><td>4           </td><td>52 (14.2%)               </td><td>38 (14.9%)               </td><td>14 (12.7%)               </td><td>NA   </td></tr>\n",
       "\t<tr><td>weekday       </td><td>5           </td><td>52 (14.2%)               </td><td>38 (14.9%)               </td><td>14 (12.7%)               </td><td>NA   </td></tr>\n",
       "\t<tr><td>weekday       </td><td>6           </td><td>53 (14.5%)               </td><td>39 (15.3%)               </td><td>14 (12.7%)               </td><td>NA   </td></tr>\n",
       "\t<tr><td>workingday    </td><td>1           </td><td>250 (68.5%)              </td><td>175 (68.6%)              </td><td>75 (68.2%)               </td><td>1    </td></tr>\n",
       "\t<tr><td>weathersit    </td><td>1           </td><td>226 (61.9%)              </td><td>153 (60.0%)              </td><td>73 (66.4%)               </td><td>NA   </td></tr>\n",
       "\t<tr><td>weathersit    </td><td>2           </td><td>124 (34.0%)              </td><td>93 (36.5%)               </td><td>31 (28.2%)               </td><td>0.253</td></tr>\n",
       "\t<tr><td>weathersit    </td><td>3           </td><td>15 (4.1%)                </td><td>9 (3.5%)                 </td><td>6 (5.5%)                 </td><td>NA   </td></tr>\n",
       "\t<tr><td>temp          </td><td>Mean (SD)   </td><td>0.5 (0.2)                </td><td>0.5 (0.2)                </td><td>0.5 (0.2)                </td><td>NA   </td></tr>\n",
       "\t<tr><td>temp          </td><td>Median (IQR)</td><td>0.5 (0.3-0.7)            </td><td>0.5 (0.3-0.7)            </td><td>0.5 (0.3-0.7)            </td><td>0.633</td></tr>\n",
       "\t<tr><td>atemp         </td><td>Mean (SD)   </td><td>0.5 (0.2)                </td><td>0.5 (0.2)                </td><td>0.5 (0.2)                </td><td>NA   </td></tr>\n",
       "\t<tr><td>atemp         </td><td>Median (IQR)</td><td>0.5 (0.3-0.6)            </td><td>0.5 (0.3-0.6)            </td><td>0.5 (0.3-0.6)            </td><td>0.681</td></tr>\n",
       "\t<tr><td>hum           </td><td>Mean (SD)   </td><td>0.6 (0.1)                </td><td>0.6 (0.2)                </td><td>0.7 (0.1)                </td><td>NA   </td></tr>\n",
       "\t<tr><td>hum           </td><td>Median (IQR)</td><td>0.6 (0.5-0.7)            </td><td>0.6 (0.5-0.7)            </td><td>0.6 (0.5-0.7)            </td><td>0.53 </td></tr>\n",
       "\t<tr><td>windspeed     </td><td>Mean (SD)   </td><td>0.2 (0.1)                </td><td>0.2 (0.1)                </td><td>0.2 (0.1)                </td><td>NA   </td></tr>\n",
       "\t<tr><td>windspeed     </td><td>Median (IQR)</td><td>0.2 (0.1-0.2)            </td><td>0.2 (0.1-0.2)            </td><td>0.2 (0.1-0.2)            </td><td>0.704</td></tr>\n",
       "\t<tr><td>cnt           </td><td>Mean (SD)   </td><td>3,405.8 (1,378.8)        </td><td>3,443.5 (1,363.5)        </td><td>3,318.2 (1,415.8)        </td><td>NA   </td></tr>\n",
       "\t<tr><td>cnt           </td><td>Median (IQR)</td><td>3,740.0 (2,132.0-4,586.0)</td><td>3,750.0 (2,185.5-4,591.0)</td><td>3,577.5 (1,916.5-4,546.2)</td><td>0.426</td></tr>\n",
       "\t<tr><td>traintest_ind_</td><td>Mean (SD)   </td><td>1.3 (0.5)                </td><td>NA                       </td><td>NA                       </td><td>NA   </td></tr>\n",
       "\t<tr><td>traintest_ind_</td><td>Median (IQR)</td><td>1.0 (1.0-2.0)            </td><td>NA                       </td><td>NA                       </td><td>0    </td></tr>\n",
       "</tbody>\n",
       "</table>\n"
      ],
      "text/latex": [
       "A tibble: 43 × 6\n",
       "\\begin{tabular}{llllll}\n",
       " V1 & V2 & Pop & 1 & 2 & pval\\\\\n",
       " <chr> & <chr> & <chr> & <chr> & <chr> & <chr>\\\\\n",
       "\\hline\n",
       "\t Individuals    & n            & 365                       & 255                       & 110                       & NA   \\\\\n",
       "\t id             & Mean (SD)    & 183.0 (105.5)             & 183.7 (105.0)             & 181.4 (107.2)             & NA   \\\\\n",
       "\t id             & Median (IQR) & 183.0 (92.0-274.0)        & 181.0 (92.5-272.5)        & 184.5 (88.0-277.0)        & 0.854\\\\\n",
       "\t season         & 1            & 90 (24.7\\%)                & 62 (24.3\\%)                & 28 (25.5\\%)                & NA   \\\\\n",
       "\t season         & 2            & 92 (25.2\\%)                & 67 (26.3\\%)                & 25 (22.7\\%)                & 0.914\\\\\n",
       "\t season         & 3            & 94 (25.8\\%)                & 65 (25.5\\%)                & 29 (26.4\\%)                & NA   \\\\\n",
       "\t season         & 4            & 89 (24.4\\%)                & 61 (23.9\\%)                & 28 (25.5\\%)                & NA   \\\\\n",
       "\t mnth           & 1            & 31 (8.5\\%)                 & 20 (7.8\\%)                 & 11 (10.0\\%)                & NA   \\\\\n",
       "\t mnth           & 2            & 28 (7.7\\%)                 & 18 (7.1\\%)                 & 10 (9.1\\%)                 & 0.841\\\\\n",
       "\t mnth           & 3            & 31 (8.5\\%)                 & 24 (9.4\\%)                 & 7 (6.4\\%)                  & NA   \\\\\n",
       "\t mnth           & 4            & 30 (8.2\\%)                 & 20 (7.8\\%)                 & 10 (9.1\\%)                 & NA   \\\\\n",
       "\t mnth           & 5            & 31 (8.5\\%)                 & 23 (9.0\\%)                 & 8 (7.3\\%)                  & NA   \\\\\n",
       "\t mnth           & 6            & 30 (8.2\\%)                 & 23 (9.0\\%)                 & 7 (6.4\\%)                  & NA   \\\\\n",
       "\t mnth           & 7            & 31 (8.5\\%)                 & 20 (7.8\\%)                 & 11 (10.0\\%)                & NA   \\\\\n",
       "\t mnth           & 8            & 31 (8.5\\%)                 & 24 (9.4\\%)                 & 7 (6.4\\%)                  & NA   \\\\\n",
       "\t mnth           & 9            & 30 (8.2\\%)                 & 20 (7.8\\%)                 & 10 (9.1\\%)                 & NA   \\\\\n",
       "\t mnth           & 10           & 31 (8.5\\%)                 & 21 (8.2\\%)                 & 10 (9.1\\%)                 & NA   \\\\\n",
       "\t mnth           & 11           & 30 (8.2\\%)                 & 18 (7.1\\%)                 & 12 (10.9\\%)                & NA   \\\\\n",
       "\t mnth           & 12           & 31 (8.5\\%)                 & 24 (9.4\\%)                 & 7 (6.4\\%)                  & NA   \\\\\n",
       "\t holiday        & 1            & 10 (2.7\\%)                 & 5 (2.0\\%)                  & 5 (4.5\\%)                  & 0.166\\\\\n",
       "\t weekday        & 0            & 52 (14.2\\%)                & 36 (14.1\\%)                & 16 (14.5\\%)                & NA   \\\\\n",
       "\t weekday        & 1            & 52 (14.2\\%)                & 34 (13.3\\%)                & 18 (16.4\\%)                & 0.931\\\\\n",
       "\t weekday        & 2            & 52 (14.2\\%)                & 36 (14.1\\%)                & 16 (14.5\\%)                & NA   \\\\\n",
       "\t weekday        & 3            & 52 (14.2\\%)                & 34 (13.3\\%)                & 18 (16.4\\%)                & NA   \\\\\n",
       "\t weekday        & 4            & 52 (14.2\\%)                & 38 (14.9\\%)                & 14 (12.7\\%)                & NA   \\\\\n",
       "\t weekday        & 5            & 52 (14.2\\%)                & 38 (14.9\\%)                & 14 (12.7\\%)                & NA   \\\\\n",
       "\t weekday        & 6            & 53 (14.5\\%)                & 39 (15.3\\%)                & 14 (12.7\\%)                & NA   \\\\\n",
       "\t workingday     & 1            & 250 (68.5\\%)               & 175 (68.6\\%)               & 75 (68.2\\%)                & 1    \\\\\n",
       "\t weathersit     & 1            & 226 (61.9\\%)               & 153 (60.0\\%)               & 73 (66.4\\%)                & NA   \\\\\n",
       "\t weathersit     & 2            & 124 (34.0\\%)               & 93 (36.5\\%)                & 31 (28.2\\%)                & 0.253\\\\\n",
       "\t weathersit     & 3            & 15 (4.1\\%)                 & 9 (3.5\\%)                  & 6 (5.5\\%)                  & NA   \\\\\n",
       "\t temp           & Mean (SD)    & 0.5 (0.2)                 & 0.5 (0.2)                 & 0.5 (0.2)                 & NA   \\\\\n",
       "\t temp           & Median (IQR) & 0.5 (0.3-0.7)             & 0.5 (0.3-0.7)             & 0.5 (0.3-0.7)             & 0.633\\\\\n",
       "\t atemp          & Mean (SD)    & 0.5 (0.2)                 & 0.5 (0.2)                 & 0.5 (0.2)                 & NA   \\\\\n",
       "\t atemp          & Median (IQR) & 0.5 (0.3-0.6)             & 0.5 (0.3-0.6)             & 0.5 (0.3-0.6)             & 0.681\\\\\n",
       "\t hum            & Mean (SD)    & 0.6 (0.1)                 & 0.6 (0.2)                 & 0.7 (0.1)                 & NA   \\\\\n",
       "\t hum            & Median (IQR) & 0.6 (0.5-0.7)             & 0.6 (0.5-0.7)             & 0.6 (0.5-0.7)             & 0.53 \\\\\n",
       "\t windspeed      & Mean (SD)    & 0.2 (0.1)                 & 0.2 (0.1)                 & 0.2 (0.1)                 & NA   \\\\\n",
       "\t windspeed      & Median (IQR) & 0.2 (0.1-0.2)             & 0.2 (0.1-0.2)             & 0.2 (0.1-0.2)             & 0.704\\\\\n",
       "\t cnt            & Mean (SD)    & 3,405.8 (1,378.8)         & 3,443.5 (1,363.5)         & 3,318.2 (1,415.8)         & NA   \\\\\n",
       "\t cnt            & Median (IQR) & 3,740.0 (2,132.0-4,586.0) & 3,750.0 (2,185.5-4,591.0) & 3,577.5 (1,916.5-4,546.2) & 0.426\\\\\n",
       "\t traintest\\_ind\\_ & Mean (SD)    & 1.3 (0.5)                 & NA                        & NA                        & NA   \\\\\n",
       "\t traintest\\_ind\\_ & Median (IQR) & 1.0 (1.0-2.0)             & NA                        & NA                        & 0    \\\\\n",
       "\\end{tabular}\n"
      ],
      "text/markdown": [
       "\n",
       "A tibble: 43 × 6\n",
       "\n",
       "| V1 &lt;chr&gt; | V2 &lt;chr&gt; | Pop &lt;chr&gt; | 1 &lt;chr&gt; | 2 &lt;chr&gt; | pval &lt;chr&gt; |\n",
       "|---|---|---|---|---|---|\n",
       "| Individuals    | n            | 365                       | 255                       | 110                       | NA    |\n",
       "| id             | Mean (SD)    | 183.0 (105.5)             | 183.7 (105.0)             | 181.4 (107.2)             | NA    |\n",
       "| id             | Median (IQR) | 183.0 (92.0-274.0)        | 181.0 (92.5-272.5)        | 184.5 (88.0-277.0)        | 0.854 |\n",
       "| season         | 1            | 90 (24.7%)                | 62 (24.3%)                | 28 (25.5%)                | NA    |\n",
       "| season         | 2            | 92 (25.2%)                | 67 (26.3%)                | 25 (22.7%)                | 0.914 |\n",
       "| season         | 3            | 94 (25.8%)                | 65 (25.5%)                | 29 (26.4%)                | NA    |\n",
       "| season         | 4            | 89 (24.4%)                | 61 (23.9%)                | 28 (25.5%)                | NA    |\n",
       "| mnth           | 1            | 31 (8.5%)                 | 20 (7.8%)                 | 11 (10.0%)                | NA    |\n",
       "| mnth           | 2            | 28 (7.7%)                 | 18 (7.1%)                 | 10 (9.1%)                 | 0.841 |\n",
       "| mnth           | 3            | 31 (8.5%)                 | 24 (9.4%)                 | 7 (6.4%)                  | NA    |\n",
       "| mnth           | 4            | 30 (8.2%)                 | 20 (7.8%)                 | 10 (9.1%)                 | NA    |\n",
       "| mnth           | 5            | 31 (8.5%)                 | 23 (9.0%)                 | 8 (7.3%)                  | NA    |\n",
       "| mnth           | 6            | 30 (8.2%)                 | 23 (9.0%)                 | 7 (6.4%)                  | NA    |\n",
       "| mnth           | 7            | 31 (8.5%)                 | 20 (7.8%)                 | 11 (10.0%)                | NA    |\n",
       "| mnth           | 8            | 31 (8.5%)                 | 24 (9.4%)                 | 7 (6.4%)                  | NA    |\n",
       "| mnth           | 9            | 30 (8.2%)                 | 20 (7.8%)                 | 10 (9.1%)                 | NA    |\n",
       "| mnth           | 10           | 31 (8.5%)                 | 21 (8.2%)                 | 10 (9.1%)                 | NA    |\n",
       "| mnth           | 11           | 30 (8.2%)                 | 18 (7.1%)                 | 12 (10.9%)                | NA    |\n",
       "| mnth           | 12           | 31 (8.5%)                 | 24 (9.4%)                 | 7 (6.4%)                  | NA    |\n",
       "| holiday        | 1            | 10 (2.7%)                 | 5 (2.0%)                  | 5 (4.5%)                  | 0.166 |\n",
       "| weekday        | 0            | 52 (14.2%)                | 36 (14.1%)                | 16 (14.5%)                | NA    |\n",
       "| weekday        | 1            | 52 (14.2%)                | 34 (13.3%)                | 18 (16.4%)                | 0.931 |\n",
       "| weekday        | 2            | 52 (14.2%)                | 36 (14.1%)                | 16 (14.5%)                | NA    |\n",
       "| weekday        | 3            | 52 (14.2%)                | 34 (13.3%)                | 18 (16.4%)                | NA    |\n",
       "| weekday        | 4            | 52 (14.2%)                | 38 (14.9%)                | 14 (12.7%)                | NA    |\n",
       "| weekday        | 5            | 52 (14.2%)                | 38 (14.9%)                | 14 (12.7%)                | NA    |\n",
       "| weekday        | 6            | 53 (14.5%)                | 39 (15.3%)                | 14 (12.7%)                | NA    |\n",
       "| workingday     | 1            | 250 (68.5%)               | 175 (68.6%)               | 75 (68.2%)                | 1     |\n",
       "| weathersit     | 1            | 226 (61.9%)               | 153 (60.0%)               | 73 (66.4%)                | NA    |\n",
       "| weathersit     | 2            | 124 (34.0%)               | 93 (36.5%)                | 31 (28.2%)                | 0.253 |\n",
       "| weathersit     | 3            | 15 (4.1%)                 | 9 (3.5%)                  | 6 (5.5%)                  | NA    |\n",
       "| temp           | Mean (SD)    | 0.5 (0.2)                 | 0.5 (0.2)                 | 0.5 (0.2)                 | NA    |\n",
       "| temp           | Median (IQR) | 0.5 (0.3-0.7)             | 0.5 (0.3-0.7)             | 0.5 (0.3-0.7)             | 0.633 |\n",
       "| atemp          | Mean (SD)    | 0.5 (0.2)                 | 0.5 (0.2)                 | 0.5 (0.2)                 | NA    |\n",
       "| atemp          | Median (IQR) | 0.5 (0.3-0.6)             | 0.5 (0.3-0.6)             | 0.5 (0.3-0.6)             | 0.681 |\n",
       "| hum            | Mean (SD)    | 0.6 (0.1)                 | 0.6 (0.2)                 | 0.7 (0.1)                 | NA    |\n",
       "| hum            | Median (IQR) | 0.6 (0.5-0.7)             | 0.6 (0.5-0.7)             | 0.6 (0.5-0.7)             | 0.53  |\n",
       "| windspeed      | Mean (SD)    | 0.2 (0.1)                 | 0.2 (0.1)                 | 0.2 (0.1)                 | NA    |\n",
       "| windspeed      | Median (IQR) | 0.2 (0.1-0.2)             | 0.2 (0.1-0.2)             | 0.2 (0.1-0.2)             | 0.704 |\n",
       "| cnt            | Mean (SD)    | 3,405.8 (1,378.8)         | 3,443.5 (1,363.5)         | 3,318.2 (1,415.8)         | NA    |\n",
       "| cnt            | Median (IQR) | 3,740.0 (2,132.0-4,586.0) | 3,750.0 (2,185.5-4,591.0) | 3,577.5 (1,916.5-4,546.2) | 0.426 |\n",
       "| traintest_ind_ | Mean (SD)    | 1.3 (0.5)                 | NA                        | NA                        | NA    |\n",
       "| traintest_ind_ | Median (IQR) | 1.0 (1.0-2.0)             | NA                        | NA                        | 0     |\n",
       "\n"
      ],
      "text/plain": [
       "   V1             V2           Pop                      \n",
       "1  Individuals    n            365                      \n",
       "2  id             Mean (SD)    183.0 (105.5)            \n",
       "3  id             Median (IQR) 183.0 (92.0-274.0)       \n",
       "4  season         1            90 (24.7%)               \n",
       "5  season         2            92 (25.2%)               \n",
       "6  season         3            94 (25.8%)               \n",
       "7  season         4            89 (24.4%)               \n",
       "8  mnth           1            31 (8.5%)                \n",
       "9  mnth           2            28 (7.7%)                \n",
       "10 mnth           3            31 (8.5%)                \n",
       "11 mnth           4            30 (8.2%)                \n",
       "12 mnth           5            31 (8.5%)                \n",
       "13 mnth           6            30 (8.2%)                \n",
       "14 mnth           7            31 (8.5%)                \n",
       "15 mnth           8            31 (8.5%)                \n",
       "16 mnth           9            30 (8.2%)                \n",
       "17 mnth           10           31 (8.5%)                \n",
       "18 mnth           11           30 (8.2%)                \n",
       "19 mnth           12           31 (8.5%)                \n",
       "20 holiday        1            10 (2.7%)                \n",
       "21 weekday        0            52 (14.2%)               \n",
       "22 weekday        1            52 (14.2%)               \n",
       "23 weekday        2            52 (14.2%)               \n",
       "24 weekday        3            52 (14.2%)               \n",
       "25 weekday        4            52 (14.2%)               \n",
       "26 weekday        5            52 (14.2%)               \n",
       "27 weekday        6            53 (14.5%)               \n",
       "28 workingday     1            250 (68.5%)              \n",
       "29 weathersit     1            226 (61.9%)              \n",
       "30 weathersit     2            124 (34.0%)              \n",
       "31 weathersit     3            15 (4.1%)                \n",
       "32 temp           Mean (SD)    0.5 (0.2)                \n",
       "33 temp           Median (IQR) 0.5 (0.3-0.7)            \n",
       "34 atemp          Mean (SD)    0.5 (0.2)                \n",
       "35 atemp          Median (IQR) 0.5 (0.3-0.6)            \n",
       "36 hum            Mean (SD)    0.6 (0.1)                \n",
       "37 hum            Median (IQR) 0.6 (0.5-0.7)            \n",
       "38 windspeed      Mean (SD)    0.2 (0.1)                \n",
       "39 windspeed      Median (IQR) 0.2 (0.1-0.2)            \n",
       "40 cnt            Mean (SD)    3,405.8 (1,378.8)        \n",
       "41 cnt            Median (IQR) 3,740.0 (2,132.0-4,586.0)\n",
       "42 traintest_ind_ Mean (SD)    1.3 (0.5)                \n",
       "43 traintest_ind_ Median (IQR) 1.0 (1.0-2.0)            \n",
       "   1                         2                         pval \n",
       "1  255                       110                       NA   \n",
       "2  183.7 (105.0)             181.4 (107.2)             NA   \n",
       "3  181.0 (92.5-272.5)        184.5 (88.0-277.0)        0.854\n",
       "4  62 (24.3%)                28 (25.5%)                NA   \n",
       "5  67 (26.3%)                25 (22.7%)                0.914\n",
       "6  65 (25.5%)                29 (26.4%)                NA   \n",
       "7  61 (23.9%)                28 (25.5%)                NA   \n",
       "8  20 (7.8%)                 11 (10.0%)                NA   \n",
       "9  18 (7.1%)                 10 (9.1%)                 0.841\n",
       "10 24 (9.4%)                 7 (6.4%)                  NA   \n",
       "11 20 (7.8%)                 10 (9.1%)                 NA   \n",
       "12 23 (9.0%)                 8 (7.3%)                  NA   \n",
       "13 23 (9.0%)                 7 (6.4%)                  NA   \n",
       "14 20 (7.8%)                 11 (10.0%)                NA   \n",
       "15 24 (9.4%)                 7 (6.4%)                  NA   \n",
       "16 20 (7.8%)                 10 (9.1%)                 NA   \n",
       "17 21 (8.2%)                 10 (9.1%)                 NA   \n",
       "18 18 (7.1%)                 12 (10.9%)                NA   \n",
       "19 24 (9.4%)                 7 (6.4%)                  NA   \n",
       "20 5 (2.0%)                  5 (4.5%)                  0.166\n",
       "21 36 (14.1%)                16 (14.5%)                NA   \n",
       "22 34 (13.3%)                18 (16.4%)                0.931\n",
       "23 36 (14.1%)                16 (14.5%)                NA   \n",
       "24 34 (13.3%)                18 (16.4%)                NA   \n",
       "25 38 (14.9%)                14 (12.7%)                NA   \n",
       "26 38 (14.9%)                14 (12.7%)                NA   \n",
       "27 39 (15.3%)                14 (12.7%)                NA   \n",
       "28 175 (68.6%)               75 (68.2%)                1    \n",
       "29 153 (60.0%)               73 (66.4%)                NA   \n",
       "30 93 (36.5%)                31 (28.2%)                0.253\n",
       "31 9 (3.5%)                  6 (5.5%)                  NA   \n",
       "32 0.5 (0.2)                 0.5 (0.2)                 NA   \n",
       "33 0.5 (0.3-0.7)             0.5 (0.3-0.7)             0.633\n",
       "34 0.5 (0.2)                 0.5 (0.2)                 NA   \n",
       "35 0.5 (0.3-0.6)             0.5 (0.3-0.6)             0.681\n",
       "36 0.6 (0.2)                 0.7 (0.1)                 NA   \n",
       "37 0.6 (0.5-0.7)             0.6 (0.5-0.7)             0.53 \n",
       "38 0.2 (0.1)                 0.2 (0.1)                 NA   \n",
       "39 0.2 (0.1-0.2)             0.2 (0.1-0.2)             0.704\n",
       "40 3,443.5 (1,363.5)         3,318.2 (1,415.8)         NA   \n",
       "41 3,750.0 (2,185.5-4,591.0) 3,577.5 (1,916.5-4,546.2) 0.426\n",
       "42 NA                        NA                        NA   \n",
       "43 NA                        NA                        0    "
      ]
     },
     "metadata": {},
     "output_type": "display_data"
    }
   ],
   "source": [
    "tab1 <- train_test(data=df_train,train_name=\"train\",test_name=\"test\",prop=0.7,seed=5,tableone=TRUE)\n",
    "tab1"
   ]
  },
  {
   "cell_type": "markdown",
   "metadata": {},
   "source": [
    "in table1 we are checking if there is diff. between train and test, b/c they suppos. to be not signiffently diff. (higher then 0.05 pvalue). if some var. less, we have to balance this variable"
   ]
  },
  {
   "cell_type": "code",
   "execution_count": 9,
   "metadata": {},
   "outputs": [
    {
     "data": {
      "text/html": [
       "<table>\n",
       "<caption>A tibble: 1 × 6</caption>\n",
       "<thead>\n",
       "\t<tr><th scope=col>V1</th><th scope=col>V2</th><th scope=col>Pop</th><th scope=col>1</th><th scope=col>2</th><th scope=col>pval</th></tr>\n",
       "\t<tr><th scope=col>&lt;chr&gt;</th><th scope=col>&lt;chr&gt;</th><th scope=col>&lt;chr&gt;</th><th scope=col>&lt;chr&gt;</th><th scope=col>&lt;chr&gt;</th><th scope=col>&lt;chr&gt;</th></tr>\n",
       "</thead>\n",
       "<tbody>\n",
       "\t<tr><td>traintest_ind_</td><td>Median (IQR)</td><td>1.0 (1.0-2.0)</td><td>NA</td><td>NA</td><td>0</td></tr>\n",
       "</tbody>\n",
       "</table>\n"
      ],
      "text/latex": [
       "A tibble: 1 × 6\n",
       "\\begin{tabular}{llllll}\n",
       " V1 & V2 & Pop & 1 & 2 & pval\\\\\n",
       " <chr> & <chr> & <chr> & <chr> & <chr> & <chr>\\\\\n",
       "\\hline\n",
       "\t traintest\\_ind\\_ & Median (IQR) & 1.0 (1.0-2.0) & NA & NA & 0\\\\\n",
       "\\end{tabular}\n"
      ],
      "text/markdown": [
       "\n",
       "A tibble: 1 × 6\n",
       "\n",
       "| V1 &lt;chr&gt; | V2 &lt;chr&gt; | Pop &lt;chr&gt; | 1 &lt;chr&gt; | 2 &lt;chr&gt; | pval &lt;chr&gt; |\n",
       "|---|---|---|---|---|---|\n",
       "| traintest_ind_ | Median (IQR) | 1.0 (1.0-2.0) | NA | NA | 0 |\n",
       "\n"
      ],
      "text/plain": [
       "  V1             V2           Pop           1  2  pval\n",
       "1 traintest_ind_ Median (IQR) 1.0 (1.0-2.0) NA NA 0   "
      ]
     },
     "metadata": {},
     "output_type": "display_data"
    }
   ],
   "source": [
    "tab1 %>% filter(pval < 0.05)"
   ]
  },
  {
   "cell_type": "markdown",
   "metadata": {},
   "source": [
    "# MODELS"
   ]
  },
  {
   "cell_type": "code",
   "execution_count": 10,
   "metadata": {},
   "outputs": [],
   "source": [
    "### The error we will use is the RMSE and RMSLE\n",
    "rmse <- function(y,y_hat) {\n",
    "    err <- sqrt(sum((y_hat-y)^2,na.rm=T)/length(y))\n",
    "    return(err)\n",
    "}\n",
    "\n",
    "rmsle <- function(y,y_hat) {\n",
    "    err <- sqrt(sum((log(y_hat+1)-log(y+1))^2,na.rm=T)/length(y))\n",
    "    return(err)\n",
    "}\n"
   ]
  },
  {
   "cell_type": "code",
   "execution_count": 11,
   "metadata": {},
   "outputs": [],
   "source": [
    "### Table of resulting errors\n",
    "### Name, Model, RMSE, RMSLE\n",
    "err_res <- NULL"
   ]
  },
  {
   "cell_type": "markdown",
   "metadata": {},
   "source": [
    "## Linear Models"
   ]
  },
  {
   "cell_type": "code",
   "execution_count": 12,
   "metadata": {},
   "outputs": [
    {
     "data": {
      "text/plain": [
       "\n",
       "Call:\n",
       "lm(formula = cnt ~ ., data = train)\n",
       "\n",
       "Residuals:\n",
       "    Min      1Q  Median      3Q     Max \n",
       "-2351.2  -281.8    49.3   315.1  1643.8 \n",
       "\n",
       "Coefficients: (1 not defined because of singularities)\n",
       "             Estimate Std. Error t value Pr(>|t|)    \n",
       "(Intercept)  1765.418    304.169   5.804 2.17e-08 ***\n",
       "id             -5.444      4.133  -1.317 0.189147    \n",
       "season2       480.129    212.698   2.257 0.024943 *  \n",
       "season3       868.711    252.799   3.436 0.000702 ***\n",
       "season4      1231.007    215.068   5.724 3.29e-08 ***\n",
       "mnth2         390.491    226.880   1.721 0.086595 .  \n",
       "mnth3         663.199    309.957   2.140 0.033455 *  \n",
       "mnth4        1290.897    464.783   2.777 0.005939 ** \n",
       "mnth5        2251.882    568.274   3.963 9.94e-05 ***\n",
       "mnth6        2106.798    690.979   3.049 0.002570 ** \n",
       "mnth7        1347.358    826.740   1.630 0.104553    \n",
       "mnth8        1851.927    927.585   1.997 0.047079 *  \n",
       "mnth9        2199.177   1028.174   2.139 0.033515 *  \n",
       "mnth10       2396.705   1151.136   2.082 0.038465 *  \n",
       "mnth11       2256.498   1269.729   1.777 0.076889 .  \n",
       "mnth12       2311.622   1392.214   1.660 0.098222 .  \n",
       "holiday1      227.425    290.044   0.784 0.433800    \n",
       "weekday1       37.742    145.701   0.259 0.795841    \n",
       "weekday2       99.071    137.390   0.721 0.471600    \n",
       "weekday3       40.572    139.379   0.291 0.771246    \n",
       "weekday4      117.240    136.365   0.860 0.390836    \n",
       "weekday5       72.819    134.964   0.540 0.590041    \n",
       "weekday6       21.999    133.145   0.165 0.868911    \n",
       "workingday1        NA         NA      NA       NA    \n",
       "weathersit2  -342.885     98.178  -3.492 0.000576 ***\n",
       "weathersit3 -1506.675    225.946  -6.668 1.96e-10 ***\n",
       "temp         3304.623   2801.179   1.180 0.239350    \n",
       "atemp         -85.538   2990.349  -0.029 0.977205    \n",
       "hum         -1095.564    356.170  -3.076 0.002357 ** \n",
       "windspeed   -1755.689    562.171  -3.123 0.002024 ** \n",
       "---\n",
       "Signif. codes:  0 '***' 0.001 '**' 0.01 '*' 0.05 '.' 0.1 ' ' 1\n",
       "\n",
       "Residual standard error: 569.5 on 226 degrees of freedom\n",
       "Multiple R-squared:  0.8448,\tAdjusted R-squared:  0.8256 \n",
       "F-statistic: 43.94 on 28 and 226 DF,  p-value: < 2.2e-16\n"
      ]
     },
     "metadata": {},
     "output_type": "display_data"
    }
   ],
   "source": [
    "## model with only the original variables\n",
    "mod1 <- lm(cnt ~., data=train)\n",
    "summary(mod1)"
   ]
  },
  {
   "cell_type": "code",
   "execution_count": 13,
   "metadata": {},
   "outputs": [
    {
     "name": "stderr",
     "output_type": "stream",
     "text": [
      "Warning message in predict.lm(mod1, newdata = test):\n",
      "\"prediction from a rank-deficient fit may be misleading\"\n"
     ]
    },
    {
     "data": {
      "text/html": [
       "633.022439629788"
      ],
      "text/latex": [
       "633.022439629788"
      ],
      "text/markdown": [
       "633.022439629788"
      ],
      "text/plain": [
       "[1] 633.0224"
      ]
     },
     "metadata": {},
     "output_type": "display_data"
    },
    {
     "data": {
      "text/html": [
       "0.246767816608799"
      ],
      "text/latex": [
       "0.246767816608799"
      ],
      "text/markdown": [
       "0.246767816608799"
      ],
      "text/plain": [
       "[1] 0.2467678"
      ]
     },
     "metadata": {},
     "output_type": "display_data"
    }
   ],
   "source": [
    "pred1 <- predict(mod1,newdata=test)\n",
    "rmse(test$cnt,pred1)\n",
    "rmsle(test$cnt,pred1)\n",
    "err_res <- rbind(err_res, data.frame(Name=\"Base Linear regression\", Model=\"mod1\", \n",
    "                                     RMSE=rmse(test$cnt,pred1), \n",
    "                                     RMSLE=rmsle(test$cnt,pred1)))"
   ]
  },
  {
   "cell_type": "code",
   "execution_count": 63,
   "metadata": {},
   "outputs": [
    {
     "data": {
      "text/plain": [
       "\n",
       "Call:\n",
       "lm(formula = cnt ~ ., data = train)\n",
       "\n",
       "Residuals:\n",
       "    Min      1Q  Median      3Q     Max \n",
       "-2351.2  -281.8    49.3   315.1  1643.8 \n",
       "\n",
       "Coefficients: (11 not defined because of singularities)\n",
       "              Estimate Std. Error t value Pr(>|t|)    \n",
       "(Intercept)   1765.418    304.169   5.804 2.17e-08 ***\n",
       "id              -5.444      4.133  -1.317 0.189147    \n",
       "season2        480.129    212.698   2.257 0.024943 *  \n",
       "season3        868.711    252.799   3.436 0.000702 ***\n",
       "season4       1231.007    215.068   5.724 3.29e-08 ***\n",
       "mnth2          390.491    226.880   1.721 0.086595 .  \n",
       "mnth3          663.199    309.957   2.140 0.033455 *  \n",
       "mnth4         1290.897    464.783   2.777 0.005939 ** \n",
       "mnth5         2251.882    568.274   3.963 9.94e-05 ***\n",
       "mnth6         2106.798    690.979   3.049 0.002570 ** \n",
       "mnth7         1347.358    826.740   1.630 0.104553    \n",
       "mnth8         1851.927    927.585   1.997 0.047079 *  \n",
       "mnth9         2199.177   1028.174   2.139 0.033515 *  \n",
       "mnth10        2396.705   1151.136   2.082 0.038465 *  \n",
       "mnth11        2256.498   1269.729   1.777 0.076889 .  \n",
       "mnth12        2311.622   1392.214   1.660 0.098222 .  \n",
       "holiday1       227.425    290.044   0.784 0.433800    \n",
       "weekday1        37.742    145.701   0.259 0.795841    \n",
       "weekday2        99.071    137.390   0.721 0.471600    \n",
       "weekday3        40.572    139.379   0.291 0.771246    \n",
       "weekday4       117.240    136.365   0.860 0.390836    \n",
       "weekday5        72.819    134.964   0.540 0.590041    \n",
       "weekday6        21.999    133.145   0.165 0.868911    \n",
       "workingday2   -342.885     98.178  -3.492 0.000576 ***\n",
       "workingday3  -1506.675    225.946  -6.668 1.96e-10 ***\n",
       "weathersit2         NA         NA      NA       NA    \n",
       "weathersit3         NA         NA      NA       NA    \n",
       "weathersit4         NA         NA      NA       NA    \n",
       "weathersit5         NA         NA      NA       NA    \n",
       "weathersit6         NA         NA      NA       NA    \n",
       "weathersit7         NA         NA      NA       NA    \n",
       "weathersit8         NA         NA      NA       NA    \n",
       "weathersit9         NA         NA      NA       NA    \n",
       "weathersit10        NA         NA      NA       NA    \n",
       "weathersit11        NA         NA      NA       NA    \n",
       "weathersit12        NA         NA      NA       NA    \n",
       "temp          3304.623   2801.179   1.180 0.239350    \n",
       "atemp          -85.538   2990.349  -0.029 0.977205    \n",
       "hum          -1095.564    356.170  -3.076 0.002357 ** \n",
       "windspeed    -1755.689    562.171  -3.123 0.002024 ** \n",
       "---\n",
       "Signif. codes:  0 '***' 0.001 '**' 0.01 '*' 0.05 '.' 0.1 ' ' 1\n",
       "\n",
       "Residual standard error: 569.5 on 226 degrees of freedom\n",
       "Multiple R-squared:  0.8448,\tAdjusted R-squared:  0.8256 \n",
       "F-statistic: 43.94 on 28 and 226 DF,  p-value: < 2.2e-16\n"
      ]
     },
     "metadata": {},
     "output_type": "display_data"
    }
   ],
   "source": [
    "## model with all the variables\n",
    "mod2 <- lm(cnt ~., data=train)\n",
    "summary(mod2)"
   ]
  },
  {
   "cell_type": "code",
   "execution_count": 64,
   "metadata": {},
   "outputs": [
    {
     "name": "stderr",
     "output_type": "stream",
     "text": [
      "Warning message in predict.lm(mod2, newdata = test):\n",
      "\"prediction from a rank-deficient fit may be misleading\"\n"
     ]
    },
    {
     "data": {
      "text/html": [
       "633.022439629788"
      ],
      "text/latex": [
       "633.022439629788"
      ],
      "text/markdown": [
       "633.022439629788"
      ],
      "text/plain": [
       "[1] 633.0224"
      ]
     },
     "metadata": {},
     "output_type": "display_data"
    },
    {
     "data": {
      "text/html": [
       "0.246767816608799"
      ],
      "text/latex": [
       "0.246767816608799"
      ],
      "text/markdown": [
       "0.246767816608799"
      ],
      "text/plain": [
       "[1] 0.2467678"
      ]
     },
     "metadata": {},
     "output_type": "display_data"
    }
   ],
   "source": [
    "pred2 <- predict(mod2,newdata=test)\n",
    "rmse(test$cnt,pred2)\n",
    "rmsle(test$cnt,pred2)\n",
    "err_res <- rbind(err_res, data.frame(Name=\"Extended Linear regression\", Model=\"mod2\", \n",
    "                                     RMSE=rmse(test$cnt,pred2), \n",
    "                                     RMSLE=rmsle(test$cnt,pred2)))"
   ]
  },
  {
   "cell_type": "markdown",
   "metadata": {},
   "source": [
    "## Desicion trees"
   ]
  },
  {
   "cell_type": "code",
   "execution_count": 14,
   "metadata": {},
   "outputs": [],
   "source": [
    "library(tree)\n",
    "library(rpart)"
   ]
  },
  {
   "cell_type": "code",
   "execution_count": 15,
   "metadata": {},
   "outputs": [
    {
     "data": {
      "text/plain": [
       "node), split, n, deviance, yval\n",
       "      * denotes terminal node\n",
       "\n",
       " 1) root 255 472200000 3444  \n",
       "   2) id < 103.5 72  29950000 1794  \n",
       "     4) id < 44.5 28   4019000 1264 *\n",
       "     5) id > 44.5 44  13030000 2132  \n",
       "      10) atemp < 0.42201 37   6977000 1987 *\n",
       "      11) atemp > 0.42201 7   1163000 2898 *\n",
       "   3) id > 103.5 183 169400000 4092  \n",
       "     6) temp < 0.470834 56  40020000 3251  \n",
       "      12) id < 356.5 49  18920000 3464 *\n",
       "      13) id > 356.5 7   3391000 1764 *\n",
       "     7) temp > 0.470834 127  72340000 4463  \n",
       "      14) hum < 0.849375 115  32820000 4603  \n",
       "        28) atemp < 0.714015 103  25500000 4679 *\n",
       "        29) atemp > 0.714015 12   1704000 3956 *\n",
       "      15) hum > 0.849375 12  15640000 3121 *"
      ]
     },
     "metadata": {},
     "output_type": "display_data"
    }
   ],
   "source": [
    "mod3 <- tree(cnt ~., data=train)\n",
    "mod3"
   ]
  },
  {
   "cell_type": "code",
   "execution_count": 16,
   "metadata": {},
   "outputs": [
    {
     "data": {
      "text/html": [
       "783.253859204718"
      ],
      "text/latex": [
       "783.253859204718"
      ],
      "text/markdown": [
       "783.253859204718"
      ],
      "text/plain": [
       "[1] 783.2539"
      ]
     },
     "metadata": {},
     "output_type": "display_data"
    },
    {
     "data": {
      "text/html": [
       "0.354204005789637"
      ],
      "text/latex": [
       "0.354204005789637"
      ],
      "text/markdown": [
       "0.354204005789637"
      ],
      "text/plain": [
       "[1] 0.354204"
      ]
     },
     "metadata": {},
     "output_type": "display_data"
    }
   ],
   "source": [
    "pred3 <- predict(mod3,newdata=test)\n",
    "rmse(test$cnt,pred3)\n",
    "rmsle(test$cnt,pred3)\n",
    "err_res <- rbind(err_res, data.frame(Name=\"Decision Trees-tree\", Model=\"mod3\", \n",
    "                                     RMSE=rmse(test$cnt,pred3), \n",
    "                                     RMSLE=rmsle(test$cnt,pred3)))"
   ]
  },
  {
   "cell_type": "code",
   "execution_count": 17,
   "metadata": {},
   "outputs": [
    {
     "data": {
      "text/plain": [
       "n= 255 \n",
       "\n",
       "node), split, n, deviance, yval\n",
       "      * denotes terminal node\n",
       "\n",
       " 1) root 255 472245600 3443.518  \n",
       "   2) id< 103.5 72  29945000 1794.347  \n",
       "     4) id< 44.5 28   4019411 1263.750 *\n",
       "     5) id>=44.5 44  13026240 2132.000  \n",
       "      10) atemp< 0.42201 37   6976874 1987.054 *\n",
       "      11) atemp>=0.42201 7   1163201 2898.143 *\n",
       "   3) id>=103.5 183 169432600 4092.372  \n",
       "     6) temp< 0.4708335 56  40016160 3251.321  \n",
       "      12) id>=356.5 7   3391103 1763.714 *\n",
       "      13) id< 356.5 49  18921250 3463.837 *\n",
       "     7) temp>=0.4708335 127  72337040 4463.228  \n",
       "      14) hum>=0.849375 12  15644150 3121.167 *\n",
       "      15) hum< 0.849375 115  32824010 4603.270  \n",
       "        30) atemp>=0.7140145 12   1704387 3955.667 *\n",
       "        31) atemp< 0.7140145 103  25500620 4678.718 *"
      ]
     },
     "metadata": {},
     "output_type": "display_data"
    }
   ],
   "source": [
    "mod4 <- rpart(cnt ~., data=train)\n",
    "mod4"
   ]
  },
  {
   "cell_type": "code",
   "execution_count": 18,
   "metadata": {},
   "outputs": [
    {
     "data": {
      "text/html": [
       "783.253859204718"
      ],
      "text/latex": [
       "783.253859204718"
      ],
      "text/markdown": [
       "783.253859204718"
      ],
      "text/plain": [
       "[1] 783.2539"
      ]
     },
     "metadata": {},
     "output_type": "display_data"
    },
    {
     "data": {
      "text/html": [
       "0.354204005789637"
      ],
      "text/latex": [
       "0.354204005789637"
      ],
      "text/markdown": [
       "0.354204005789637"
      ],
      "text/plain": [
       "[1] 0.354204"
      ]
     },
     "metadata": {},
     "output_type": "display_data"
    }
   ],
   "source": [
    "pred4 <- predict(mod4,newdata=test)\n",
    "rmse(test$cnt,pred4)\n",
    "rmsle(test$cnt,pred4)\n",
    "err_res <- rbind(err_res, data.frame(Name=\"Decision Trees-rpart\", Model=\"mod4\", \n",
    "                                     RMSE=rmse(test$cnt,pred4), \n",
    "                                     RMSLE=rmsle(test$cnt,pred4)))"
   ]
  },
  {
   "cell_type": "markdown",
   "metadata": {},
   "source": [
    "## Random Forest"
   ]
  },
  {
   "cell_type": "code",
   "execution_count": 19,
   "metadata": {},
   "outputs": [
    {
     "name": "stderr",
     "output_type": "stream",
     "text": [
      "randomForest 4.6-14\n",
      "\n",
      "Type rfNews() to see new features/changes/bug fixes.\n",
      "\n",
      "\n",
      "Attaching package: 'randomForest'\n",
      "\n",
      "\n",
      "The following object is masked from 'package:ggplot2':\n",
      "\n",
      "    margin\n",
      "\n",
      "\n",
      "The following object is masked from 'package:dplyr':\n",
      "\n",
      "    combine\n",
      "\n",
      "\n",
      "\n",
      "Attaching package: 'ranger'\n",
      "\n",
      "\n",
      "The following object is masked from 'package:randomForest':\n",
      "\n",
      "    importance\n",
      "\n",
      "\n"
     ]
    }
   ],
   "source": [
    "library(randomForest)\n",
    "library(ranger)"
   ]
  },
  {
   "cell_type": "code",
   "execution_count": 20,
   "metadata": {},
   "outputs": [
    {
     "data": {
      "text/plain": [
       "\n",
       "Call:\n",
       " randomForest(formula = cnt ~ ., data = train) \n",
       "               Type of random forest: regression\n",
       "                     Number of trees: 500\n",
       "No. of variables tried at each split: 3\n",
       "\n",
       "          Mean of squared residuals: 269446.8\n",
       "                    % Var explained: 85.45"
      ]
     },
     "metadata": {},
     "output_type": "display_data"
    }
   ],
   "source": [
    "mod5 <- randomForest(cnt ~., data=train)\n",
    "mod5"
   ]
  },
  {
   "cell_type": "code",
   "execution_count": 21,
   "metadata": {},
   "outputs": [
    {
     "data": {
      "text/html": [
       "597.521557290615"
      ],
      "text/latex": [
       "597.521557290615"
      ],
      "text/markdown": [
       "597.521557290615"
      ],
      "text/plain": [
       "[1] 597.5216"
      ]
     },
     "metadata": {},
     "output_type": "display_data"
    },
    {
     "data": {
      "text/html": [
       "0.300826125987314"
      ],
      "text/latex": [
       "0.300826125987314"
      ],
      "text/markdown": [
       "0.300826125987314"
      ],
      "text/plain": [
       "[1] 0.3008261"
      ]
     },
     "metadata": {},
     "output_type": "display_data"
    }
   ],
   "source": [
    "pred5 <- predict(mod5,newdata=test)\n",
    "rmse(test$cnt,pred5)\n",
    "rmsle(test$cnt,pred5)\n",
    "\n",
    "err_res <- rbind(err_res, data.frame(Name=\"RandomForest (RF)\", Model=\"mod5\", \n",
    "                                     RMSE=rmse(test$cnt,pred5), \n",
    "                                     RMSLE=rmsle(test$cnt,pred5)))"
   ]
  },
  {
   "cell_type": "code",
   "execution_count": 22,
   "metadata": {},
   "outputs": [
    {
     "data": {
      "text/plain": [
       "Ranger result\n",
       "\n",
       "Call:\n",
       " ranger(cnt ~ ., data = train) \n",
       "\n",
       "Type:                             Regression \n",
       "Number of trees:                  500 \n",
       "Sample size:                      255 \n",
       "Number of independent variables:  11 \n",
       "Mtry:                             3 \n",
       "Target node size:                 5 \n",
       "Variable importance mode:         none \n",
       "Splitrule:                        variance \n",
       "OOB prediction error (MSE):       260690.7 \n",
       "R squared (OOB):                  0.859786 "
      ]
     },
     "metadata": {},
     "output_type": "display_data"
    }
   ],
   "source": [
    "mod6 <- ranger(cnt ~., data=train)\n",
    "mod6"
   ]
  },
  {
   "cell_type": "code",
   "execution_count": 23,
   "metadata": {},
   "outputs": [
    {
     "data": {
      "text/html": [
       "577.101450457411"
      ],
      "text/latex": [
       "577.101450457411"
      ],
      "text/markdown": [
       "577.101450457411"
      ],
      "text/plain": [
       "[1] 577.1015"
      ]
     },
     "metadata": {},
     "output_type": "display_data"
    },
    {
     "data": {
      "text/html": [
       "0.292560141290421"
      ],
      "text/latex": [
       "0.292560141290421"
      ],
      "text/markdown": [
       "0.292560141290421"
      ],
      "text/plain": [
       "[1] 0.2925601"
      ]
     },
     "metadata": {},
     "output_type": "display_data"
    }
   ],
   "source": [
    "pred6 <- predict(mod6,data=test)\n",
    "#head(pred6)\n",
    "rmse(test$cnt, pred6$predictions)\n",
    "rmsle(test$cnt, pred6$predictions)\n",
    "err_res <- rbind(err_res, data.frame(Name=\"RandomForest (ranger)\", Model=\"mod6\", \n",
    "                                     RMSE=rmse(test$cnt,pred6$predictions), \n",
    "                                     RMSLE=rmsle(test$cnt,pred6$predictions)))"
   ]
  },
  {
   "cell_type": "markdown",
   "metadata": {},
   "source": [
    "## XGBoost"
   ]
  },
  {
   "cell_type": "code",
   "execution_count": 24,
   "metadata": {},
   "outputs": [
    {
     "name": "stderr",
     "output_type": "stream",
     "text": [
      "Installing package into 'C:/Users/Rita/Documents/R/win-library/4.0'\n",
      "(as 'lib' is unspecified)\n",
      "\n"
     ]
    },
    {
     "name": "stdout",
     "output_type": "stream",
     "text": [
      "package 'xgboost' successfully unpacked and MD5 sums checked\n"
     ]
    },
    {
     "name": "stderr",
     "output_type": "stream",
     "text": [
      "Warning message:\n",
      "\"cannot remove prior installation of package 'xgboost'\"\n",
      "Warning message in file.copy(savedcopy, lib, recursive = TRUE):\n",
      "\"problem copying C:\\Users\\Rita\\Documents\\R\\win-library\\4.0\\00LOCK\\xgboost\\libs\\x64\\xgboost.dll to C:\\Users\\Rita\\Documents\\R\\win-library\\4.0\\xgboost\\libs\\x64\\xgboost.dll: Permission denied\"\n",
      "Warning message:\n",
      "\"restored 'xgboost'\"\n"
     ]
    },
    {
     "name": "stdout",
     "output_type": "stream",
     "text": [
      "\n",
      "The downloaded binary packages are in\n",
      "\tC:\\Users\\Rita\\AppData\\Local\\Temp\\RtmpAV1GO1\\downloaded_packages\n"
     ]
    }
   ],
   "source": [
    "#install.packages(\"xgboost\")"
   ]
  },
  {
   "cell_type": "code",
   "execution_count": 26,
   "metadata": {},
   "outputs": [],
   "source": [
    "library(xgboost)"
   ]
  },
  {
   "cell_type": "code",
   "execution_count": 27,
   "metadata": {},
   "outputs": [],
   "source": [
    "train_num <- train"
   ]
  },
  {
   "cell_type": "code",
   "execution_count": 28,
   "metadata": {},
   "outputs": [],
   "source": [
    "test_num <- test"
   ]
  },
  {
   "cell_type": "code",
   "execution_count": 29,
   "metadata": {},
   "outputs": [],
   "source": [
    "train_num$season <- as.numeric(train_num$season)\n",
    "train_num$mnth <- as.numeric(train_num$mnth)\n",
    "train_num$holiday <- as.numeric(train_num$holiday)\n",
    "train_num$weekday <- as.numeric(train_num$weekday)\n",
    "train_num$workingday <- as.numeric(train_num$weathersit)\n",
    "train_num$weathersit <- as.numeric(train_num$mnth)"
   ]
  },
  {
   "cell_type": "code",
   "execution_count": 30,
   "metadata": {},
   "outputs": [],
   "source": [
    "test_num$season <- as.numeric(test_num$season)\n",
    "test_num$mnth <- as.numeric(test_num$mnth)\n",
    "test_num$holiday <- as.numeric(test_num$holiday)\n",
    "test_num$weekday <- as.numeric(test_num$weekday)\n",
    "test_num$workingday <- as.numeric(test_num$weathersit)\n",
    "test_num$weathersit <- as.numeric(test_num$mnth)"
   ]
  },
  {
   "cell_type": "code",
   "execution_count": 31,
   "metadata": {},
   "outputs": [
    {
     "data": {
      "text/plain": [
       "       id            season           mnth           holiday     \n",
       " Min.   :  6.0   Min.   :1.000   Min.   : 1.000   Min.   :1.000  \n",
       " 1st Qu.: 88.0   1st Qu.:1.250   1st Qu.: 3.250   1st Qu.:1.000  \n",
       " Median :184.5   Median :3.000   Median : 7.000   Median :1.000  \n",
       " Mean   :181.4   Mean   :2.518   Mean   : 6.482   Mean   :1.045  \n",
       " 3rd Qu.:277.0   3rd Qu.:3.750   3rd Qu.:10.000   3rd Qu.:1.000  \n",
       " Max.   :364.0   Max.   :4.000   Max.   :12.000   Max.   :2.000  \n",
       "    weekday        workingday      weathersit          temp        \n",
       " Min.   :1.000   Min.   :1.000   Min.   : 1.000   Min.   :0.05913  \n",
       " 1st Qu.:2.000   1st Qu.:1.000   1st Qu.: 3.250   1st Qu.:0.33354  \n",
       " Median :4.000   Median :1.000   Median : 7.000   Median :0.47250  \n",
       " Mean   :3.855   Mean   :1.391   Mean   : 6.482   Mean   :0.47943  \n",
       " 3rd Qu.:5.750   3rd Qu.:2.000   3rd Qu.:10.000   3rd Qu.:0.65354  \n",
       " Max.   :7.000   Max.   :3.000   Max.   :12.000   Max.   :0.83833  \n",
       "     atemp              hum           windspeed            cnt      \n",
       " Min.   :0.07907   Min.   :0.3758   Min.   :0.04541   Min.   : 605  \n",
       " 1st Qu.:0.32757   1st Qu.:0.5380   1st Qu.:0.13495   1st Qu.:1916  \n",
       " Median :0.46527   Median :0.6458   Median :0.18357   Median :3578  \n",
       " Mean   :0.46129   Mean   :0.6511   Mean   :0.19374   Mean   :3318  \n",
       " 3rd Qu.:0.60414   3rd Qu.:0.7472   3rd Qu.:0.23991   3rd Qu.:4546  \n",
       " Max.   :0.78597   Max.   :0.9704   Max.   :0.41791   Max.   :5923  "
      ]
     },
     "metadata": {},
     "output_type": "display_data"
    }
   ],
   "source": [
    "summary(test_num)"
   ]
  },
  {
   "cell_type": "code",
   "execution_count": 91,
   "metadata": {},
   "outputs": [
    {
     "data": {
      "text/plain": [
       "       id            season          mnth           holiday        weekday     \n",
       " Min.   :  1.0   Min.   :1.00   Min.   : 1.000   Min.   :1.00   Min.   :1.000  \n",
       " 1st Qu.: 92.5   1st Qu.:2.00   1st Qu.: 4.000   1st Qu.:1.00   1st Qu.:2.000  \n",
       " Median :181.0   Median :2.00   Median : 6.000   Median :1.00   Median :4.000  \n",
       " Mean   :183.7   Mean   :2.49   Mean   : 6.545   Mean   :1.02   Mean   :4.075  \n",
       " 3rd Qu.:272.5   3rd Qu.:3.00   3rd Qu.: 9.000   3rd Qu.:1.00   3rd Qu.:6.000  \n",
       " Max.   :365.0   Max.   :4.00   Max.   :12.000   Max.   :2.00   Max.   :7.000  \n",
       "   workingday       weathersit          temp            atemp       \n",
       " Min.   : 1.000   Min.   : 1.000   Min.   :0.1348   Min.   :0.1162  \n",
       " 1st Qu.: 4.000   1st Qu.: 4.000   1st Qu.:0.3183   1st Qu.:0.3207  \n",
       " Median : 6.000   Median : 6.000   Median :0.4842   Median :0.4729  \n",
       " Mean   : 6.545   Mean   : 6.545   Mean   :0.4898   Mean   :0.4692  \n",
       " 3rd Qu.: 9.000   3rd Qu.: 9.000   3rd Qu.:0.6583   3rd Qu.:0.6140  \n",
       " Max.   :12.000   Max.   :12.000   Max.   :0.8492   Max.   :0.8409  \n",
       "      hum           windspeed            cnt      \n",
       " Min.   :0.0000   Min.   :0.02239   Min.   : 431  \n",
       " 1st Qu.:0.5406   1st Qu.:0.13749   1st Qu.:2186  \n",
       " Median :0.6475   Median :0.18843   Median :3750  \n",
       " Mean   :0.6404   Mean   :0.19039   Mean   :3444  \n",
       " 3rd Qu.:0.7383   3rd Qu.:0.23310   3rd Qu.:4591  \n",
       " Max.   :0.9725   Max.   :0.50746   Max.   :6043  "
      ]
     },
     "metadata": {},
     "output_type": "display_data"
    }
   ],
   "source": [
    "summary(train_num)"
   ]
  },
  {
   "cell_type": "markdown",
   "metadata": {},
   "source": [
    " לוקח את הרשימה שנמצא בהתחלה ומוריד את הרשימה שנמצא בחלק השני, במקרה הזה זה לא רשימה אלה המשתנה המסביר אבל יכול להיות גם רשימה, צריך להוריד את המשתנה המסביר מטסט"
   ]
  },
  {
   "cell_type": "code",
   "execution_count": 32,
   "metadata": {},
   "outputs": [
    {
     "data": {
      "text/html": [
       "<style>\n",
       ".list-inline {list-style: none; margin:0; padding: 0}\n",
       ".list-inline>li {display: inline-block}\n",
       ".list-inline>li:not(:last-child)::after {content: \"\\00b7\"; padding: 0 .5ex}\n",
       "</style>\n",
       "<ol class=list-inline><li>'id'</li><li>'season'</li><li>'mnth'</li><li>'holiday'</li><li>'weekday'</li><li>'workingday'</li><li>'weathersit'</li><li>'temp'</li><li>'atemp'</li><li>'hum'</li><li>'windspeed'</li></ol>\n"
      ],
      "text/latex": [
       "\\begin{enumerate*}\n",
       "\\item 'id'\n",
       "\\item 'season'\n",
       "\\item 'mnth'\n",
       "\\item 'holiday'\n",
       "\\item 'weekday'\n",
       "\\item 'workingday'\n",
       "\\item 'weathersit'\n",
       "\\item 'temp'\n",
       "\\item 'atemp'\n",
       "\\item 'hum'\n",
       "\\item 'windspeed'\n",
       "\\end{enumerate*}\n"
      ],
      "text/markdown": [
       "1. 'id'\n",
       "2. 'season'\n",
       "3. 'mnth'\n",
       "4. 'holiday'\n",
       "5. 'weekday'\n",
       "6. 'workingday'\n",
       "7. 'weathersit'\n",
       "8. 'temp'\n",
       "9. 'atemp'\n",
       "10. 'hum'\n",
       "11. 'windspeed'\n",
       "\n",
       "\n"
      ],
      "text/plain": [
       " [1] \"id\"         \"season\"     \"mnth\"       \"holiday\"    \"weekday\"   \n",
       " [6] \"workingday\" \"weathersit\" \"temp\"       \"atemp\"      \"hum\"       \n",
       "[11] \"windspeed\" "
      ]
     },
     "metadata": {},
     "output_type": "display_data"
    }
   ],
   "source": [
    "nm<-setdiff(names(train_num), \"cnt\")\n",
    "nm"
   ]
  },
  {
   "cell_type": "code",
   "execution_count": 33,
   "metadata": {},
   "outputs": [
    {
     "data": {
      "text/plain": [
       "       id            season          mnth           holiday        weekday     \n",
       " Min.   :  1.0   Min.   :1.00   Min.   : 1.000   Min.   :1.00   Min.   :1.000  \n",
       " 1st Qu.: 92.5   1st Qu.:2.00   1st Qu.: 4.000   1st Qu.:1.00   1st Qu.:2.000  \n",
       " Median :181.0   Median :2.00   Median : 6.000   Median :1.00   Median :4.000  \n",
       " Mean   :183.7   Mean   :2.49   Mean   : 6.545   Mean   :1.02   Mean   :4.075  \n",
       " 3rd Qu.:272.5   3rd Qu.:3.00   3rd Qu.: 9.000   3rd Qu.:1.00   3rd Qu.:6.000  \n",
       " Max.   :365.0   Max.   :4.00   Max.   :12.000   Max.   :2.00   Max.   :7.000  \n",
       "   workingday      weathersit          temp            atemp       \n",
       " Min.   :1.000   Min.   : 1.000   Min.   :0.1348   Min.   :0.1162  \n",
       " 1st Qu.:1.000   1st Qu.: 4.000   1st Qu.:0.3183   1st Qu.:0.3207  \n",
       " Median :1.000   Median : 6.000   Median :0.4842   Median :0.4729  \n",
       " Mean   :1.435   Mean   : 6.545   Mean   :0.4898   Mean   :0.4692  \n",
       " 3rd Qu.:2.000   3rd Qu.: 9.000   3rd Qu.:0.6583   3rd Qu.:0.6140  \n",
       " Max.   :3.000   Max.   :12.000   Max.   :0.8492   Max.   :0.8409  \n",
       "      hum           windspeed            cnt      \n",
       " Min.   :0.0000   Min.   :0.02239   Min.   : 431  \n",
       " 1st Qu.:0.5406   1st Qu.:0.13749   1st Qu.:2186  \n",
       " Median :0.6475   Median :0.18843   Median :3750  \n",
       " Mean   :0.6404   Mean   :0.19039   Mean   :3444  \n",
       " 3rd Qu.:0.7383   3rd Qu.:0.23310   3rd Qu.:4591  \n",
       " Max.   :0.9725   Max.   :0.50746   Max.   :6043  "
      ]
     },
     "metadata": {},
     "output_type": "display_data"
    }
   ],
   "source": [
    "summary(train_num)"
   ]
  },
  {
   "cell_type": "code",
   "execution_count": 34,
   "metadata": {},
   "outputs": [
    {
     "name": "stdout",
     "output_type": "stream",
     "text": [
      "[1]\ttrain-rmse:2636.455811 \n",
      "[11]\ttrain-rmse:192.233932 \n",
      "[21]\ttrain-rmse:81.790916 \n",
      "[31]\ttrain-rmse:40.084064 \n",
      "[41]\ttrain-rmse:24.109116 \n",
      "[51]\ttrain-rmse:14.954153 \n",
      "[61]\ttrain-rmse:9.635825 \n",
      "[71]\ttrain-rmse:6.721480 \n",
      "[81]\ttrain-rmse:3.406991 \n",
      "[91]\ttrain-rmse:2.125056 \n",
      "[100]\ttrain-rmse:1.309937 \n"
     ]
    }
   ],
   "source": [
    "X_train <- data.matrix(train_num[,nm])\n",
    "y_train <- train_num$cnt\n",
    "mod7 <- xgboost(data=X_train, label = y_train, nrounds=100,print_every_n = 10)"
   ]
  },
  {
   "cell_type": "code",
   "execution_count": 35,
   "metadata": {},
   "outputs": [
    {
     "data": {
      "text/html": [
       "579.891999593989"
      ],
      "text/latex": [
       "579.891999593989"
      ],
      "text/markdown": [
       "579.891999593989"
      ],
      "text/plain": [
       "[1] 579.892"
      ]
     },
     "metadata": {},
     "output_type": "display_data"
    },
    {
     "data": {
      "text/html": [
       "0.287094999153496"
      ],
      "text/latex": [
       "0.287094999153496"
      ],
      "text/markdown": [
       "0.287094999153496"
      ],
      "text/plain": [
       "[1] 0.287095"
      ]
     },
     "metadata": {},
     "output_type": "display_data"
    }
   ],
   "source": [
    "#X_test <- xgb.DMatrix(test1)\n",
    "X_test <- data.matrix(test_num[,nm])\n",
    "y_test <- test_num$cnt\n",
    "\n",
    "pred7 <- predict(mod7,newdata=X_test)\n",
    "rmse(y_test,pred7)\n",
    "rmsle(y_test,pred7)\n",
    "err_res <- rbind(err_res, data.frame(Name=\"XGBoost\", Model=\"mod7\", \n",
    "                                     RMSE=rmse(test$cnt,pred7), \n",
    "                                     RMSLE=rmsle(test$cnt,pred7)))"
   ]
  },
  {
   "cell_type": "code",
   "execution_count": 51,
   "metadata": {},
   "outputs": [],
   "source": [
    "#train1 <- Matrix::sparse.model.matrix(cnt ~ .-1, data = train_num)"
   ]
  },
  {
   "cell_type": "code",
   "execution_count": 52,
   "metadata": {},
   "outputs": [],
   "source": [
    "#test1 <- Matrix::sparse.model.matrix(cnt ~ .-1, data = test_num)"
   ]
  },
  {
   "cell_type": "code",
   "execution_count": 95,
   "metadata": {},
   "outputs": [
    {
     "data": {
      "text/html": [
       "591.958241205142"
      ],
      "text/latex": [
       "591.958241205142"
      ],
      "text/markdown": [
       "591.958241205142"
      ],
      "text/plain": [
       "[1] 591.9582"
      ]
     },
     "metadata": {},
     "output_type": "display_data"
    },
    {
     "data": {
      "text/html": [
       "0.286850049645409"
      ],
      "text/latex": [
       "0.286850049645409"
      ],
      "text/markdown": [
       "0.286850049645409"
      ],
      "text/plain": [
       "[1] 0.28685"
      ]
     },
     "metadata": {},
     "output_type": "display_data"
    }
   ],
   "source": [
    "#X_test <- xgb.DMatrix(test1)\n",
    "\n",
    "#X_test <- test1\n",
    "#y_test <- test$cnt\n",
    "\n",
    "#pred7 <- predict(mod7,newdata=X_test)\n",
    "#rmse(y_test,pred7)\n",
    "#rmsle(y_test,pred7)\n",
    "#err_res <- rbind(err_res, data.frame(Name=\"XGBoost\", Model=\"mod7\", \n",
    "                                    # RMSE=rmse(test_num$cnt,pred7), \n",
    "                                    # RMSLE=rmsle(test_num$cnt,pred7)))"
   ]
  },
  {
   "cell_type": "markdown",
   "metadata": {},
   "source": [
    "## kNN "
   ]
  },
  {
   "cell_type": "code",
   "execution_count": 54,
   "metadata": {},
   "outputs": [],
   "source": [
    "### adaboost needs that values to be normalized\n",
    "min_max <- function(x) { (x -min(x))/(max(x)-min(x))   }"
   ]
  },
  {
   "cell_type": "code",
   "execution_count": 55,
   "metadata": {},
   "outputs": [],
   "source": [
    "X_train <- sapply(data.frame(as.matrix(train1)),min_max)"
   ]
  },
  {
   "cell_type": "code",
   "execution_count": 56,
   "metadata": {},
   "outputs": [],
   "source": [
    "X_test <- sapply(data.frame(as.matrix(test1)),min_max)"
   ]
  },
  {
   "cell_type": "code",
   "execution_count": 57,
   "metadata": {},
   "outputs": [
    {
     "data": {
      "text/plain": [
       "       id             season            mnth           holiday       \n",
       " Min.   :0.0000   Min.   :0.0000   Min.   :0.0000   Min.   :0.00000  \n",
       " 1st Qu.:0.2514   1st Qu.:0.3333   1st Qu.:0.2727   1st Qu.:0.00000  \n",
       " Median :0.4945   Median :0.3333   Median :0.4545   Median :0.00000  \n",
       " Mean   :0.5018   Mean   :0.4967   Mean   :0.5041   Mean   :0.01961  \n",
       " 3rd Qu.:0.7459   3rd Qu.:0.6667   3rd Qu.:0.7273   3rd Qu.:0.00000  \n",
       " Max.   :1.0000   Max.   :1.0000   Max.   :1.0000   Max.   :1.00000  \n",
       "    weekday         workingday       weathersit          temp       \n",
       " Min.   :0.0000   Min.   :0.0000   Min.   :0.0000   Min.   :0.0000  \n",
       " 1st Qu.:0.1667   1st Qu.:0.0000   1st Qu.:0.2727   1st Qu.:0.2569  \n",
       " Median :0.5000   Median :0.0000   Median :0.4545   Median :0.4891  \n",
       " Mean   :0.5124   Mean   :0.2176   Mean   :0.5041   Mean   :0.4969  \n",
       " 3rd Qu.:0.8333   3rd Qu.:0.5000   3rd Qu.:0.7273   3rd Qu.:0.7329  \n",
       " Max.   :1.0000   Max.   :1.0000   Max.   :1.0000   Max.   :1.0000  \n",
       "     atemp             hum           windspeed     \n",
       " Min.   :0.0000   Min.   :0.0000   Min.   :0.0000  \n",
       " 1st Qu.:0.2822   1st Qu.:0.5559   1st Qu.:0.2373  \n",
       " Median :0.4922   Median :0.6658   Median :0.3423  \n",
       " Mean   :0.4872   Mean   :0.6586   Mean   :0.3463  \n",
       " 3rd Qu.:0.6869   3rd Qu.:0.7592   3rd Qu.:0.4344  \n",
       " Max.   :1.0000   Max.   :1.0000   Max.   :1.0000  "
      ]
     },
     "metadata": {},
     "output_type": "display_data"
    }
   ],
   "source": [
    "summary(X_train)"
   ]
  },
  {
   "cell_type": "code",
   "execution_count": 59,
   "metadata": {},
   "outputs": [],
   "source": [
    "library(class)\n",
    "mod8 <- knn(X_train,X_test,cl=train$cnt)"
   ]
  },
  {
   "cell_type": "code",
   "execution_count": 36,
   "metadata": {},
   "outputs": [],
   "source": [
    "library(class)\n",
    "mod81 <- knn(train_num,test_num,cl=train_num$cnt)"
   ]
  },
  {
   "cell_type": "code",
   "execution_count": 60,
   "metadata": {},
   "outputs": [
    {
     "name": "stdout",
     "output_type": "stream",
     "text": [
      " Factor w/ 247 levels \"431\",\"506\",\"623\",..: 33 7 21 21 21 4 30 30 52 52 ...\n"
     ]
    }
   ],
   "source": [
    "str(mod81)"
   ]
  },
  {
   "cell_type": "code",
   "execution_count": 61,
   "metadata": {},
   "outputs": [
    {
     "data": {
      "text/html": [
       "957.812944349593"
      ],
      "text/latex": [
       "957.812944349593"
      ],
      "text/markdown": [
       "957.812944349593"
      ],
      "text/plain": [
       "[1] 957.8129"
      ]
     },
     "metadata": {},
     "output_type": "display_data"
    },
    {
     "data": {
      "text/html": [
       "0.405499378027014"
      ],
      "text/latex": [
       "0.405499378027014"
      ],
      "text/markdown": [
       "0.405499378027014"
      ],
      "text/plain": [
       "[1] 0.4054994"
      ]
     },
     "metadata": {},
     "output_type": "display_data"
    }
   ],
   "source": [
    "pred8 <- as.numeric(as.character(mod8))\n",
    "\n",
    "rmse(test$cnt,pred8)\n",
    "rmsle(test$cnt,pred8)\n",
    "err_res <- rbind(err_res, data.frame(Name=\"kNN\", Model=\"mod8\", \n",
    "                                     RMSE=rmse(test$cnt,pred8), \n",
    "                                     RMSLE=rmsle(test$cnt,pred8)))"
   ]
  },
  {
   "cell_type": "markdown",
   "metadata": {},
   "source": [
    "## SVM"
   ]
  },
  {
   "cell_type": "code",
   "execution_count": 39,
   "metadata": {},
   "outputs": [
    {
     "name": "stderr",
     "output_type": "stream",
     "text": [
      "Warning message:\n",
      "\"package 'liquidSVM' was built under R version 4.0.3\"\n"
     ]
    }
   ],
   "source": [
    "#install.packages(\"liquidSVM\")\n",
    "library(liquidSVM)"
   ]
  },
  {
   "cell_type": "code",
   "execution_count": 40,
   "metadata": {},
   "outputs": [],
   "source": [
    "mod9 <- svm(cnt ~., train)"
   ]
  },
  {
   "cell_type": "code",
   "execution_count": 41,
   "metadata": {},
   "outputs": [
    {
     "data": {
      "text/html": [
       "478.312796810563"
      ],
      "text/latex": [
       "478.312796810563"
      ],
      "text/markdown": [
       "478.312796810563"
      ],
      "text/plain": [
       "[1] 478.3128"
      ]
     },
     "metadata": {},
     "output_type": "display_data"
    },
    {
     "data": {
      "text/html": [
       "0.196705090398269"
      ],
      "text/latex": [
       "0.196705090398269"
      ],
      "text/markdown": [
       "0.196705090398269"
      ],
      "text/plain": [
       "[1] 0.1967051"
      ]
     },
     "metadata": {},
     "output_type": "display_data"
    }
   ],
   "source": [
    "pred9 <- predict(mod9, newdata=test)\n",
    "\n",
    "rmse(test$cnt,pred9)\n",
    "rmsle(test$cnt,pred9)\n",
    "err_res <- rbind(err_res, data.frame(Name=\"SVM\", Model=\"mod9\", \n",
    "                                     RMSE=rmse(test$cnt,pred9), \n",
    "                                     RMSLE=rmsle(test$cnt,pred9)))"
   ]
  },
  {
   "cell_type": "code",
   "execution_count": 63,
   "metadata": {},
   "outputs": [
    {
     "data": {
      "text/html": [
       "<table>\n",
       "<caption>A data.frame: 9 × 4</caption>\n",
       "<thead>\n",
       "\t<tr><th scope=col>Name</th><th scope=col>Model</th><th scope=col>RMSE</th><th scope=col>RMSLE</th></tr>\n",
       "\t<tr><th scope=col>&lt;chr&gt;</th><th scope=col>&lt;chr&gt;</th><th scope=col>&lt;dbl&gt;</th><th scope=col>&lt;dbl&gt;</th></tr>\n",
       "</thead>\n",
       "<tbody>\n",
       "\t<tr><td>kNN                   </td><td>mod8</td><td> 33.79699</td><td>0.02525251</td></tr>\n",
       "\t<tr><td>SVM                   </td><td>mod9</td><td>478.31280</td><td>0.19670509</td></tr>\n",
       "\t<tr><td>Base Linear regression</td><td>mod1</td><td>633.02244</td><td>0.24676782</td></tr>\n",
       "\t<tr><td>XGBoost               </td><td>mod7</td><td>579.89200</td><td>0.28709500</td></tr>\n",
       "\t<tr><td>RandomForest (ranger) </td><td>mod6</td><td>577.10145</td><td>0.29256014</td></tr>\n",
       "\t<tr><td>RandomForest (RF)     </td><td>mod5</td><td>597.52156</td><td>0.30082613</td></tr>\n",
       "\t<tr><td>Decision Trees-tree   </td><td>mod3</td><td>783.25386</td><td>0.35420401</td></tr>\n",
       "\t<tr><td>Decision Trees-rpart  </td><td>mod4</td><td>783.25386</td><td>0.35420401</td></tr>\n",
       "\t<tr><td>kNN                   </td><td>mod8</td><td>957.81294</td><td>0.40549938</td></tr>\n",
       "</tbody>\n",
       "</table>\n"
      ],
      "text/latex": [
       "A data.frame: 9 × 4\n",
       "\\begin{tabular}{llll}\n",
       " Name & Model & RMSE & RMSLE\\\\\n",
       " <chr> & <chr> & <dbl> & <dbl>\\\\\n",
       "\\hline\n",
       "\t kNN                    & mod8 &  33.79699 & 0.02525251\\\\\n",
       "\t SVM                    & mod9 & 478.31280 & 0.19670509\\\\\n",
       "\t Base Linear regression & mod1 & 633.02244 & 0.24676782\\\\\n",
       "\t XGBoost                & mod7 & 579.89200 & 0.28709500\\\\\n",
       "\t RandomForest (ranger)  & mod6 & 577.10145 & 0.29256014\\\\\n",
       "\t RandomForest (RF)      & mod5 & 597.52156 & 0.30082613\\\\\n",
       "\t Decision Trees-tree    & mod3 & 783.25386 & 0.35420401\\\\\n",
       "\t Decision Trees-rpart   & mod4 & 783.25386 & 0.35420401\\\\\n",
       "\t kNN                    & mod8 & 957.81294 & 0.40549938\\\\\n",
       "\\end{tabular}\n"
      ],
      "text/markdown": [
       "\n",
       "A data.frame: 9 × 4\n",
       "\n",
       "| Name &lt;chr&gt; | Model &lt;chr&gt; | RMSE &lt;dbl&gt; | RMSLE &lt;dbl&gt; |\n",
       "|---|---|---|---|\n",
       "| kNN                    | mod8 |  33.79699 | 0.02525251 |\n",
       "| SVM                    | mod9 | 478.31280 | 0.19670509 |\n",
       "| Base Linear regression | mod1 | 633.02244 | 0.24676782 |\n",
       "| XGBoost                | mod7 | 579.89200 | 0.28709500 |\n",
       "| RandomForest (ranger)  | mod6 | 577.10145 | 0.29256014 |\n",
       "| RandomForest (RF)      | mod5 | 597.52156 | 0.30082613 |\n",
       "| Decision Trees-tree    | mod3 | 783.25386 | 0.35420401 |\n",
       "| Decision Trees-rpart   | mod4 | 783.25386 | 0.35420401 |\n",
       "| kNN                    | mod8 | 957.81294 | 0.40549938 |\n",
       "\n"
      ],
      "text/plain": [
       "  Name                   Model RMSE      RMSLE     \n",
       "1 kNN                    mod8   33.79699 0.02525251\n",
       "2 SVM                    mod9  478.31280 0.19670509\n",
       "3 Base Linear regression mod1  633.02244 0.24676782\n",
       "4 XGBoost                mod7  579.89200 0.28709500\n",
       "5 RandomForest (ranger)  mod6  577.10145 0.29256014\n",
       "6 RandomForest (RF)      mod5  597.52156 0.30082613\n",
       "7 Decision Trees-tree    mod3  783.25386 0.35420401\n",
       "8 Decision Trees-rpart   mod4  783.25386 0.35420401\n",
       "9 kNN                    mod8  957.81294 0.40549938"
      ]
     },
     "metadata": {},
     "output_type": "display_data"
    }
   ],
   "source": [
    "err_res %>% arrange(RMSLE)"
   ]
  },
  {
   "cell_type": "code",
   "execution_count": 43,
   "metadata": {},
   "outputs": [
    {
     "data": {
      "text/html": [
       "<style>\n",
       ".list-inline {list-style: none; margin:0; padding: 0}\n",
       ".list-inline>li {display: inline-block}\n",
       ".list-inline>li:not(:last-child)::after {content: \"\\00b7\"; padding: 0 .5ex}\n",
       "</style>\n",
       "<ol class=list-inline><li>1606</li><li>1321</li><li>1263</li><li>1162</li><li>1421</li><li>1650</li><li>1927</li><li>981</li><li>986</li><li>1416</li><li>1098</li><li>1360</li><li>1712</li><li>1530</li><li>1746</li><li>1589</li><li>1913</li><li>2115</li><li>2475</li><li>1450</li><li>1446</li><li>1851</li><li>605</li><li>2192</li><li>2744</li><li>3117</li><li>2121</li><li>1693</li><li>3115</li><li>1795</li><li>2808</li><li>3126</li><li>795</li><li>3429</li><li>3204</li><li>4191</li><li>3872</li><li>5312</li><li>4362</li><li>4182</li><li>4864</li><li>3409</li><li>4660</li><li>4492</li><li>4679</li><li>4098</li><li>4548</li><li>3915</li><li>5020</li><li>4844</li><li>4010</li><li>4708</li><li>5225</li><li>5362</li><li>5119</li><li>4665</li><li>4040</li><li>5336</li><li>5538</li><li>5923</li><li>4541</li><li>4332</li><li>3846</li><li>4302</li><li>4866</li><li>3785</li><li>4602</li><li>3820</li><li>3805</li><li>4758</li><li>3542</li><li>5115</li><li>4484</li><li>4713</li><li>4785</li><li>4760</li><li>4511</li><li>4274</li><li>3641</li><li>4352</li><li>5423</li><li>2429</li><li>4826</li><li>4765</li><li>2416</li><li>2913</li><li>5041</li><li>4570</li><li>4748</li><li>4381</li><li>627</li><li>4068</li><li>3649</li><li>4035</li><li>4205</li><li>3368</li><li>1817</li><li>3053</li><li>2566</li><li>1495</li><li>2792</li><li>3071</li><li>3613</li><li>3485</li><li>2594</li><li>705</li><li>3322</li><li>2743</li><li>1317</li><li>2999</li></ol>\n"
      ],
      "text/latex": [
       "\\begin{enumerate*}\n",
       "\\item 1606\n",
       "\\item 1321\n",
       "\\item 1263\n",
       "\\item 1162\n",
       "\\item 1421\n",
       "\\item 1650\n",
       "\\item 1927\n",
       "\\item 981\n",
       "\\item 986\n",
       "\\item 1416\n",
       "\\item 1098\n",
       "\\item 1360\n",
       "\\item 1712\n",
       "\\item 1530\n",
       "\\item 1746\n",
       "\\item 1589\n",
       "\\item 1913\n",
       "\\item 2115\n",
       "\\item 2475\n",
       "\\item 1450\n",
       "\\item 1446\n",
       "\\item 1851\n",
       "\\item 605\n",
       "\\item 2192\n",
       "\\item 2744\n",
       "\\item 3117\n",
       "\\item 2121\n",
       "\\item 1693\n",
       "\\item 3115\n",
       "\\item 1795\n",
       "\\item 2808\n",
       "\\item 3126\n",
       "\\item 795\n",
       "\\item 3429\n",
       "\\item 3204\n",
       "\\item 4191\n",
       "\\item 3872\n",
       "\\item 5312\n",
       "\\item 4362\n",
       "\\item 4182\n",
       "\\item 4864\n",
       "\\item 3409\n",
       "\\item 4660\n",
       "\\item 4492\n",
       "\\item 4679\n",
       "\\item 4098\n",
       "\\item 4548\n",
       "\\item 3915\n",
       "\\item 5020\n",
       "\\item 4844\n",
       "\\item 4010\n",
       "\\item 4708\n",
       "\\item 5225\n",
       "\\item 5362\n",
       "\\item 5119\n",
       "\\item 4665\n",
       "\\item 4040\n",
       "\\item 5336\n",
       "\\item 5538\n",
       "\\item 5923\n",
       "\\item 4541\n",
       "\\item 4332\n",
       "\\item 3846\n",
       "\\item 4302\n",
       "\\item 4866\n",
       "\\item 3785\n",
       "\\item 4602\n",
       "\\item 3820\n",
       "\\item 3805\n",
       "\\item 4758\n",
       "\\item 3542\n",
       "\\item 5115\n",
       "\\item 4484\n",
       "\\item 4713\n",
       "\\item 4785\n",
       "\\item 4760\n",
       "\\item 4511\n",
       "\\item 4274\n",
       "\\item 3641\n",
       "\\item 4352\n",
       "\\item 5423\n",
       "\\item 2429\n",
       "\\item 4826\n",
       "\\item 4765\n",
       "\\item 2416\n",
       "\\item 2913\n",
       "\\item 5041\n",
       "\\item 4570\n",
       "\\item 4748\n",
       "\\item 4381\n",
       "\\item 627\n",
       "\\item 4068\n",
       "\\item 3649\n",
       "\\item 4035\n",
       "\\item 4205\n",
       "\\item 3368\n",
       "\\item 1817\n",
       "\\item 3053\n",
       "\\item 2566\n",
       "\\item 1495\n",
       "\\item 2792\n",
       "\\item 3071\n",
       "\\item 3613\n",
       "\\item 3485\n",
       "\\item 2594\n",
       "\\item 705\n",
       "\\item 3322\n",
       "\\item 2743\n",
       "\\item 1317\n",
       "\\item 2999\n",
       "\\end{enumerate*}\n"
      ],
      "text/markdown": [
       "1. 1606\n",
       "2. 1321\n",
       "3. 1263\n",
       "4. 1162\n",
       "5. 1421\n",
       "6. 1650\n",
       "7. 1927\n",
       "8. 981\n",
       "9. 986\n",
       "10. 1416\n",
       "11. 1098\n",
       "12. 1360\n",
       "13. 1712\n",
       "14. 1530\n",
       "15. 1746\n",
       "16. 1589\n",
       "17. 1913\n",
       "18. 2115\n",
       "19. 2475\n",
       "20. 1450\n",
       "21. 1446\n",
       "22. 1851\n",
       "23. 605\n",
       "24. 2192\n",
       "25. 2744\n",
       "26. 3117\n",
       "27. 2121\n",
       "28. 1693\n",
       "29. 3115\n",
       "30. 1795\n",
       "31. 2808\n",
       "32. 3126\n",
       "33. 795\n",
       "34. 3429\n",
       "35. 3204\n",
       "36. 4191\n",
       "37. 3872\n",
       "38. 5312\n",
       "39. 4362\n",
       "40. 4182\n",
       "41. 4864\n",
       "42. 3409\n",
       "43. 4660\n",
       "44. 4492\n",
       "45. 4679\n",
       "46. 4098\n",
       "47. 4548\n",
       "48. 3915\n",
       "49. 5020\n",
       "50. 4844\n",
       "51. 4010\n",
       "52. 4708\n",
       "53. 5225\n",
       "54. 5362\n",
       "55. 5119\n",
       "56. 4665\n",
       "57. 4040\n",
       "58. 5336\n",
       "59. 5538\n",
       "60. 5923\n",
       "61. 4541\n",
       "62. 4332\n",
       "63. 3846\n",
       "64. 4302\n",
       "65. 4866\n",
       "66. 3785\n",
       "67. 4602\n",
       "68. 3820\n",
       "69. 3805\n",
       "70. 4758\n",
       "71. 3542\n",
       "72. 5115\n",
       "73. 4484\n",
       "74. 4713\n",
       "75. 4785\n",
       "76. 4760\n",
       "77. 4511\n",
       "78. 4274\n",
       "79. 3641\n",
       "80. 4352\n",
       "81. 5423\n",
       "82. 2429\n",
       "83. 4826\n",
       "84. 4765\n",
       "85. 2416\n",
       "86. 2913\n",
       "87. 5041\n",
       "88. 4570\n",
       "89. 4748\n",
       "90. 4381\n",
       "91. 627\n",
       "92. 4068\n",
       "93. 3649\n",
       "94. 4035\n",
       "95. 4205\n",
       "96. 3368\n",
       "97. 1817\n",
       "98. 3053\n",
       "99. 2566\n",
       "100. 1495\n",
       "101. 2792\n",
       "102. 3071\n",
       "103. 3613\n",
       "104. 3485\n",
       "105. 2594\n",
       "106. 705\n",
       "107. 3322\n",
       "108. 2743\n",
       "109. 1317\n",
       "110. 2999\n",
       "\n",
       "\n"
      ],
      "text/plain": [
       "  [1] 1606 1321 1263 1162 1421 1650 1927  981  986 1416 1098 1360 1712 1530 1746\n",
       " [16] 1589 1913 2115 2475 1450 1446 1851  605 2192 2744 3117 2121 1693 3115 1795\n",
       " [31] 2808 3126  795 3429 3204 4191 3872 5312 4362 4182 4864 3409 4660 4492 4679\n",
       " [46] 4098 4548 3915 5020 4844 4010 4708 5225 5362 5119 4665 4040 5336 5538 5923\n",
       " [61] 4541 4332 3846 4302 4866 3785 4602 3820 3805 4758 3542 5115 4484 4713 4785\n",
       " [76] 4760 4511 4274 3641 4352 5423 2429 4826 4765 2416 2913 5041 4570 4748 4381\n",
       " [91]  627 4068 3649 4035 4205 3368 1817 3053 2566 1495 2792 3071 3613 3485 2594\n",
       "[106]  705 3322 2743 1317 2999"
      ]
     },
     "metadata": {},
     "output_type": "display_data"
    }
   ],
   "source": [
    "test$cnt"
   ]
  },
  {
   "cell_type": "code",
   "execution_count": 115,
   "metadata": {},
   "outputs": [
    {
     "data": {
      "text/html": [
       "<style>\n",
       ".list-inline {list-style: none; margin:0; padding: 0}\n",
       ".list-inline>li {display: inline-block}\n",
       ".list-inline>li:not(:last-child)::after {content: \"\\00b7\"; padding: 0 .5ex}\n",
       "</style>\n",
       "<ol class=list-inline><li>'id'</li><li>'season'</li><li>'mnth'</li><li>'holiday'</li><li>'weekday'</li><li>'workingday'</li><li>'weathersit'</li><li>'temp'</li><li>'atemp'</li><li>'hum'</li><li>'windspeed'</li></ol>\n"
      ],
      "text/latex": [
       "\\begin{enumerate*}\n",
       "\\item 'id'\n",
       "\\item 'season'\n",
       "\\item 'mnth'\n",
       "\\item 'holiday'\n",
       "\\item 'weekday'\n",
       "\\item 'workingday'\n",
       "\\item 'weathersit'\n",
       "\\item 'temp'\n",
       "\\item 'atemp'\n",
       "\\item 'hum'\n",
       "\\item 'windspeed'\n",
       "\\end{enumerate*}\n"
      ],
      "text/markdown": [
       "1. 'id'\n",
       "2. 'season'\n",
       "3. 'mnth'\n",
       "4. 'holiday'\n",
       "5. 'weekday'\n",
       "6. 'workingday'\n",
       "7. 'weathersit'\n",
       "8. 'temp'\n",
       "9. 'atemp'\n",
       "10. 'hum'\n",
       "11. 'windspeed'\n",
       "\n",
       "\n"
      ],
      "text/plain": [
       " [1] \"id\"         \"season\"     \"mnth\"       \"holiday\"    \"weekday\"   \n",
       " [6] \"workingday\" \"weathersit\" \"temp\"       \"atemp\"      \"hum\"       \n",
       "[11] \"windspeed\" "
      ]
     },
     "metadata": {},
     "output_type": "display_data"
    }
   ],
   "source": [
    "nm<-setdiff(names(df_train), \"cnt\")\n",
    "nm"
   ]
  },
  {
   "cell_type": "code",
   "execution_count": 44,
   "metadata": {},
   "outputs": [],
   "source": [
    "df_train1<-df_train[,nm]"
   ]
  },
  {
   "cell_type": "code",
   "execution_count": 49,
   "metadata": {},
   "outputs": [
    {
     "data": {
      "text/html": [
       "<style>\n",
       ".list-inline {list-style: none; margin:0; padding: 0}\n",
       ".list-inline>li {display: inline-block}\n",
       ".list-inline>li:not(:last-child)::after {content: \"\\00b7\"; padding: 0 .5ex}\n",
       "</style>\n",
       "<ol class=list-inline><li>365</li><li>11</li></ol>\n"
      ],
      "text/latex": [
       "\\begin{enumerate*}\n",
       "\\item 365\n",
       "\\item 11\n",
       "\\end{enumerate*}\n"
      ],
      "text/markdown": [
       "1. 365\n",
       "2. 11\n",
       "\n",
       "\n"
      ],
      "text/plain": [
       "[1] 365  11"
      ]
     },
     "metadata": {},
     "output_type": "display_data"
    }
   ],
   "source": [
    "dim(df_train1)"
   ]
  },
  {
   "cell_type": "code",
   "execution_count": 50,
   "metadata": {},
   "outputs": [
    {
     "data": {
      "text/html": [
       "<style>\n",
       ".list-inline {list-style: none; margin:0; padding: 0}\n",
       ".list-inline>li {display: inline-block}\n",
       ".list-inline>li:not(:last-child)::after {content: \"\\00b7\"; padding: 0 .5ex}\n",
       "</style>\n",
       "<ol class=list-inline><li>366</li><li>11</li></ol>\n"
      ],
      "text/latex": [
       "\\begin{enumerate*}\n",
       "\\item 366\n",
       "\\item 11\n",
       "\\end{enumerate*}\n"
      ],
      "text/markdown": [
       "1. 366\n",
       "2. 11\n",
       "\n",
       "\n"
      ],
      "text/plain": [
       "[1] 366  11"
      ]
     },
     "metadata": {},
     "output_type": "display_data"
    }
   ],
   "source": [
    "dim(df_test)"
   ]
  },
  {
   "cell_type": "code",
   "execution_count": 57,
   "metadata": {},
   "outputs": [],
   "source": [
    "id<-366:731\n",
    "cnt<-knn(df_train1,df_test,cl=df_train$cnt)"
   ]
  },
  {
   "cell_type": "code",
   "execution_count": 54,
   "metadata": {},
   "outputs": [],
   "source": [
    "id<-366:731\n",
    "cnt<- knn(train_num,test_num,cl=train_num$cnt)"
   ]
  },
  {
   "cell_type": "code",
   "execution_count": 56,
   "metadata": {},
   "outputs": [
    {
     "ename": "ERROR",
     "evalue": "Error in knn(df_train, df_test, cl = df_train$cnt): dims of 'test' and 'train' differ\n",
     "output_type": "error",
     "traceback": [
      "Error in knn(df_train, df_test, cl = df_train$cnt): dims of 'test' and 'train' differ\nTraceback:\n",
      "1. knn(df_train, df_test, cl = df_train$cnt)",
      "2. stop(\"dims of 'test' and 'train' differ\")"
     ]
    }
   ],
   "source": [
    "id<-366:731\n",
    "cnt<-knn(df_train,df_test,cl=df_train$cnt)"
   ]
  },
  {
   "cell_type": "code",
   "execution_count": 124,
   "metadata": {},
   "outputs": [],
   "source": [
    "mod91 <- svm(cnt ~., df_train)"
   ]
  },
  {
   "cell_type": "code",
   "execution_count": 125,
   "metadata": {},
   "outputs": [],
   "source": [
    "pred91<- predict(mod9, newdata=df_test)"
   ]
  },
  {
   "cell_type": "code",
   "execution_count": 120,
   "metadata": {},
   "outputs": [],
   "source": [
    "id<-1:nrow(df_test)\n",
    "cnt<-pred91"
   ]
  },
  {
   "cell_type": "code",
   "execution_count": 58,
   "metadata": {},
   "outputs": [
    {
     "data": {
      "text/html": [
       "<table>\n",
       "<caption>A data.frame: 366 × 2</caption>\n",
       "<thead>\n",
       "\t<tr><th scope=col>id</th><th scope=col>cnt</th></tr>\n",
       "\t<tr><th scope=col>&lt;int&gt;</th><th scope=col>&lt;fct&gt;</th></tr>\n",
       "</thead>\n",
       "<tbody>\n",
       "\t<tr><td>366</td><td>2423</td></tr>\n",
       "\t<tr><td>367</td><td>2423</td></tr>\n",
       "\t<tr><td>368</td><td>2999</td></tr>\n",
       "\t<tr><td>369</td><td>2485</td></tr>\n",
       "\t<tr><td>370</td><td>2485</td></tr>\n",
       "\t<tr><td>371</td><td>2485</td></tr>\n",
       "\t<tr><td>372</td><td>2485</td></tr>\n",
       "\t<tr><td>373</td><td>2485</td></tr>\n",
       "\t<tr><td>374</td><td>2485</td></tr>\n",
       "\t<tr><td>375</td><td>2485</td></tr>\n",
       "\t<tr><td>376</td><td>2485</td></tr>\n",
       "\t<tr><td>377</td><td>2485</td></tr>\n",
       "\t<tr><td>378</td><td>2485</td></tr>\n",
       "\t<tr><td>379</td><td>2485</td></tr>\n",
       "\t<tr><td>380</td><td>2485</td></tr>\n",
       "\t<tr><td>381</td><td>2485</td></tr>\n",
       "\t<tr><td>382</td><td>2485</td></tr>\n",
       "\t<tr><td>383</td><td>2485</td></tr>\n",
       "\t<tr><td>384</td><td>2485</td></tr>\n",
       "\t<tr><td>385</td><td>2485</td></tr>\n",
       "\t<tr><td>386</td><td>2485</td></tr>\n",
       "\t<tr><td>387</td><td>2485</td></tr>\n",
       "\t<tr><td>388</td><td>2485</td></tr>\n",
       "\t<tr><td>389</td><td>2485</td></tr>\n",
       "\t<tr><td>390</td><td>2485</td></tr>\n",
       "\t<tr><td>391</td><td>2485</td></tr>\n",
       "\t<tr><td>392</td><td>2485</td></tr>\n",
       "\t<tr><td>393</td><td>2485</td></tr>\n",
       "\t<tr><td>394</td><td>2485</td></tr>\n",
       "\t<tr><td>395</td><td>2485</td></tr>\n",
       "\t<tr><td>...</td><td>...</td></tr>\n",
       "\t<tr><td>702</td><td>2485</td></tr>\n",
       "\t<tr><td>703</td><td>2485</td></tr>\n",
       "\t<tr><td>704</td><td>2485</td></tr>\n",
       "\t<tr><td>705</td><td>2485</td></tr>\n",
       "\t<tr><td>706</td><td>2485</td></tr>\n",
       "\t<tr><td>707</td><td>2485</td></tr>\n",
       "\t<tr><td>708</td><td>2485</td></tr>\n",
       "\t<tr><td>709</td><td>2485</td></tr>\n",
       "\t<tr><td>710</td><td>2485</td></tr>\n",
       "\t<tr><td>711</td><td>2485</td></tr>\n",
       "\t<tr><td>712</td><td>2485</td></tr>\n",
       "\t<tr><td>713</td><td>2485</td></tr>\n",
       "\t<tr><td>714</td><td>2485</td></tr>\n",
       "\t<tr><td>715</td><td>2485</td></tr>\n",
       "\t<tr><td>716</td><td>2485</td></tr>\n",
       "\t<tr><td>717</td><td>2485</td></tr>\n",
       "\t<tr><td>718</td><td>2485</td></tr>\n",
       "\t<tr><td>719</td><td>2485</td></tr>\n",
       "\t<tr><td>720</td><td>2485</td></tr>\n",
       "\t<tr><td>721</td><td>2485</td></tr>\n",
       "\t<tr><td>722</td><td>2485</td></tr>\n",
       "\t<tr><td>723</td><td>2485</td></tr>\n",
       "\t<tr><td>724</td><td>2485</td></tr>\n",
       "\t<tr><td>725</td><td>2485</td></tr>\n",
       "\t<tr><td>726</td><td>2485</td></tr>\n",
       "\t<tr><td>727</td><td>2485</td></tr>\n",
       "\t<tr><td>728</td><td>2485</td></tr>\n",
       "\t<tr><td>729</td><td>2485</td></tr>\n",
       "\t<tr><td>730</td><td>2485</td></tr>\n",
       "\t<tr><td>731</td><td>2485</td></tr>\n",
       "</tbody>\n",
       "</table>\n"
      ],
      "text/latex": [
       "A data.frame: 366 × 2\n",
       "\\begin{tabular}{ll}\n",
       " id & cnt\\\\\n",
       " <int> & <fct>\\\\\n",
       "\\hline\n",
       "\t 366 & 2423\\\\\n",
       "\t 367 & 2423\\\\\n",
       "\t 368 & 2999\\\\\n",
       "\t 369 & 2485\\\\\n",
       "\t 370 & 2485\\\\\n",
       "\t 371 & 2485\\\\\n",
       "\t 372 & 2485\\\\\n",
       "\t 373 & 2485\\\\\n",
       "\t 374 & 2485\\\\\n",
       "\t 375 & 2485\\\\\n",
       "\t 376 & 2485\\\\\n",
       "\t 377 & 2485\\\\\n",
       "\t 378 & 2485\\\\\n",
       "\t 379 & 2485\\\\\n",
       "\t 380 & 2485\\\\\n",
       "\t 381 & 2485\\\\\n",
       "\t 382 & 2485\\\\\n",
       "\t 383 & 2485\\\\\n",
       "\t 384 & 2485\\\\\n",
       "\t 385 & 2485\\\\\n",
       "\t 386 & 2485\\\\\n",
       "\t 387 & 2485\\\\\n",
       "\t 388 & 2485\\\\\n",
       "\t 389 & 2485\\\\\n",
       "\t 390 & 2485\\\\\n",
       "\t 391 & 2485\\\\\n",
       "\t 392 & 2485\\\\\n",
       "\t 393 & 2485\\\\\n",
       "\t 394 & 2485\\\\\n",
       "\t 395 & 2485\\\\\n",
       "\t ... & ...\\\\\n",
       "\t 702 & 2485\\\\\n",
       "\t 703 & 2485\\\\\n",
       "\t 704 & 2485\\\\\n",
       "\t 705 & 2485\\\\\n",
       "\t 706 & 2485\\\\\n",
       "\t 707 & 2485\\\\\n",
       "\t 708 & 2485\\\\\n",
       "\t 709 & 2485\\\\\n",
       "\t 710 & 2485\\\\\n",
       "\t 711 & 2485\\\\\n",
       "\t 712 & 2485\\\\\n",
       "\t 713 & 2485\\\\\n",
       "\t 714 & 2485\\\\\n",
       "\t 715 & 2485\\\\\n",
       "\t 716 & 2485\\\\\n",
       "\t 717 & 2485\\\\\n",
       "\t 718 & 2485\\\\\n",
       "\t 719 & 2485\\\\\n",
       "\t 720 & 2485\\\\\n",
       "\t 721 & 2485\\\\\n",
       "\t 722 & 2485\\\\\n",
       "\t 723 & 2485\\\\\n",
       "\t 724 & 2485\\\\\n",
       "\t 725 & 2485\\\\\n",
       "\t 726 & 2485\\\\\n",
       "\t 727 & 2485\\\\\n",
       "\t 728 & 2485\\\\\n",
       "\t 729 & 2485\\\\\n",
       "\t 730 & 2485\\\\\n",
       "\t 731 & 2485\\\\\n",
       "\\end{tabular}\n"
      ],
      "text/markdown": [
       "\n",
       "A data.frame: 366 × 2\n",
       "\n",
       "| id &lt;int&gt; | cnt &lt;fct&gt; |\n",
       "|---|---|\n",
       "| 366 | 2423 |\n",
       "| 367 | 2423 |\n",
       "| 368 | 2999 |\n",
       "| 369 | 2485 |\n",
       "| 370 | 2485 |\n",
       "| 371 | 2485 |\n",
       "| 372 | 2485 |\n",
       "| 373 | 2485 |\n",
       "| 374 | 2485 |\n",
       "| 375 | 2485 |\n",
       "| 376 | 2485 |\n",
       "| 377 | 2485 |\n",
       "| 378 | 2485 |\n",
       "| 379 | 2485 |\n",
       "| 380 | 2485 |\n",
       "| 381 | 2485 |\n",
       "| 382 | 2485 |\n",
       "| 383 | 2485 |\n",
       "| 384 | 2485 |\n",
       "| 385 | 2485 |\n",
       "| 386 | 2485 |\n",
       "| 387 | 2485 |\n",
       "| 388 | 2485 |\n",
       "| 389 | 2485 |\n",
       "| 390 | 2485 |\n",
       "| 391 | 2485 |\n",
       "| 392 | 2485 |\n",
       "| 393 | 2485 |\n",
       "| 394 | 2485 |\n",
       "| 395 | 2485 |\n",
       "| ... | ... |\n",
       "| 702 | 2485 |\n",
       "| 703 | 2485 |\n",
       "| 704 | 2485 |\n",
       "| 705 | 2485 |\n",
       "| 706 | 2485 |\n",
       "| 707 | 2485 |\n",
       "| 708 | 2485 |\n",
       "| 709 | 2485 |\n",
       "| 710 | 2485 |\n",
       "| 711 | 2485 |\n",
       "| 712 | 2485 |\n",
       "| 713 | 2485 |\n",
       "| 714 | 2485 |\n",
       "| 715 | 2485 |\n",
       "| 716 | 2485 |\n",
       "| 717 | 2485 |\n",
       "| 718 | 2485 |\n",
       "| 719 | 2485 |\n",
       "| 720 | 2485 |\n",
       "| 721 | 2485 |\n",
       "| 722 | 2485 |\n",
       "| 723 | 2485 |\n",
       "| 724 | 2485 |\n",
       "| 725 | 2485 |\n",
       "| 726 | 2485 |\n",
       "| 727 | 2485 |\n",
       "| 728 | 2485 |\n",
       "| 729 | 2485 |\n",
       "| 730 | 2485 |\n",
       "| 731 | 2485 |\n",
       "\n"
      ],
      "text/plain": [
       "    id  cnt \n",
       "1   366 2423\n",
       "2   367 2423\n",
       "3   368 2999\n",
       "4   369 2485\n",
       "5   370 2485\n",
       "6   371 2485\n",
       "7   372 2485\n",
       "8   373 2485\n",
       "9   374 2485\n",
       "10  375 2485\n",
       "11  376 2485\n",
       "12  377 2485\n",
       "13  378 2485\n",
       "14  379 2485\n",
       "15  380 2485\n",
       "16  381 2485\n",
       "17  382 2485\n",
       "18  383 2485\n",
       "19  384 2485\n",
       "20  385 2485\n",
       "21  386 2485\n",
       "22  387 2485\n",
       "23  388 2485\n",
       "24  389 2485\n",
       "25  390 2485\n",
       "26  391 2485\n",
       "27  392 2485\n",
       "28  393 2485\n",
       "29  394 2485\n",
       "30  395 2485\n",
       "... ... ... \n",
       "337 702 2485\n",
       "338 703 2485\n",
       "339 704 2485\n",
       "340 705 2485\n",
       "341 706 2485\n",
       "342 707 2485\n",
       "343 708 2485\n",
       "344 709 2485\n",
       "345 710 2485\n",
       "346 711 2485\n",
       "347 712 2485\n",
       "348 713 2485\n",
       "349 714 2485\n",
       "350 715 2485\n",
       "351 716 2485\n",
       "352 717 2485\n",
       "353 718 2485\n",
       "354 719 2485\n",
       "355 720 2485\n",
       "356 721 2485\n",
       "357 722 2485\n",
       "358 723 2485\n",
       "359 724 2485\n",
       "360 725 2485\n",
       "361 726 2485\n",
       "362 727 2485\n",
       "363 728 2485\n",
       "364 729 2485\n",
       "365 730 2485\n",
       "366 731 2485"
      ]
     },
     "metadata": {},
     "output_type": "display_data"
    }
   ],
   "source": [
    "dft<-data.frame(id=id, cnt=cnt)\n",
    "dft"
   ]
  },
  {
   "cell_type": "code",
   "execution_count": 127,
   "metadata": {},
   "outputs": [],
   "source": [
    "write.csv(dft, file='results_svm_20201031.csv',row.names=FALSE)"
   ]
  }
 ],
 "metadata": {
  "kernelspec": {
   "display_name": "R",
   "language": "R",
   "name": "ir"
  },
  "language_info": {
   "codemirror_mode": "r",
   "file_extension": ".r",
   "mimetype": "text/x-r-source",
   "name": "R",
   "pygments_lexer": "r",
   "version": "4.0.1"
  }
 },
 "nbformat": 4,
 "nbformat_minor": 2
}
