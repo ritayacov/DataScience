{
 "cells": [
  {
   "cell_type": "markdown",
   "metadata": {},
   "source": [
    "# עבודת סיכום מס' 4"
   ]
  },
  {
   "cell_type": "code",
   "execution_count": 1,
   "metadata": {},
   "outputs": [],
   "source": [
    "import pandas as pd\n",
    "import sweetviz as sv\n",
    "import pyodbc\n",
    "import numpy as np"
   ]
  },
  {
   "cell_type": "markdown",
   "metadata": {},
   "source": [
    "### BoxOffice FlatFile import using ODBC"
   ]
  },
  {
   "cell_type": "code",
   "execution_count": 2,
   "metadata": {},
   "outputs": [],
   "source": [
    "conn = pyodbc.connect(\"Driver={SQL Server Native Client 11.0};\"\n",
    "                      \"Server=DESKTOP-V5ABLPD\\SQLEXPRESS;\"\n",
    "                      \"Database=BoxOffice;\"\n",
    "                      \"Trusted_Connection=yes;\")"
   ]
  },
  {
   "cell_type": "code",
   "execution_count": 3,
   "metadata": {},
   "outputs": [
    {
     "data": {
      "text/html": [
       "<div>\n",
       "<style scoped>\n",
       "    .dataframe tbody tr th:only-of-type {\n",
       "        vertical-align: middle;\n",
       "    }\n",
       "\n",
       "    .dataframe tbody tr th {\n",
       "        vertical-align: top;\n",
       "    }\n",
       "\n",
       "    .dataframe thead th {\n",
       "        text-align: right;\n",
       "    }\n",
       "</style>\n",
       "<table border=\"1\" class=\"dataframe\">\n",
       "  <thead>\n",
       "    <tr style=\"text-align: right;\">\n",
       "      <th></th>\n",
       "      <th>movie_id</th>\n",
       "      <th>budget</th>\n",
       "      <th>original_language</th>\n",
       "      <th>popularity</th>\n",
       "      <th>release_date</th>\n",
       "      <th>runtime</th>\n",
       "      <th>runtime_cat</th>\n",
       "      <th>revenue</th>\n",
       "      <th>sw_lang_en</th>\n",
       "      <th>sw_web_presence</th>\n",
       "      <th>...</th>\n",
       "      <th>depart_Camera_female</th>\n",
       "      <th>depart_Crew_female</th>\n",
       "      <th>depart_Custom_Mkup_female</th>\n",
       "      <th>depart_Directing_female</th>\n",
       "      <th>depart_Editing_female</th>\n",
       "      <th>depart_Lighting_female</th>\n",
       "      <th>depart_Production_female</th>\n",
       "      <th>depart_Sound_female</th>\n",
       "      <th>depart_Visual_Effects_female</th>\n",
       "      <th>depart_Writing_female</th>\n",
       "    </tr>\n",
       "  </thead>\n",
       "  <tbody>\n",
       "    <tr>\n",
       "      <th>0</th>\n",
       "      <td>1</td>\n",
       "      <td>14000000</td>\n",
       "      <td>en</td>\n",
       "      <td>6.575393</td>\n",
       "      <td>2015-02-20</td>\n",
       "      <td>93.0</td>\n",
       "      <td>Short</td>\n",
       "      <td>12314651.0</td>\n",
       "      <td>1</td>\n",
       "      <td>0</td>\n",
       "      <td>...</td>\n",
       "      <td>0.0</td>\n",
       "      <td>0.0</td>\n",
       "      <td>0.0</td>\n",
       "      <td>0.0</td>\n",
       "      <td>0.0</td>\n",
       "      <td>0.0</td>\n",
       "      <td>0.0</td>\n",
       "      <td>0.0</td>\n",
       "      <td>0.0</td>\n",
       "      <td>0.0</td>\n",
       "    </tr>\n",
       "    <tr>\n",
       "      <th>1</th>\n",
       "      <td>2</td>\n",
       "      <td>40000000</td>\n",
       "      <td>en</td>\n",
       "      <td>8.248895</td>\n",
       "      <td>2004-08-06</td>\n",
       "      <td>113.0</td>\n",
       "      <td>Medium</td>\n",
       "      <td>95149435.0</td>\n",
       "      <td>1</td>\n",
       "      <td>0</td>\n",
       "      <td>...</td>\n",
       "      <td>0.0</td>\n",
       "      <td>0.0</td>\n",
       "      <td>0.0</td>\n",
       "      <td>0.0</td>\n",
       "      <td>0.0</td>\n",
       "      <td>0.0</td>\n",
       "      <td>3.0</td>\n",
       "      <td>0.0</td>\n",
       "      <td>0.0</td>\n",
       "      <td>1.0</td>\n",
       "    </tr>\n",
       "    <tr>\n",
       "      <th>2</th>\n",
       "      <td>3</td>\n",
       "      <td>3300000</td>\n",
       "      <td>en</td>\n",
       "      <td>64.299990</td>\n",
       "      <td>2014-10-10</td>\n",
       "      <td>105.0</td>\n",
       "      <td>Medium</td>\n",
       "      <td>13092000.0</td>\n",
       "      <td>1</td>\n",
       "      <td>1</td>\n",
       "      <td>...</td>\n",
       "      <td>0.0</td>\n",
       "      <td>1.0</td>\n",
       "      <td>0.0</td>\n",
       "      <td>0.0</td>\n",
       "      <td>0.0</td>\n",
       "      <td>0.0</td>\n",
       "      <td>2.0</td>\n",
       "      <td>0.0</td>\n",
       "      <td>0.0</td>\n",
       "      <td>0.0</td>\n",
       "    </tr>\n",
       "    <tr>\n",
       "      <th>3</th>\n",
       "      <td>4</td>\n",
       "      <td>1200000</td>\n",
       "      <td>hi</td>\n",
       "      <td>3.174936</td>\n",
       "      <td>2012-03-09</td>\n",
       "      <td>122.0</td>\n",
       "      <td>Large</td>\n",
       "      <td>16000000.0</td>\n",
       "      <td>0</td>\n",
       "      <td>1</td>\n",
       "      <td>...</td>\n",
       "      <td>0.0</td>\n",
       "      <td>0.0</td>\n",
       "      <td>0.0</td>\n",
       "      <td>0.0</td>\n",
       "      <td>0.0</td>\n",
       "      <td>0.0</td>\n",
       "      <td>0.0</td>\n",
       "      <td>0.0</td>\n",
       "      <td>0.0</td>\n",
       "      <td>0.0</td>\n",
       "    </tr>\n",
       "    <tr>\n",
       "      <th>4</th>\n",
       "      <td>5</td>\n",
       "      <td>0</td>\n",
       "      <td>ko</td>\n",
       "      <td>1.148070</td>\n",
       "      <td>2009-02-05</td>\n",
       "      <td>118.0</td>\n",
       "      <td>Medium</td>\n",
       "      <td>3923970.0</td>\n",
       "      <td>0</td>\n",
       "      <td>0</td>\n",
       "      <td>...</td>\n",
       "      <td>0.0</td>\n",
       "      <td>0.0</td>\n",
       "      <td>0.0</td>\n",
       "      <td>0.0</td>\n",
       "      <td>0.0</td>\n",
       "      <td>0.0</td>\n",
       "      <td>0.0</td>\n",
       "      <td>0.0</td>\n",
       "      <td>0.0</td>\n",
       "      <td>0.0</td>\n",
       "    </tr>\n",
       "  </tbody>\n",
       "</table>\n",
       "<p>5 rows × 85 columns</p>\n",
       "</div>"
      ],
      "text/plain": [
       "   movie_id    budget original_language  popularity release_date  runtime  \\\n",
       "0         1  14000000                en    6.575393   2015-02-20     93.0   \n",
       "1         2  40000000                en    8.248895   2004-08-06    113.0   \n",
       "2         3   3300000                en   64.299990   2014-10-10    105.0   \n",
       "3         4   1200000                hi    3.174936   2012-03-09    122.0   \n",
       "4         5         0                ko    1.148070   2009-02-05    118.0   \n",
       "\n",
       "  runtime_cat     revenue  sw_lang_en  sw_web_presence  ...  \\\n",
       "0       Short  12314651.0           1                0  ...   \n",
       "1      Medium  95149435.0           1                0  ...   \n",
       "2      Medium  13092000.0           1                1  ...   \n",
       "3       Large  16000000.0           0                1  ...   \n",
       "4      Medium   3923970.0           0                0  ...   \n",
       "\n",
       "   depart_Camera_female  depart_Crew_female  depart_Custom_Mkup_female  \\\n",
       "0                   0.0                 0.0                        0.0   \n",
       "1                   0.0                 0.0                        0.0   \n",
       "2                   0.0                 1.0                        0.0   \n",
       "3                   0.0                 0.0                        0.0   \n",
       "4                   0.0                 0.0                        0.0   \n",
       "\n",
       "   depart_Directing_female  depart_Editing_female  depart_Lighting_female  \\\n",
       "0                      0.0                    0.0                     0.0   \n",
       "1                      0.0                    0.0                     0.0   \n",
       "2                      0.0                    0.0                     0.0   \n",
       "3                      0.0                    0.0                     0.0   \n",
       "4                      0.0                    0.0                     0.0   \n",
       "\n",
       "   depart_Production_female  depart_Sound_female  \\\n",
       "0                       0.0                  0.0   \n",
       "1                       3.0                  0.0   \n",
       "2                       2.0                  0.0   \n",
       "3                       0.0                  0.0   \n",
       "4                       0.0                  0.0   \n",
       "\n",
       "   depart_Visual_Effects_female  depart_Writing_female  \n",
       "0                           0.0                    0.0  \n",
       "1                           0.0                    1.0  \n",
       "2                           0.0                    0.0  \n",
       "3                           0.0                    0.0  \n",
       "4                           0.0                    0.0  \n",
       "\n",
       "[5 rows x 85 columns]"
      ]
     },
     "execution_count": 3,
     "metadata": {},
     "output_type": "execute_result"
    }
   ],
   "source": [
    "ff = pd.read_sql(\"SELECT * FROM movies_ff_v ;\",conn) \n",
    "ff.head()"
   ]
  },
  {
   "cell_type": "code",
   "execution_count": 20,
   "metadata": {},
   "outputs": [
    {
     "data": {
      "text/plain": [
       "movie_id                          int64\n",
       "budget                            int64\n",
       "original_language                object\n",
       "popularity                      float64\n",
       "release_date                     object\n",
       "                                 ...   \n",
       "depart_Lighting_female          float64\n",
       "depart_Production_female        float64\n",
       "depart_Sound_female             float64\n",
       "depart_Visual_Effects_female    float64\n",
       "depart_Writing_female           float64\n",
       "Length: 85, dtype: object"
      ]
     },
     "execution_count": 20,
     "metadata": {},
     "output_type": "execute_result"
    }
   ],
   "source": [
    "ff.dtypes"
   ]
  },
  {
   "cell_type": "code",
   "execution_count": 8,
   "metadata": {},
   "outputs": [
    {
     "data": {
      "text/plain": [
       "(7375, 85)"
      ]
     },
     "execution_count": 8,
     "metadata": {},
     "output_type": "execute_result"
    }
   ],
   "source": [
    "ff.shape"
   ]
  },
  {
   "cell_type": "markdown",
   "metadata": {},
   "source": [
    "### EDA"
   ]
  },
  {
   "cell_type": "code",
   "execution_count": 22,
   "metadata": {},
   "outputs": [
    {
     "name": "stderr",
     "output_type": "stream",
     "text": [
      ":FEATURES DONE:                    |█████████████████████| [100%]   00:25  -> (00:00 left)\n",
      ":PAIRWISE DONE:                    |█████████████████████| [100%]   00:25  -> (00:00 left)\n"
     ]
    },
    {
     "name": "stdout",
     "output_type": "stream",
     "text": [
      "Creating Associations graph... DONE!\n",
      "Report ff.html was generated! NOTEBOOK/COLAB USERS: no browser will pop up, the report is saved in your notebook/colab files.\n"
     ]
    }
   ],
   "source": [
    "advert_report = sv.analyze(ff)\n",
    "\n",
    "advert_report.show_html('ff.html')"
   ]
  },
  {
   "cell_type": "code",
   "execution_count": null,
   "metadata": {},
   "outputs": [],
   "source": []
  }
 ],
 "metadata": {
  "kernelspec": {
   "display_name": "Python 3",
   "language": "python",
   "name": "python3"
  },
  "language_info": {
   "codemirror_mode": {
    "name": "ipython",
    "version": 3
   },
   "file_extension": ".py",
   "mimetype": "text/x-python",
   "name": "python",
   "nbconvert_exporter": "python",
   "pygments_lexer": "ipython3",
   "version": "3.8.3"
  }
 },
 "nbformat": 4,
 "nbformat_minor": 4
}
