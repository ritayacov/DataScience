{
 "cells": [
  {
   "cell_type": "markdown",
   "metadata": {},
   "source": [
    "# Regression Models in R (tips)"
   ]
  },
  {
   "cell_type": "code",
   "execution_count": 2,
   "metadata": {},
   "outputs": [
    {
     "name": "stderr",
     "output_type": "stream",
     "text": [
      "\n",
      "Attaching package: 'dplyr'\n",
      "\n",
      "\n",
      "The following objects are masked from 'package:stats':\n",
      "\n",
      "    filter, lag\n",
      "\n",
      "\n",
      "The following objects are masked from 'package:base':\n",
      "\n",
      "    intersect, setdiff, setequal, union\n",
      "\n",
      "\n"
     ]
    }
   ],
   "source": [
    "library(readr)\n",
    "library(mechkar)\n",
    "library(dplyr)\n",
    "library(ggplot2)"
   ]
  },
  {
   "cell_type": "code",
   "execution_count": 3,
   "metadata": {},
   "outputs": [],
   "source": [
    "df_train <- read.csv(\"C:/Users/Rita/DataScience/data/BikeSharing/train.csv\")\n",
    "df_test <- read.csv(\"C:/Users/Rita/DataScience/data/BikeSharing/test.csv\")"
   ]
  },
  {
   "cell_type": "code",
   "execution_count": 4,
   "metadata": {},
   "outputs": [
    {
     "data": {
      "text/html": [
       "<table>\n",
       "<caption>A data.frame: 6 × 12</caption>\n",
       "<thead>\n",
       "\t<tr><th></th><th scope=col>id</th><th scope=col>season</th><th scope=col>mnth</th><th scope=col>holiday</th><th scope=col>weekday</th><th scope=col>workingday</th><th scope=col>weathersit</th><th scope=col>temp</th><th scope=col>atemp</th><th scope=col>hum</th><th scope=col>windspeed</th><th scope=col>cnt</th></tr>\n",
       "\t<tr><th></th><th scope=col>&lt;int&gt;</th><th scope=col>&lt;int&gt;</th><th scope=col>&lt;int&gt;</th><th scope=col>&lt;int&gt;</th><th scope=col>&lt;int&gt;</th><th scope=col>&lt;int&gt;</th><th scope=col>&lt;int&gt;</th><th scope=col>&lt;dbl&gt;</th><th scope=col>&lt;dbl&gt;</th><th scope=col>&lt;dbl&gt;</th><th scope=col>&lt;dbl&gt;</th><th scope=col>&lt;int&gt;</th></tr>\n",
       "</thead>\n",
       "<tbody>\n",
       "\t<tr><th scope=row>1</th><td>1</td><td>1</td><td>1</td><td>0</td><td>6</td><td>0</td><td>2</td><td>0.344167</td><td>0.363625</td><td>0.805833</td><td>0.1604460</td><td> 985</td></tr>\n",
       "\t<tr><th scope=row>2</th><td>2</td><td>1</td><td>1</td><td>0</td><td>0</td><td>0</td><td>2</td><td>0.363478</td><td>0.353739</td><td>0.696087</td><td>0.2485390</td><td> 801</td></tr>\n",
       "\t<tr><th scope=row>3</th><td>3</td><td>1</td><td>1</td><td>0</td><td>1</td><td>1</td><td>1</td><td>0.196364</td><td>0.189405</td><td>0.437273</td><td>0.2483090</td><td>1349</td></tr>\n",
       "\t<tr><th scope=row>4</th><td>4</td><td>1</td><td>1</td><td>0</td><td>2</td><td>1</td><td>1</td><td>0.200000</td><td>0.212122</td><td>0.590435</td><td>0.1602960</td><td>1562</td></tr>\n",
       "\t<tr><th scope=row>5</th><td>5</td><td>1</td><td>1</td><td>0</td><td>3</td><td>1</td><td>1</td><td>0.226957</td><td>0.229270</td><td>0.436957</td><td>0.1869000</td><td>1600</td></tr>\n",
       "\t<tr><th scope=row>6</th><td>6</td><td>1</td><td>1</td><td>0</td><td>4</td><td>1</td><td>1</td><td>0.204348</td><td>0.233209</td><td>0.518261</td><td>0.0895652</td><td>1606</td></tr>\n",
       "</tbody>\n",
       "</table>\n"
      ],
      "text/latex": [
       "A data.frame: 6 × 12\n",
       "\\begin{tabular}{r|llllllllllll}\n",
       "  & id & season & mnth & holiday & weekday & workingday & weathersit & temp & atemp & hum & windspeed & cnt\\\\\n",
       "  & <int> & <int> & <int> & <int> & <int> & <int> & <int> & <dbl> & <dbl> & <dbl> & <dbl> & <int>\\\\\n",
       "\\hline\n",
       "\t1 & 1 & 1 & 1 & 0 & 6 & 0 & 2 & 0.344167 & 0.363625 & 0.805833 & 0.1604460 &  985\\\\\n",
       "\t2 & 2 & 1 & 1 & 0 & 0 & 0 & 2 & 0.363478 & 0.353739 & 0.696087 & 0.2485390 &  801\\\\\n",
       "\t3 & 3 & 1 & 1 & 0 & 1 & 1 & 1 & 0.196364 & 0.189405 & 0.437273 & 0.2483090 & 1349\\\\\n",
       "\t4 & 4 & 1 & 1 & 0 & 2 & 1 & 1 & 0.200000 & 0.212122 & 0.590435 & 0.1602960 & 1562\\\\\n",
       "\t5 & 5 & 1 & 1 & 0 & 3 & 1 & 1 & 0.226957 & 0.229270 & 0.436957 & 0.1869000 & 1600\\\\\n",
       "\t6 & 6 & 1 & 1 & 0 & 4 & 1 & 1 & 0.204348 & 0.233209 & 0.518261 & 0.0895652 & 1606\\\\\n",
       "\\end{tabular}\n"
      ],
      "text/markdown": [
       "\n",
       "A data.frame: 6 × 12\n",
       "\n",
       "| <!--/--> | id &lt;int&gt; | season &lt;int&gt; | mnth &lt;int&gt; | holiday &lt;int&gt; | weekday &lt;int&gt; | workingday &lt;int&gt; | weathersit &lt;int&gt; | temp &lt;dbl&gt; | atemp &lt;dbl&gt; | hum &lt;dbl&gt; | windspeed &lt;dbl&gt; | cnt &lt;int&gt; |\n",
       "|---|---|---|---|---|---|---|---|---|---|---|---|---|\n",
       "| 1 | 1 | 1 | 1 | 0 | 6 | 0 | 2 | 0.344167 | 0.363625 | 0.805833 | 0.1604460 |  985 |\n",
       "| 2 | 2 | 1 | 1 | 0 | 0 | 0 | 2 | 0.363478 | 0.353739 | 0.696087 | 0.2485390 |  801 |\n",
       "| 3 | 3 | 1 | 1 | 0 | 1 | 1 | 1 | 0.196364 | 0.189405 | 0.437273 | 0.2483090 | 1349 |\n",
       "| 4 | 4 | 1 | 1 | 0 | 2 | 1 | 1 | 0.200000 | 0.212122 | 0.590435 | 0.1602960 | 1562 |\n",
       "| 5 | 5 | 1 | 1 | 0 | 3 | 1 | 1 | 0.226957 | 0.229270 | 0.436957 | 0.1869000 | 1600 |\n",
       "| 6 | 6 | 1 | 1 | 0 | 4 | 1 | 1 | 0.204348 | 0.233209 | 0.518261 | 0.0895652 | 1606 |\n",
       "\n"
      ],
      "text/plain": [
       "  id season mnth holiday weekday workingday weathersit temp     atemp   \n",
       "1 1  1      1    0       6       0          2          0.344167 0.363625\n",
       "2 2  1      1    0       0       0          2          0.363478 0.353739\n",
       "3 3  1      1    0       1       1          1          0.196364 0.189405\n",
       "4 4  1      1    0       2       1          1          0.200000 0.212122\n",
       "5 5  1      1    0       3       1          1          0.226957 0.229270\n",
       "6 6  1      1    0       4       1          1          0.204348 0.233209\n",
       "  hum      windspeed cnt \n",
       "1 0.805833 0.1604460  985\n",
       "2 0.696087 0.2485390  801\n",
       "3 0.437273 0.2483090 1349\n",
       "4 0.590435 0.1602960 1562\n",
       "5 0.436957 0.1869000 1600\n",
       "6 0.518261 0.0895652 1606"
      ]
     },
     "metadata": {},
     "output_type": "display_data"
    },
    {
     "data": {
      "text/html": [
       "<style>\n",
       ".list-inline {list-style: none; margin:0; padding: 0}\n",
       ".list-inline>li {display: inline-block}\n",
       ".list-inline>li:not(:last-child)::after {content: \"\\00b7\"; padding: 0 .5ex}\n",
       "</style>\n",
       "<ol class=list-inline><li>365</li><li>12</li></ol>\n"
      ],
      "text/latex": [
       "\\begin{enumerate*}\n",
       "\\item 365\n",
       "\\item 12\n",
       "\\end{enumerate*}\n"
      ],
      "text/markdown": [
       "1. 365\n",
       "2. 12\n",
       "\n",
       "\n"
      ],
      "text/plain": [
       "[1] 365  12"
      ]
     },
     "metadata": {},
     "output_type": "display_data"
    }
   ],
   "source": [
    "head(df_train)\n",
    "dim(df_train)"
   ]
  },
  {
   "cell_type": "code",
   "execution_count": 5,
   "metadata": {},
   "outputs": [
    {
     "data": {
      "text/html": [
       "<table>\n",
       "<caption>A data.frame: 6 × 11</caption>\n",
       "<thead>\n",
       "\t<tr><th></th><th scope=col>id</th><th scope=col>season</th><th scope=col>mnth</th><th scope=col>holiday</th><th scope=col>weekday</th><th scope=col>workingday</th><th scope=col>weathersit</th><th scope=col>temp</th><th scope=col>atemp</th><th scope=col>hum</th><th scope=col>windspeed</th></tr>\n",
       "\t<tr><th></th><th scope=col>&lt;int&gt;</th><th scope=col>&lt;int&gt;</th><th scope=col>&lt;int&gt;</th><th scope=col>&lt;int&gt;</th><th scope=col>&lt;int&gt;</th><th scope=col>&lt;int&gt;</th><th scope=col>&lt;int&gt;</th><th scope=col>&lt;dbl&gt;</th><th scope=col>&lt;dbl&gt;</th><th scope=col>&lt;dbl&gt;</th><th scope=col>&lt;dbl&gt;</th></tr>\n",
       "</thead>\n",
       "<tbody>\n",
       "\t<tr><th scope=row>1</th><td>366</td><td>1</td><td>1</td><td>0</td><td>0</td><td>0</td><td>1</td><td>0.370000</td><td>0.375621</td><td>0.692500</td><td>0.192167</td></tr>\n",
       "\t<tr><th scope=row>2</th><td>367</td><td>1</td><td>1</td><td>1</td><td>1</td><td>0</td><td>1</td><td>0.273043</td><td>0.252304</td><td>0.381304</td><td>0.329665</td></tr>\n",
       "\t<tr><th scope=row>3</th><td>368</td><td>1</td><td>1</td><td>0</td><td>2</td><td>1</td><td>1</td><td>0.150000</td><td>0.126275</td><td>0.441250</td><td>0.365671</td></tr>\n",
       "\t<tr><th scope=row>4</th><td>369</td><td>1</td><td>1</td><td>0</td><td>3</td><td>1</td><td>2</td><td>0.107500</td><td>0.119337</td><td>0.414583</td><td>0.184700</td></tr>\n",
       "\t<tr><th scope=row>5</th><td>370</td><td>1</td><td>1</td><td>0</td><td>4</td><td>1</td><td>1</td><td>0.265833</td><td>0.278412</td><td>0.524167</td><td>0.129987</td></tr>\n",
       "\t<tr><th scope=row>6</th><td>371</td><td>1</td><td>1</td><td>0</td><td>5</td><td>1</td><td>1</td><td>0.334167</td><td>0.340267</td><td>0.542083</td><td>0.167908</td></tr>\n",
       "</tbody>\n",
       "</table>\n"
      ],
      "text/latex": [
       "A data.frame: 6 × 11\n",
       "\\begin{tabular}{r|lllllllllll}\n",
       "  & id & season & mnth & holiday & weekday & workingday & weathersit & temp & atemp & hum & windspeed\\\\\n",
       "  & <int> & <int> & <int> & <int> & <int> & <int> & <int> & <dbl> & <dbl> & <dbl> & <dbl>\\\\\n",
       "\\hline\n",
       "\t1 & 366 & 1 & 1 & 0 & 0 & 0 & 1 & 0.370000 & 0.375621 & 0.692500 & 0.192167\\\\\n",
       "\t2 & 367 & 1 & 1 & 1 & 1 & 0 & 1 & 0.273043 & 0.252304 & 0.381304 & 0.329665\\\\\n",
       "\t3 & 368 & 1 & 1 & 0 & 2 & 1 & 1 & 0.150000 & 0.126275 & 0.441250 & 0.365671\\\\\n",
       "\t4 & 369 & 1 & 1 & 0 & 3 & 1 & 2 & 0.107500 & 0.119337 & 0.414583 & 0.184700\\\\\n",
       "\t5 & 370 & 1 & 1 & 0 & 4 & 1 & 1 & 0.265833 & 0.278412 & 0.524167 & 0.129987\\\\\n",
       "\t6 & 371 & 1 & 1 & 0 & 5 & 1 & 1 & 0.334167 & 0.340267 & 0.542083 & 0.167908\\\\\n",
       "\\end{tabular}\n"
      ],
      "text/markdown": [
       "\n",
       "A data.frame: 6 × 11\n",
       "\n",
       "| <!--/--> | id &lt;int&gt; | season &lt;int&gt; | mnth &lt;int&gt; | holiday &lt;int&gt; | weekday &lt;int&gt; | workingday &lt;int&gt; | weathersit &lt;int&gt; | temp &lt;dbl&gt; | atemp &lt;dbl&gt; | hum &lt;dbl&gt; | windspeed &lt;dbl&gt; |\n",
       "|---|---|---|---|---|---|---|---|---|---|---|---|\n",
       "| 1 | 366 | 1 | 1 | 0 | 0 | 0 | 1 | 0.370000 | 0.375621 | 0.692500 | 0.192167 |\n",
       "| 2 | 367 | 1 | 1 | 1 | 1 | 0 | 1 | 0.273043 | 0.252304 | 0.381304 | 0.329665 |\n",
       "| 3 | 368 | 1 | 1 | 0 | 2 | 1 | 1 | 0.150000 | 0.126275 | 0.441250 | 0.365671 |\n",
       "| 4 | 369 | 1 | 1 | 0 | 3 | 1 | 2 | 0.107500 | 0.119337 | 0.414583 | 0.184700 |\n",
       "| 5 | 370 | 1 | 1 | 0 | 4 | 1 | 1 | 0.265833 | 0.278412 | 0.524167 | 0.129987 |\n",
       "| 6 | 371 | 1 | 1 | 0 | 5 | 1 | 1 | 0.334167 | 0.340267 | 0.542083 | 0.167908 |\n",
       "\n"
      ],
      "text/plain": [
       "  id  season mnth holiday weekday workingday weathersit temp     atemp   \n",
       "1 366 1      1    0       0       0          1          0.370000 0.375621\n",
       "2 367 1      1    1       1       0          1          0.273043 0.252304\n",
       "3 368 1      1    0       2       1          1          0.150000 0.126275\n",
       "4 369 1      1    0       3       1          2          0.107500 0.119337\n",
       "5 370 1      1    0       4       1          1          0.265833 0.278412\n",
       "6 371 1      1    0       5       1          1          0.334167 0.340267\n",
       "  hum      windspeed\n",
       "1 0.692500 0.192167 \n",
       "2 0.381304 0.329665 \n",
       "3 0.441250 0.365671 \n",
       "4 0.414583 0.184700 \n",
       "5 0.524167 0.129987 \n",
       "6 0.542083 0.167908 "
      ]
     },
     "metadata": {},
     "output_type": "display_data"
    },
    {
     "data": {
      "text/html": [
       "<style>\n",
       ".list-inline {list-style: none; margin:0; padding: 0}\n",
       ".list-inline>li {display: inline-block}\n",
       ".list-inline>li:not(:last-child)::after {content: \"\\00b7\"; padding: 0 .5ex}\n",
       "</style>\n",
       "<ol class=list-inline><li>366</li><li>11</li></ol>\n"
      ],
      "text/latex": [
       "\\begin{enumerate*}\n",
       "\\item 366\n",
       "\\item 11\n",
       "\\end{enumerate*}\n"
      ],
      "text/markdown": [
       "1. 366\n",
       "2. 11\n",
       "\n",
       "\n"
      ],
      "text/plain": [
       "[1] 366  11"
      ]
     },
     "metadata": {},
     "output_type": "display_data"
    }
   ],
   "source": [
    "head(df_test)\n",
    "dim(df_test)"
   ]
  },
  {
   "cell_type": "markdown",
   "metadata": {},
   "source": [
    "# EDA"
   ]
  },
  {
   "cell_type": "code",
   "execution_count": 6,
   "metadata": {},
   "outputs": [
    {
     "data": {
      "text/plain": [
       "       id          season           mnth           holiday      \n",
       " Min.   :  1   Min.   :1.000   Min.   : 1.000   Min.   :0.0000  \n",
       " 1st Qu.: 92   1st Qu.:2.000   1st Qu.: 4.000   1st Qu.:0.0000  \n",
       " Median :183   Median :3.000   Median : 7.000   Median :0.0000  \n",
       " Mean   :183   Mean   :2.499   Mean   : 6.526   Mean   :0.0274  \n",
       " 3rd Qu.:274   3rd Qu.:3.000   3rd Qu.:10.000   3rd Qu.:0.0000  \n",
       " Max.   :365   Max.   :4.000   Max.   :12.000   Max.   :1.0000  \n",
       "    weekday        workingday       weathersit         temp        \n",
       " Min.   :0.000   Min.   :0.0000   Min.   :1.000   Min.   :0.05913  \n",
       " 1st Qu.:1.000   1st Qu.:0.0000   1st Qu.:1.000   1st Qu.:0.32500  \n",
       " Median :3.000   Median :1.0000   Median :1.000   Median :0.47917  \n",
       " Mean   :3.008   Mean   :0.6849   Mean   :1.422   Mean   :0.48666  \n",
       " 3rd Qu.:5.000   3rd Qu.:1.0000   3rd Qu.:2.000   3rd Qu.:0.65667  \n",
       " Max.   :6.000   Max.   :1.0000   Max.   :3.000   Max.   :0.84917  \n",
       "     atemp              hum           windspeed            cnt      \n",
       " Min.   :0.07907   Min.   :0.0000   Min.   :0.02239   Min.   : 431  \n",
       " 1st Qu.:0.32195   1st Qu.:0.5383   1st Qu.:0.13558   1st Qu.:2132  \n",
       " Median :0.47285   Median :0.6475   Median :0.18690   Median :3740  \n",
       " Mean   :0.46684   Mean   :0.6437   Mean   :0.19140   Mean   :3406  \n",
       " 3rd Qu.:0.61238   3rd Qu.:0.7421   3rd Qu.:0.23508   3rd Qu.:4586  \n",
       " Max.   :0.84090   Max.   :0.9725   Max.   :0.50746   Max.   :6043  "
      ]
     },
     "metadata": {},
     "output_type": "display_data"
    }
   ],
   "source": [
    "summary(df_train)"
   ]
  },
  {
   "cell_type": "code",
   "execution_count": 7,
   "metadata": {},
   "outputs": [],
   "source": [
    "df_train$season <- factor(df_train$season)\n",
    "df_train$mnth <- factor(df_train$mnth)\n",
    "df_train$holiday <- factor(df_train$holiday)\n",
    "df_train$weekday <- factor(df_train$weekday)\n",
    "df_train$workingday <- factor(df_train$workingday)\n",
    "df_train$weathersit <- factor(df_train$weathersit)\n"
   ]
  },
  {
   "cell_type": "code",
   "execution_count": 8,
   "metadata": {},
   "outputs": [
    {
     "data": {
      "text/plain": [
       "       id      season      mnth     holiday weekday workingday weathersit\n",
       " Min.   :  1   1:90   1      : 31   0:355   0:52    0:115      1:226     \n",
       " 1st Qu.: 92   2:92   3      : 31   1: 10   1:52    1:250      2:124     \n",
       " Median :183   3:94   5      : 31           2:52               3: 15     \n",
       " Mean   :183   4:89   7      : 31           3:52                         \n",
       " 3rd Qu.:274          8      : 31           4:52                         \n",
       " Max.   :365          10     : 31           5:52                         \n",
       "                      (Other):179           6:53                         \n",
       "      temp             atemp              hum           windspeed      \n",
       " Min.   :0.05913   Min.   :0.07907   Min.   :0.0000   Min.   :0.02239  \n",
       " 1st Qu.:0.32500   1st Qu.:0.32195   1st Qu.:0.5383   1st Qu.:0.13558  \n",
       " Median :0.47917   Median :0.47285   Median :0.6475   Median :0.18690  \n",
       " Mean   :0.48666   Mean   :0.46684   Mean   :0.6437   Mean   :0.19140  \n",
       " 3rd Qu.:0.65667   3rd Qu.:0.61238   3rd Qu.:0.7421   3rd Qu.:0.23508  \n",
       " Max.   :0.84917   Max.   :0.84090   Max.   :0.9725   Max.   :0.50746  \n",
       "                                                                       \n",
       "      cnt      \n",
       " Min.   : 431  \n",
       " 1st Qu.:2132  \n",
       " Median :3740  \n",
       " Mean   :3406  \n",
       " 3rd Qu.:4586  \n",
       " Max.   :6043  \n",
       "               "
      ]
     },
     "metadata": {},
     "output_type": "display_data"
    }
   ],
   "source": [
    "summary(df_train)"
   ]
  },
  {
   "cell_type": "code",
   "execution_count": 29,
   "metadata": {},
   "outputs": [],
   "source": [
    "df_test$season <- factor(df_test$season)\n",
    "df_test$mnth <- factor(df_test$mnth)\n",
    "df_test$holiday <- factor(df_test$holiday)\n",
    "df_test$weekday <- factor(df_test$weekday)\n",
    "df_test$workingday <- factor(df_test$workingday)\n",
    "df_test$weathersit <- factor(df_test$weathersit)"
   ]
  },
  {
   "cell_type": "markdown",
   "metadata": {},
   "source": [
    "# MODELS"
   ]
  },
  {
   "cell_type": "code",
   "execution_count": 9,
   "metadata": {},
   "outputs": [],
   "source": [
    "### The error we will use is the RMSE and RMSLE\n",
    "rmse <- function(y,y_hat) {\n",
    "    err <- sqrt(sum((y_hat-y)^2,na.rm=T)/length(y))\n",
    "    return(err)\n",
    "}\n",
    "\n",
    "rmsle <- function(y,y_hat) {\n",
    "    err <- sqrt(sum((log(y_hat+1)-log(y+1))^2,na.rm=T)/length(y))\n",
    "    return(err)\n",
    "}\n"
   ]
  },
  {
   "cell_type": "code",
   "execution_count": 10,
   "metadata": {},
   "outputs": [],
   "source": [
    "### Table of resulting errors\n",
    "### Name, Model, RMSE, RMSLE\n",
    "err_res <- NULL"
   ]
  },
  {
   "cell_type": "markdown",
   "metadata": {},
   "source": [
    "## Linear Models"
   ]
  },
  {
   "cell_type": "code",
   "execution_count": 11,
   "metadata": {},
   "outputs": [
    {
     "data": {
      "text/plain": [
       "\n",
       "Call:\n",
       "lm(formula = cnt ~ ., data = df_train)\n",
       "\n",
       "Residuals:\n",
       "     Min       1Q   Median       3Q      Max \n",
       "-2325.73  -280.10    42.23   305.07  2043.37 \n",
       "\n",
       "Coefficients: (1 not defined because of singularities)\n",
       "             Estimate Std. Error t value Pr(>|t|)    \n",
       "(Intercept)  1921.288    253.914   7.567 3.71e-13 ***\n",
       "id             -4.305      3.465  -1.242 0.214989    \n",
       "season2       437.257    189.483   2.308 0.021627 *  \n",
       "season3       864.707    223.559   3.868 0.000132 ***\n",
       "season4      1147.515    190.631   6.020 4.58e-09 ***\n",
       "mnth2         305.041    182.923   1.668 0.096327 .  \n",
       "mnth3         592.394    260.565   2.274 0.023626 *  \n",
       "mnth4        1242.748    398.524   3.118 0.001976 ** \n",
       "mnth5        2101.132    488.482   4.301 2.23e-05 ***\n",
       "mnth6        1920.466    586.647   3.274 0.001172 ** \n",
       "mnth7        1282.172    695.033   1.845 0.065952 .  \n",
       "mnth8        1538.101    781.534   1.968 0.049884 *  \n",
       "mnth9        2103.660    866.619   2.427 0.015731 *  \n",
       "mnth10       2115.032    971.292   2.178 0.030135 *  \n",
       "mnth11       1843.429   1075.132   1.715 0.087339 .  \n",
       "mnth12       1923.317   1169.978   1.644 0.101134    \n",
       "holiday1     -399.636    195.665  -2.042 0.041887 *  \n",
       "weekday1      103.007    115.431   0.892 0.372833    \n",
       "weekday2      140.557    113.414   1.239 0.216090    \n",
       "weekday3       95.693    114.482   0.836 0.403818    \n",
       "weekday4       75.026    114.173   0.657 0.511550    \n",
       "weekday5      147.662    113.305   1.303 0.193390    \n",
       "weekday6      142.243    112.215   1.268 0.205821    \n",
       "workingday1        NA         NA      NA       NA    \n",
       "weathersit2  -300.350     82.234  -3.652 0.000301 ***\n",
       "weathersit3 -1632.009    182.176  -8.958  < 2e-16 ***\n",
       "temp         3902.897   2345.797   1.664 0.097088 .  \n",
       "atemp        -813.836   2513.669  -0.324 0.746318    \n",
       "hum         -1261.380    302.358  -4.172 3.85e-05 ***\n",
       "windspeed   -2025.855    465.908  -4.348 1.82e-05 ***\n",
       "---\n",
       "Signif. codes:  0 '***' 0.001 '**' 0.01 '*' 0.05 '.' 0.1 ' ' 1\n",
       "\n",
       "Residual standard error: 571.2 on 336 degrees of freedom\n",
       "Multiple R-squared:  0.8416,\tAdjusted R-squared:  0.8284 \n",
       "F-statistic: 63.75 on 28 and 336 DF,  p-value: < 2.2e-16\n"
      ]
     },
     "metadata": {},
     "output_type": "display_data"
    }
   ],
   "source": [
    "## model with only the original variables\n",
    "mod1 <- lm(cnt ~., data=df_train)\n",
    "summary(mod1)"
   ]
  },
  {
   "cell_type": "code",
   "execution_count": 31,
   "metadata": {},
   "outputs": [
    {
     "name": "stderr",
     "output_type": "stream",
     "text": [
      "Warning message in predict.lm(mod1, newdata = df_train):\n",
      "\"prediction from a rank-deficient fit may be misleading\"\n"
     ]
    },
    {
     "data": {
      "text/html": [
       "548.023946431764"
      ],
      "text/latex": [
       "548.023946431764"
      ],
      "text/markdown": [
       "548.023946431764"
      ],
      "text/plain": [
       "[1] 548.0239"
      ]
     },
     "metadata": {},
     "output_type": "display_data"
    },
    {
     "name": "stderr",
     "output_type": "stream",
     "text": [
      "Warning message in log(y_hat + 1):\n",
      "\"NaNs produced\"\n"
     ]
    },
    {
     "data": {
      "text/html": [
       "0.237305366901648"
      ],
      "text/latex": [
       "0.237305366901648"
      ],
      "text/markdown": [
       "0.237305366901648"
      ],
      "text/plain": [
       "[1] 0.2373054"
      ]
     },
     "metadata": {},
     "output_type": "display_data"
    },
    {
     "name": "stderr",
     "output_type": "stream",
     "text": [
      "Warning message in log(y_hat + 1):\n",
      "\"NaNs produced\"\n"
     ]
    }
   ],
   "source": [
    "pred1<-predict(mod1,newdata=df_train)\n",
    "rmse(df_train$cnt,pred1)\n",
    "rmsle(df_train$cnt,pred1)\n",
    "err_res <- rbind(err_res, data.frame(Name=\"Base Linear regression\", Model=\"mod1\", \n",
    "                                     RMSE=rmse(df_train$cnt,pred1), \n",
    "                                     RMSLE=rmsle(df_train$cnt,pred1)))"
   ]
  },
  {
   "cell_type": "code",
   "execution_count": 32,
   "metadata": {},
   "outputs": [
    {
     "name": "stderr",
     "output_type": "stream",
     "text": [
      "Warning message in predict.lm(mod1, newdata = df_test):\n",
      "\"prediction from a rank-deficient fit may be misleading\"\n"
     ]
    }
   ],
   "source": [
    "pred1t <- predict(mod1,newdata=df_test)"
   ]
  },
  {
   "cell_type": "markdown",
   "metadata": {},
   "source": [
    "## Desicion trees"
   ]
  },
  {
   "cell_type": "code",
   "execution_count": 34,
   "metadata": {},
   "outputs": [],
   "source": [
    "library(tree)\n",
    "library(rpart)"
   ]
  },
  {
   "cell_type": "code",
   "execution_count": 35,
   "metadata": {},
   "outputs": [
    {
     "data": {
      "text/plain": [
       "node), split, n, deviance, yval\n",
       "      * denotes terminal node\n",
       "\n",
       " 1) root 365 692000000 3406  \n",
       "   2) temp < 0.45875 168 171500000 2274  \n",
       "     4) season: 1,2 114  49070000 1784  \n",
       "       8) id < 69.5 68  13330000 1475 *\n",
       "       9) id > 69.5 46  19660000 2240  \n",
       "        18) atemp < 0.425806 38  11860000 2062 *\n",
       "        19) atemp > 0.425806 8    872800 3086 *\n",
       "     5) season: 4 54  37290000 3308  \n",
       "      10) weathersit: 3 5   3106000 1504 *\n",
       "      11) weathersit: 1,2 49  16250000 3492 *\n",
       "   3) temp > 0.45875 197 121600000 4371  \n",
       "     6) weathersit: 3 6    580000 2330 *\n",
       "     7) weathersit: 1,2 191  95210000 4435  \n",
       "      14) id < 109.5 9   1389000 3076 *\n",
       "      15) id > 109.5 182  76360000 4502  \n",
       "        30) weathersit: 1 123  32240000 4684  \n",
       "          60) atemp < 0.711182 107  22770000 4776 *\n",
       "          61) atemp > 0.711182 16   2529000 4070 *\n",
       "        31) weathersit: 2 59  31580000 4123 *"
      ]
     },
     "metadata": {},
     "output_type": "display_data"
    }
   ],
   "source": [
    "mod3 <- tree(cnt ~., data=df_train)\n",
    "mod3"
   ]
  },
  {
   "cell_type": "code",
   "execution_count": 37,
   "metadata": {},
   "outputs": [
    {
     "data": {
      "text/html": [
       "534.459601769152"
      ],
      "text/latex": [
       "534.459601769152"
      ],
      "text/markdown": [
       "534.459601769152"
      ],
      "text/plain": [
       "[1] 534.4596"
      ]
     },
     "metadata": {},
     "output_type": "display_data"
    },
    {
     "data": {
      "text/html": [
       "0.241979354431028"
      ],
      "text/latex": [
       "0.241979354431028"
      ],
      "text/markdown": [
       "0.241979354431028"
      ],
      "text/plain": [
       "[1] 0.2419794"
      ]
     },
     "metadata": {},
     "output_type": "display_data"
    }
   ],
   "source": [
    "pred3 <- predict(mod3,newdata=df_train)\n",
    "rmse(df_train$cnt,pred3)\n",
    "rmsle(df_train$cnt,pred3)\n",
    "err_res <- rbind(err_res, data.frame(Name=\"Decision Trees-tree\", Model=\"mod3\", \n",
    "                                     RMSE=rmse(df_train$cnt,pred3), \n",
    "                                     RMSLE=rmsle(df_train$cnt,pred3)))"
   ]
  },
  {
   "cell_type": "code",
   "execution_count": 38,
   "metadata": {},
   "outputs": [
    {
     "data": {
      "text/plain": [
       "n= 365 \n",
       "\n",
       "node), split, n, deviance, yval\n",
       "      * denotes terminal node\n",
       "\n",
       " 1) root 365 691950000 3405.762  \n",
       "   2) temp< 0.45875 168 171530300 2273.774  \n",
       "     4) season=1,2 114  49065890 1783.711  \n",
       "       8) id< 69.5 68  13329020 1474.882 *\n",
       "       9) id>=69.5 46  19664140 2240.239  \n",
       "        18) atemp< 0.4258065 38  11864130 2062.184 *\n",
       "        19) atemp>=0.4258065 8    872784 3086.000 *\n",
       "     5) season=4 54  37286910 3308.352  \n",
       "      10) hum>=0.820208 7   8441789 2035.143 *\n",
       "      11) hum< 0.820208 47  15807650 3497.979 *\n",
       "   3) temp>=0.45875 197 121560700 4371.112  \n",
       "     6) hum>=0.8485415 21  24075730 3340.238 *\n",
       "     7) hum< 0.8485415 176  72505520 4494.114  \n",
       "      14) id< 109.5 9   1389192 3075.556 *\n",
       "      15) id>=109.5 167  52029540 4570.563 *"
      ]
     },
     "metadata": {},
     "output_type": "display_data"
    }
   ],
   "source": [
    "mod4 <- rpart(cnt ~., data=df_train)\n",
    "mod4"
   ]
  },
  {
   "cell_type": "code",
   "execution_count": 39,
   "metadata": {},
   "outputs": [
    {
     "data": {
      "text/html": [
       "591.74648803417"
      ],
      "text/latex": [
       "591.74648803417"
      ],
      "text/markdown": [
       "591.74648803417"
      ],
      "text/plain": [
       "[1] 591.7465"
      ]
     },
     "metadata": {},
     "output_type": "display_data"
    },
    {
     "data": {
      "text/html": [
       "0.256321875944652"
      ],
      "text/latex": [
       "0.256321875944652"
      ],
      "text/markdown": [
       "0.256321875944652"
      ],
      "text/plain": [
       "[1] 0.2563219"
      ]
     },
     "metadata": {},
     "output_type": "display_data"
    }
   ],
   "source": [
    "pred4 <- predict(mod4,newdata=df_train)\n",
    "rmse(df_train$cnt,pred4)\n",
    "rmsle(df_train$cnt,pred4)\n",
    "err_res <- rbind(err_res, data.frame(Name=\"Decision Trees-rpart\", Model=\"mod4\", \n",
    "                                     RMSE=rmse(df_train$cnt,pred4), \n",
    "                                     RMSLE=rmsle(df_train$cnt,pred4)))"
   ]
  },
  {
   "cell_type": "markdown",
   "metadata": {},
   "source": [
    "## Random Forest"
   ]
  },
  {
   "cell_type": "code",
   "execution_count": 40,
   "metadata": {},
   "outputs": [
    {
     "name": "stderr",
     "output_type": "stream",
     "text": [
      "randomForest 4.6-14\n",
      "\n",
      "Type rfNews() to see new features/changes/bug fixes.\n",
      "\n",
      "\n",
      "Attaching package: 'randomForest'\n",
      "\n",
      "\n",
      "The following object is masked from 'package:ggplot2':\n",
      "\n",
      "    margin\n",
      "\n",
      "\n",
      "The following object is masked from 'package:dplyr':\n",
      "\n",
      "    combine\n",
      "\n",
      "\n",
      "\n",
      "Attaching package: 'ranger'\n",
      "\n",
      "\n",
      "The following object is masked from 'package:randomForest':\n",
      "\n",
      "    importance\n",
      "\n",
      "\n"
     ]
    }
   ],
   "source": [
    "library(randomForest)\n",
    "library(ranger)"
   ]
  },
  {
   "cell_type": "code",
   "execution_count": 41,
   "metadata": {},
   "outputs": [
    {
     "data": {
      "text/plain": [
       "\n",
       "Call:\n",
       " randomForest(formula = cnt ~ ., data = df_train) \n",
       "               Type of random forest: regression\n",
       "                     Number of trees: 500\n",
       "No. of variables tried at each split: 3\n",
       "\n",
       "          Mean of squared residuals: 266792.5\n",
       "                    % Var explained: 85.93"
      ]
     },
     "metadata": {},
     "output_type": "display_data"
    }
   ],
   "source": [
    "mod5 <- randomForest(cnt ~., data=df_train)\n",
    "mod5"
   ]
  },
  {
   "cell_type": "code",
   "execution_count": 42,
   "metadata": {},
   "outputs": [
    {
     "data": {
      "text/html": [
       "236.913878848169"
      ],
      "text/latex": [
       "236.913878848169"
      ],
      "text/markdown": [
       "236.913878848169"
      ],
      "text/plain": [
       "[1] 236.9139"
      ]
     },
     "metadata": {},
     "output_type": "display_data"
    },
    {
     "data": {
      "text/html": [
       "0.137347909704507"
      ],
      "text/latex": [
       "0.137347909704507"
      ],
      "text/markdown": [
       "0.137347909704507"
      ],
      "text/plain": [
       "[1] 0.1373479"
      ]
     },
     "metadata": {},
     "output_type": "display_data"
    }
   ],
   "source": [
    "pred5 <- predict(mod5,newdata=df_train)\n",
    "rmse(df_train$cnt,pred5)\n",
    "rmsle(df_train$cnt,pred5)\n",
    "\n",
    "err_res <- rbind(err_res, data.frame(Name=\"RandomForest (RF)\", Model=\"mod5\", \n",
    "                                     RMSE=rmse(df_train$cnt,pred5), \n",
    "                                     RMSLE=rmsle(df_train$cnt,pred5)))"
   ]
  },
  {
   "cell_type": "code",
   "execution_count": 43,
   "metadata": {},
   "outputs": [
    {
     "data": {
      "text/plain": [
       "Ranger result\n",
       "\n",
       "Call:\n",
       " ranger(cnt ~ ., data = df_train) \n",
       "\n",
       "Type:                             Regression \n",
       "Number of trees:                  500 \n",
       "Sample size:                      365 \n",
       "Number of independent variables:  11 \n",
       "Mtry:                             3 \n",
       "Target node size:                 5 \n",
       "Variable importance mode:         none \n",
       "Splitrule:                        variance \n",
       "OOB prediction error (MSE):       250217.9 \n",
       "R squared (OOB):                  0.868373 "
      ]
     },
     "metadata": {},
     "output_type": "display_data"
    }
   ],
   "source": [
    "mod6 <- ranger(cnt ~., data=df_train)\n",
    "mod6"
   ]
  },
  {
   "cell_type": "code",
   "execution_count": 44,
   "metadata": {},
   "outputs": [
    {
     "data": {
      "text/html": [
       "234.432218462978"
      ],
      "text/latex": [
       "234.432218462978"
      ],
      "text/markdown": [
       "234.432218462978"
      ],
      "text/plain": [
       "[1] 234.4322"
      ]
     },
     "metadata": {},
     "output_type": "display_data"
    },
    {
     "data": {
      "text/html": [
       "0.136756825641708"
      ],
      "text/latex": [
       "0.136756825641708"
      ],
      "text/markdown": [
       "0.136756825641708"
      ],
      "text/plain": [
       "[1] 0.1367568"
      ]
     },
     "metadata": {},
     "output_type": "display_data"
    }
   ],
   "source": [
    "pred6 <- predict(mod6,data=df_train)\n",
    "#head(pred6)\n",
    "rmse(df_train$cnt, pred6$predictions)\n",
    "rmsle(df_train$cnt, pred6$predictions)\n",
    "err_res <- rbind(err_res, data.frame(Name=\"RandomForest (ranger)\", Model=\"mod6\", \n",
    "                                     RMSE=rmse(df_train$cnt,pred6$predictions), \n",
    "                                     RMSLE=rmsle(df_train$cnt,pred6$predictions)))"
   ]
  },
  {
   "cell_type": "markdown",
   "metadata": {},
   "source": [
    "## XGBoost"
   ]
  },
  {
   "cell_type": "code",
   "execution_count": 45,
   "metadata": {},
   "outputs": [
    {
     "name": "stderr",
     "output_type": "stream",
     "text": [
      "Installing package into 'C:/Users/Rita/Documents/R/win-library/4.0'\n",
      "(as 'lib' is unspecified)\n",
      "\n"
     ]
    },
    {
     "name": "stdout",
     "output_type": "stream",
     "text": [
      "package 'xgboost' successfully unpacked and MD5 sums checked\n",
      "\n",
      "The downloaded binary packages are in\n",
      "\tC:\\Users\\Rita\\AppData\\Local\\Temp\\Rtmpya5bcq\\downloaded_packages\n"
     ]
    }
   ],
   "source": [
    "install.packages(\"xgboost\")"
   ]
  },
  {
   "cell_type": "code",
   "execution_count": 46,
   "metadata": {},
   "outputs": [
    {
     "name": "stderr",
     "output_type": "stream",
     "text": [
      "Warning message:\n",
      "\"package 'xgboost' was built under R version 4.0.3\"\n",
      "\n",
      "Attaching package: 'xgboost'\n",
      "\n",
      "\n",
      "The following object is masked from 'package:dplyr':\n",
      "\n",
      "    slice\n",
      "\n",
      "\n"
     ]
    }
   ],
   "source": [
    "library(xgboost)"
   ]
  },
  {
   "cell_type": "code",
   "execution_count": 48,
   "metadata": {},
   "outputs": [],
   "source": [
    "train_num <- df_train"
   ]
  },
  {
   "cell_type": "code",
   "execution_count": 49,
   "metadata": {},
   "outputs": [],
   "source": [
    "test_num <- df_test"
   ]
  },
  {
   "cell_type": "code",
   "execution_count": 50,
   "metadata": {},
   "outputs": [],
   "source": [
    "train_num$season <- as.numeric(train_num$season)\n",
    "train_num$mnth <- as.numeric(train_num$mnth)\n",
    "train_num$holiday <- as.numeric(train_num$holiday)\n",
    "train_num$weekday <- as.numeric(train_num$weekday)\n",
    "train_num$workingday <- as.numeric(train_num$weathersit)\n",
    "train_num$weathersit <- as.numeric(train_num$mnth)"
   ]
  },
  {
   "cell_type": "code",
   "execution_count": 51,
   "metadata": {},
   "outputs": [],
   "source": [
    "test_num$season <- as.numeric(test_num$season)\n",
    "test_num$mnth <- as.numeric(test_num$mnth)\n",
    "test_num$holiday <- as.numeric(test_num$holiday)\n",
    "test_num$weekday <- as.numeric(test_num$weekday)\n",
    "test_num$workingday <- as.numeric(test_num$weathersit)\n",
    "test_num$weathersit <- as.numeric(test_num$mnth)"
   ]
  },
  {
   "cell_type": "code",
   "execution_count": 52,
   "metadata": {},
   "outputs": [
    {
     "data": {
      "text/plain": [
       "       id            season           mnth           holiday    \n",
       " Min.   :366.0   Min.   :1.000   Min.   : 1.000   Min.   :1.00  \n",
       " 1st Qu.:457.2   1st Qu.:2.000   1st Qu.: 4.000   1st Qu.:1.00  \n",
       " Median :548.5   Median :2.500   Median : 7.000   Median :1.00  \n",
       " Mean   :548.5   Mean   :2.495   Mean   : 6.514   Mean   :1.03  \n",
       " 3rd Qu.:639.8   3rd Qu.:3.000   3rd Qu.: 9.750   3rd Qu.:1.00  \n",
       " Max.   :731.0   Max.   :4.000   Max.   :12.000   Max.   :2.00  \n",
       "    weekday        workingday      weathersit          temp       \n",
       " Min.   :1.000   Min.   :1.000   Min.   : 1.000   Min.   :0.1075  \n",
       " 1st Qu.:2.000   1st Qu.:1.000   1st Qu.: 4.000   1st Qu.:0.3477  \n",
       " Median :4.000   Median :1.000   Median : 7.000   Median :0.5142  \n",
       " Mean   :3.986   Mean   :1.369   Mean   : 6.514   Mean   :0.5041  \n",
       " 3rd Qu.:6.000   3rd Qu.:2.000   3rd Qu.: 9.750   3rd Qu.:0.6540  \n",
       " Max.   :7.000   Max.   :3.000   Max.   :12.000   Max.   :0.8617  \n",
       "     atemp             hum           windspeed      \n",
       " Min.   :0.1017   Min.   :0.2542   Min.   :0.04665  \n",
       " 1st Qu.:0.3507   1st Qu.:0.5081   1st Qu.:0.13372  \n",
       " Median :0.4978   Median :0.6119   Median :0.17475  \n",
       " Mean   :0.4819   Mean   :0.6122   Mean   :0.18957  \n",
       " 3rd Qu.:0.6076   3rd Qu.:0.7111   3rd Qu.:0.23120  \n",
       " Max.   :0.8049   Max.   :0.9250   Max.   :0.44156  "
      ]
     },
     "metadata": {},
     "output_type": "display_data"
    }
   ],
   "source": [
    "summary(test_num)"
   ]
  },
  {
   "cell_type": "code",
   "execution_count": 54,
   "metadata": {},
   "outputs": [
    {
     "data": {
      "text/plain": [
       "       id          season           mnth           holiday         weekday     \n",
       " Min.   :  1   Min.   :1.000   Min.   : 1.000   Min.   :1.000   Min.   :1.000  \n",
       " 1st Qu.: 92   1st Qu.:2.000   1st Qu.: 4.000   1st Qu.:1.000   1st Qu.:2.000  \n",
       " Median :183   Median :3.000   Median : 7.000   Median :1.000   Median :4.000  \n",
       " Mean   :183   Mean   :2.499   Mean   : 6.526   Mean   :1.027   Mean   :4.008  \n",
       " 3rd Qu.:274   3rd Qu.:3.000   3rd Qu.:10.000   3rd Qu.:1.000   3rd Qu.:6.000  \n",
       " Max.   :365   Max.   :4.000   Max.   :12.000   Max.   :2.000   Max.   :7.000  \n",
       "   workingday      weathersit          temp             atemp        \n",
       " Min.   :1.000   Min.   : 1.000   Min.   :0.05913   Min.   :0.07907  \n",
       " 1st Qu.:1.000   1st Qu.: 4.000   1st Qu.:0.32500   1st Qu.:0.32195  \n",
       " Median :1.000   Median : 7.000   Median :0.47917   Median :0.47285  \n",
       " Mean   :1.422   Mean   : 6.526   Mean   :0.48666   Mean   :0.46684  \n",
       " 3rd Qu.:2.000   3rd Qu.:10.000   3rd Qu.:0.65667   3rd Qu.:0.61238  \n",
       " Max.   :3.000   Max.   :12.000   Max.   :0.84917   Max.   :0.84090  \n",
       "      hum           windspeed            cnt      \n",
       " Min.   :0.0000   Min.   :0.02239   Min.   : 431  \n",
       " 1st Qu.:0.5383   1st Qu.:0.13558   1st Qu.:2132  \n",
       " Median :0.6475   Median :0.18690   Median :3740  \n",
       " Mean   :0.6437   Mean   :0.19140   Mean   :3406  \n",
       " 3rd Qu.:0.7421   3rd Qu.:0.23508   3rd Qu.:4586  \n",
       " Max.   :0.9725   Max.   :0.50746   Max.   :6043  "
      ]
     },
     "metadata": {},
     "output_type": "display_data"
    }
   ],
   "source": [
    "summary(train_num)"
   ]
  },
  {
   "cell_type": "markdown",
   "metadata": {},
   "source": [
    " לוקח את הרשימה שנמצא בהתחלה ומוריד את הרשימה שנמצא בחלק השני, במקרה הזה זה לא רשימה אלה המשתנה המסביר אבל יכול להיות גם רשימה, צריך להוריד את המשתנה המסביר מטסט"
   ]
  },
  {
   "cell_type": "code",
   "execution_count": 55,
   "metadata": {},
   "outputs": [
    {
     "data": {
      "text/html": [
       "<style>\n",
       ".list-inline {list-style: none; margin:0; padding: 0}\n",
       ".list-inline>li {display: inline-block}\n",
       ".list-inline>li:not(:last-child)::after {content: \"\\00b7\"; padding: 0 .5ex}\n",
       "</style>\n",
       "<ol class=list-inline><li>'id'</li><li>'season'</li><li>'mnth'</li><li>'holiday'</li><li>'weekday'</li><li>'workingday'</li><li>'weathersit'</li><li>'temp'</li><li>'atemp'</li><li>'hum'</li><li>'windspeed'</li></ol>\n"
      ],
      "text/latex": [
       "\\begin{enumerate*}\n",
       "\\item 'id'\n",
       "\\item 'season'\n",
       "\\item 'mnth'\n",
       "\\item 'holiday'\n",
       "\\item 'weekday'\n",
       "\\item 'workingday'\n",
       "\\item 'weathersit'\n",
       "\\item 'temp'\n",
       "\\item 'atemp'\n",
       "\\item 'hum'\n",
       "\\item 'windspeed'\n",
       "\\end{enumerate*}\n"
      ],
      "text/markdown": [
       "1. 'id'\n",
       "2. 'season'\n",
       "3. 'mnth'\n",
       "4. 'holiday'\n",
       "5. 'weekday'\n",
       "6. 'workingday'\n",
       "7. 'weathersit'\n",
       "8. 'temp'\n",
       "9. 'atemp'\n",
       "10. 'hum'\n",
       "11. 'windspeed'\n",
       "\n",
       "\n"
      ],
      "text/plain": [
       " [1] \"id\"         \"season\"     \"mnth\"       \"holiday\"    \"weekday\"   \n",
       " [6] \"workingday\" \"weathersit\" \"temp\"       \"atemp\"      \"hum\"       \n",
       "[11] \"windspeed\" "
      ]
     },
     "metadata": {},
     "output_type": "display_data"
    }
   ],
   "source": [
    "nm<-setdiff(names(train_num), \"cnt\")\n",
    "nm"
   ]
  },
  {
   "cell_type": "code",
   "execution_count": 56,
   "metadata": {},
   "outputs": [
    {
     "data": {
      "text/plain": [
       "       id          season           mnth           holiday         weekday     \n",
       " Min.   :  1   Min.   :1.000   Min.   : 1.000   Min.   :1.000   Min.   :1.000  \n",
       " 1st Qu.: 92   1st Qu.:2.000   1st Qu.: 4.000   1st Qu.:1.000   1st Qu.:2.000  \n",
       " Median :183   Median :3.000   Median : 7.000   Median :1.000   Median :4.000  \n",
       " Mean   :183   Mean   :2.499   Mean   : 6.526   Mean   :1.027   Mean   :4.008  \n",
       " 3rd Qu.:274   3rd Qu.:3.000   3rd Qu.:10.000   3rd Qu.:1.000   3rd Qu.:6.000  \n",
       " Max.   :365   Max.   :4.000   Max.   :12.000   Max.   :2.000   Max.   :7.000  \n",
       "   workingday      weathersit          temp             atemp        \n",
       " Min.   :1.000   Min.   : 1.000   Min.   :0.05913   Min.   :0.07907  \n",
       " 1st Qu.:1.000   1st Qu.: 4.000   1st Qu.:0.32500   1st Qu.:0.32195  \n",
       " Median :1.000   Median : 7.000   Median :0.47917   Median :0.47285  \n",
       " Mean   :1.422   Mean   : 6.526   Mean   :0.48666   Mean   :0.46684  \n",
       " 3rd Qu.:2.000   3rd Qu.:10.000   3rd Qu.:0.65667   3rd Qu.:0.61238  \n",
       " Max.   :3.000   Max.   :12.000   Max.   :0.84917   Max.   :0.84090  \n",
       "      hum           windspeed            cnt      \n",
       " Min.   :0.0000   Min.   :0.02239   Min.   : 431  \n",
       " 1st Qu.:0.5383   1st Qu.:0.13558   1st Qu.:2132  \n",
       " Median :0.6475   Median :0.18690   Median :3740  \n",
       " Mean   :0.6437   Mean   :0.19140   Mean   :3406  \n",
       " 3rd Qu.:0.7421   3rd Qu.:0.23508   3rd Qu.:4586  \n",
       " Max.   :0.9725   Max.   :0.50746   Max.   :6043  "
      ]
     },
     "metadata": {},
     "output_type": "display_data"
    }
   ],
   "source": [
    "summary(train_num)"
   ]
  },
  {
   "cell_type": "code",
   "execution_count": 57,
   "metadata": {},
   "outputs": [
    {
     "name": "stdout",
     "output_type": "stream",
     "text": [
      "[1]\ttrain-rmse:2614.907227 \n",
      "[11]\ttrain-rmse:190.945953 \n",
      "[21]\ttrain-rmse:87.085617 \n",
      "[31]\ttrain-rmse:52.676472 \n",
      "[41]\ttrain-rmse:36.509777 \n",
      "[51]\ttrain-rmse:24.465176 \n",
      "[61]\ttrain-rmse:15.888309 \n",
      "[71]\ttrain-rmse:11.345628 \n",
      "[81]\ttrain-rmse:8.119646 \n",
      "[91]\ttrain-rmse:5.775094 \n",
      "[100]\ttrain-rmse:4.264241 \n"
     ]
    }
   ],
   "source": [
    "X_train <- data.matrix(train_num[,nm])\n",
    "y_train <- train_num$cnt\n",
    "mod7 <- xgboost(data=X_train, label = y_train, nrounds=100,print_every_n = 10)"
   ]
  },
  {
   "cell_type": "code",
   "execution_count": 58,
   "metadata": {},
   "outputs": [
    {
     "data": {
      "text/html": [
       "NaN"
      ],
      "text/latex": [
       "NaN"
      ],
      "text/markdown": [
       "NaN"
      ],
      "text/plain": [
       "[1] NaN"
      ]
     },
     "metadata": {},
     "output_type": "display_data"
    },
    {
     "data": {
      "text/html": [
       "NaN"
      ],
      "text/latex": [
       "NaN"
      ],
      "text/markdown": [
       "NaN"
      ],
      "text/plain": [
       "[1] NaN"
      ]
     },
     "metadata": {},
     "output_type": "display_data"
    },
    {
     "ename": "ERROR",
     "evalue": "Error in test$cnt: object of type 'closure' is not subsettable\n",
     "output_type": "error",
     "traceback": [
      "Error in test$cnt: object of type 'closure' is not subsettable\nTraceback:\n",
      "1. rbind(err_res, data.frame(Name = \"XGBoost\", Model = \"mod7\", RMSE = rmse(test$cnt, \n .     pred7), RMSLE = rmsle(test$cnt, pred7)))",
      "2. rbind(deparse.level, ...)",
      "3. data.frame(Name = \"XGBoost\", Model = \"mod7\", RMSE = rmse(test$cnt, \n .     pred7), RMSLE = rmsle(test$cnt, pred7))",
      "4. rmse(test$cnt, pred7)"
     ]
    }
   ],
   "source": [
    "#X_test <- xgb.DMatrix(test1)\n",
    "X_test <- data.matrix(test_num[,nm])\n",
    "y_test <- test_num$cnt\n",
    "\n",
    "pred7 <- predict(mod7,newdata=X_test)\n",
    "rmse(y_test,pred7)\n",
    "rmsle(y_test,pred7)\n",
    "err_res <- rbind(err_res, data.frame(Name=\"XGBoost\", Model=\"mod7\", \n",
    "                                     RMSE=rmse(test$cnt,pred7), \n",
    "                                     RMSLE=rmsle(test$cnt,pred7)))"
   ]
  },
  {
   "cell_type": "code",
   "execution_count": 51,
   "metadata": {},
   "outputs": [],
   "source": [
    "#train1 <- Matrix::sparse.model.matrix(cnt ~ .-1, data = train_num)"
   ]
  },
  {
   "cell_type": "code",
   "execution_count": 52,
   "metadata": {},
   "outputs": [],
   "source": [
    "#test1 <- Matrix::sparse.model.matrix(cnt ~ .-1, data = test_num)"
   ]
  },
  {
   "cell_type": "code",
   "execution_count": 95,
   "metadata": {},
   "outputs": [
    {
     "data": {
      "text/html": [
       "591.958241205142"
      ],
      "text/latex": [
       "591.958241205142"
      ],
      "text/markdown": [
       "591.958241205142"
      ],
      "text/plain": [
       "[1] 591.9582"
      ]
     },
     "metadata": {},
     "output_type": "display_data"
    },
    {
     "data": {
      "text/html": [
       "0.286850049645409"
      ],
      "text/latex": [
       "0.286850049645409"
      ],
      "text/markdown": [
       "0.286850049645409"
      ],
      "text/plain": [
       "[1] 0.28685"
      ]
     },
     "metadata": {},
     "output_type": "display_data"
    }
   ],
   "source": [
    "#X_test <- xgb.DMatrix(test1)\n",
    "\n",
    "#X_test <- test1\n",
    "#y_test <- test$cnt\n",
    "\n",
    "#pred7 <- predict(mod7,newdata=X_test)\n",
    "#rmse(y_test,pred7)\n",
    "#rmsle(y_test,pred7)\n",
    "#err_res <- rbind(err_res, data.frame(Name=\"XGBoost\", Model=\"mod7\", \n",
    "                                    # RMSE=rmse(test_num$cnt,pred7), \n",
    "                                    # RMSLE=rmsle(test_num$cnt,pred7)))"
   ]
  },
  {
   "cell_type": "markdown",
   "metadata": {},
   "source": [
    "## kNN "
   ]
  },
  {
   "cell_type": "code",
   "execution_count": 54,
   "metadata": {},
   "outputs": [],
   "source": [
    "### adaboost needs that values to be normalized\n",
    "min_max <- function(x) { (x -min(x))/(max(x)-min(x))   }"
   ]
  },
  {
   "cell_type": "code",
   "execution_count": 55,
   "metadata": {},
   "outputs": [],
   "source": [
    "X_train <- sapply(data.frame(as.matrix(train1)),min_max)"
   ]
  },
  {
   "cell_type": "code",
   "execution_count": 56,
   "metadata": {},
   "outputs": [],
   "source": [
    "X_test <- sapply(data.frame(as.matrix(test1)),min_max)"
   ]
  },
  {
   "cell_type": "code",
   "execution_count": 57,
   "metadata": {},
   "outputs": [
    {
     "data": {
      "text/plain": [
       "       id             season            mnth           holiday       \n",
       " Min.   :0.0000   Min.   :0.0000   Min.   :0.0000   Min.   :0.00000  \n",
       " 1st Qu.:0.2514   1st Qu.:0.3333   1st Qu.:0.2727   1st Qu.:0.00000  \n",
       " Median :0.4945   Median :0.3333   Median :0.4545   Median :0.00000  \n",
       " Mean   :0.5018   Mean   :0.4967   Mean   :0.5041   Mean   :0.01961  \n",
       " 3rd Qu.:0.7459   3rd Qu.:0.6667   3rd Qu.:0.7273   3rd Qu.:0.00000  \n",
       " Max.   :1.0000   Max.   :1.0000   Max.   :1.0000   Max.   :1.00000  \n",
       "    weekday         workingday       weathersit          temp       \n",
       " Min.   :0.0000   Min.   :0.0000   Min.   :0.0000   Min.   :0.0000  \n",
       " 1st Qu.:0.1667   1st Qu.:0.0000   1st Qu.:0.2727   1st Qu.:0.2569  \n",
       " Median :0.5000   Median :0.0000   Median :0.4545   Median :0.4891  \n",
       " Mean   :0.5124   Mean   :0.2176   Mean   :0.5041   Mean   :0.4969  \n",
       " 3rd Qu.:0.8333   3rd Qu.:0.5000   3rd Qu.:0.7273   3rd Qu.:0.7329  \n",
       " Max.   :1.0000   Max.   :1.0000   Max.   :1.0000   Max.   :1.0000  \n",
       "     atemp             hum           windspeed     \n",
       " Min.   :0.0000   Min.   :0.0000   Min.   :0.0000  \n",
       " 1st Qu.:0.2822   1st Qu.:0.5559   1st Qu.:0.2373  \n",
       " Median :0.4922   Median :0.6658   Median :0.3423  \n",
       " Mean   :0.4872   Mean   :0.6586   Mean   :0.3463  \n",
       " 3rd Qu.:0.6869   3rd Qu.:0.7592   3rd Qu.:0.4344  \n",
       " Max.   :1.0000   Max.   :1.0000   Max.   :1.0000  "
      ]
     },
     "metadata": {},
     "output_type": "display_data"
    }
   ],
   "source": [
    "summary(X_train)"
   ]
  },
  {
   "cell_type": "code",
   "execution_count": 58,
   "metadata": {},
   "outputs": [],
   "source": [
    "#library(class)\n",
    "#mod8 <- knn(X_train,X_test,cl=train$cnt)"
   ]
  },
  {
   "cell_type": "code",
   "execution_count": 87,
   "metadata": {},
   "outputs": [],
   "source": [
    "library(class)\n",
    "mod8 <- knn(train_num,test_num,cl=train_num$cnt)"
   ]
  },
  {
   "cell_type": "code",
   "execution_count": 88,
   "metadata": {},
   "outputs": [
    {
     "name": "stdout",
     "output_type": "stream",
     "text": [
      " Factor w/ 247 levels \"431\",\"506\",\"623\",..: 33 20 19 17 21 36 48 10 10 21 ...\n"
     ]
    }
   ],
   "source": [
    "str(mod8)"
   ]
  },
  {
   "cell_type": "code",
   "execution_count": 89,
   "metadata": {},
   "outputs": [
    {
     "data": {
      "text/html": [
       "33.7969874935084"
      ],
      "text/latex": [
       "33.7969874935084"
      ],
      "text/markdown": [
       "33.7969874935084"
      ],
      "text/plain": [
       "[1] 33.79699"
      ]
     },
     "metadata": {},
     "output_type": "display_data"
    },
    {
     "data": {
      "text/html": [
       "0.0252525067300658"
      ],
      "text/latex": [
       "0.0252525067300658"
      ],
      "text/markdown": [
       "0.0252525067300658"
      ],
      "text/plain": [
       "[1] 0.02525251"
      ]
     },
     "metadata": {},
     "output_type": "display_data"
    }
   ],
   "source": [
    "pred8 <- as.numeric(as.character(mod8))\n",
    "\n",
    "rmse(test$cnt,pred8)\n",
    "rmsle(test$cnt,pred8)\n",
    "err_res <- rbind(err_res, data.frame(Name=\"kNN\", Model=\"mod8\", \n",
    "                                     RMSE=rmse(test$cnt,pred8), \n",
    "                                     RMSLE=rmsle(test$cnt,pred8)))"
   ]
  },
  {
   "cell_type": "markdown",
   "metadata": {},
   "source": [
    "## SVM"
   ]
  },
  {
   "cell_type": "code",
   "execution_count": 61,
   "metadata": {},
   "outputs": [
    {
     "name": "stderr",
     "output_type": "stream",
     "text": [
      "Installing package into 'C:/Users/Rita/Documents/R/win-library/4.0'\n",
      "(as 'lib' is unspecified)\n",
      "\n"
     ]
    },
    {
     "name": "stdout",
     "output_type": "stream",
     "text": [
      "package 'liquidSVM' successfully unpacked and MD5 sums checked\n",
      "\n",
      "The downloaded binary packages are in\n",
      "\tC:\\Users\\Rita\\AppData\\Local\\Temp\\RtmpCO0B7L\\downloaded_packages\n"
     ]
    },
    {
     "name": "stderr",
     "output_type": "stream",
     "text": [
      "Warning message:\n",
      "\"package 'liquidSVM' was built under R version 4.0.3\"\n"
     ]
    }
   ],
   "source": [
    "install.packages(\"liquidSVM\")\n",
    "library(liquidSVM)"
   ]
  },
  {
   "cell_type": "code",
   "execution_count": 62,
   "metadata": {},
   "outputs": [],
   "source": [
    "mod9 <- svm(cnt ~., train)"
   ]
  },
  {
   "cell_type": "code",
   "execution_count": 63,
   "metadata": {},
   "outputs": [
    {
     "data": {
      "text/html": [
       "480.61743274298"
      ],
      "text/latex": [
       "480.61743274298"
      ],
      "text/markdown": [
       "480.61743274298"
      ],
      "text/plain": [
       "[1] 480.6174"
      ]
     },
     "metadata": {},
     "output_type": "display_data"
    },
    {
     "data": {
      "text/html": [
       "0.206064267922531"
      ],
      "text/latex": [
       "0.206064267922531"
      ],
      "text/markdown": [
       "0.206064267922531"
      ],
      "text/plain": [
       "[1] 0.2060643"
      ]
     },
     "metadata": {},
     "output_type": "display_data"
    }
   ],
   "source": [
    "pred9 <- predict(mod9, newdata=test)\n",
    "\n",
    "rmse(test$cnt,pred9)\n",
    "rmsle(test$cnt,pred9)\n",
    "err_res <- rbind(err_res, data.frame(Name=\"SVM\", Model=\"mod9\", \n",
    "                                     RMSE=rmse(test$cnt,pred9), \n",
    "                                     RMSLE=rmsle(test$cnt,pred9)))"
   ]
  },
  {
   "cell_type": "code",
   "execution_count": 82,
   "metadata": {},
   "outputs": [
    {
     "data": {
      "text/html": [
       "<table>\n",
       "<caption>A data.frame: 14 × 4</caption>\n",
       "<thead>\n",
       "\t<tr><th scope=col>Name</th><th scope=col>Model</th><th scope=col>RMSE</th><th scope=col>RMSLE</th></tr>\n",
       "\t<tr><th scope=col>&lt;chr&gt;</th><th scope=col>&lt;chr&gt;</th><th scope=col>&lt;dbl&gt;</th><th scope=col>&lt;dbl&gt;</th></tr>\n",
       "</thead>\n",
       "<tbody>\n",
       "\t<tr><td>kNN                   </td><td>mod8</td><td>  33.79699</td><td>0.02525251</td></tr>\n",
       "\t<tr><td>SVM                   </td><td>mod9</td><td> 480.61743</td><td>0.20606427</td></tr>\n",
       "\t<tr><td>Base Linear regression</td><td>mod1</td><td> 633.02244</td><td>0.24676782</td></tr>\n",
       "\t<tr><td>Base Linear regression</td><td>mod1</td><td> 633.02244</td><td>0.24676782</td></tr>\n",
       "\t<tr><td>XGBoost               </td><td>mod7</td><td> 579.89200</td><td>0.28709500</td></tr>\n",
       "\t<tr><td>RandomForest (ranger) </td><td>mod6</td><td> 580.79116</td><td>0.29448315</td></tr>\n",
       "\t<tr><td>RandomForest          </td><td>mod5</td><td> 597.52156</td><td>0.30082613</td></tr>\n",
       "\t<tr><td>RandomForest (RF)     </td><td>mod5</td><td> 597.52156</td><td>0.30082613</td></tr>\n",
       "\t<tr><td>Decision Trees-tree   </td><td>mod3</td><td> 783.25386</td><td>0.35420401</td></tr>\n",
       "\t<tr><td>Decision Trees-rpart  </td><td>mod4</td><td> 783.25386</td><td>0.35420401</td></tr>\n",
       "\t<tr><td>kNN                   </td><td>mod8</td><td> 953.18899</td><td>0.40032081</td></tr>\n",
       "\t<tr><td>Base Linear regression</td><td>mod1</td><td>2992.92384</td><td>1.16549658</td></tr>\n",
       "\t<tr><td>Base Linear regression</td><td>mod1</td><td>2992.92384</td><td>1.16549658</td></tr>\n",
       "\t<tr><td>Base Linear regression</td><td>mod1</td><td>2992.92384</td><td>1.16549658</td></tr>\n",
       "</tbody>\n",
       "</table>\n"
      ],
      "text/latex": [
       "A data.frame: 14 × 4\n",
       "\\begin{tabular}{llll}\n",
       " Name & Model & RMSE & RMSLE\\\\\n",
       " <chr> & <chr> & <dbl> & <dbl>\\\\\n",
       "\\hline\n",
       "\t kNN                    & mod8 &   33.79699 & 0.02525251\\\\\n",
       "\t SVM                    & mod9 &  480.61743 & 0.20606427\\\\\n",
       "\t Base Linear regression & mod1 &  633.02244 & 0.24676782\\\\\n",
       "\t Base Linear regression & mod1 &  633.02244 & 0.24676782\\\\\n",
       "\t XGBoost                & mod7 &  579.89200 & 0.28709500\\\\\n",
       "\t RandomForest (ranger)  & mod6 &  580.79116 & 0.29448315\\\\\n",
       "\t RandomForest           & mod5 &  597.52156 & 0.30082613\\\\\n",
       "\t RandomForest (RF)      & mod5 &  597.52156 & 0.30082613\\\\\n",
       "\t Decision Trees-tree    & mod3 &  783.25386 & 0.35420401\\\\\n",
       "\t Decision Trees-rpart   & mod4 &  783.25386 & 0.35420401\\\\\n",
       "\t kNN                    & mod8 &  953.18899 & 0.40032081\\\\\n",
       "\t Base Linear regression & mod1 & 2992.92384 & 1.16549658\\\\\n",
       "\t Base Linear regression & mod1 & 2992.92384 & 1.16549658\\\\\n",
       "\t Base Linear regression & mod1 & 2992.92384 & 1.16549658\\\\\n",
       "\\end{tabular}\n"
      ],
      "text/markdown": [
       "\n",
       "A data.frame: 14 × 4\n",
       "\n",
       "| Name &lt;chr&gt; | Model &lt;chr&gt; | RMSE &lt;dbl&gt; | RMSLE &lt;dbl&gt; |\n",
       "|---|---|---|---|\n",
       "| kNN                    | mod8 |   33.79699 | 0.02525251 |\n",
       "| SVM                    | mod9 |  480.61743 | 0.20606427 |\n",
       "| Base Linear regression | mod1 |  633.02244 | 0.24676782 |\n",
       "| Base Linear regression | mod1 |  633.02244 | 0.24676782 |\n",
       "| XGBoost                | mod7 |  579.89200 | 0.28709500 |\n",
       "| RandomForest (ranger)  | mod6 |  580.79116 | 0.29448315 |\n",
       "| RandomForest           | mod5 |  597.52156 | 0.30082613 |\n",
       "| RandomForest (RF)      | mod5 |  597.52156 | 0.30082613 |\n",
       "| Decision Trees-tree    | mod3 |  783.25386 | 0.35420401 |\n",
       "| Decision Trees-rpart   | mod4 |  783.25386 | 0.35420401 |\n",
       "| kNN                    | mod8 |  953.18899 | 0.40032081 |\n",
       "| Base Linear regression | mod1 | 2992.92384 | 1.16549658 |\n",
       "| Base Linear regression | mod1 | 2992.92384 | 1.16549658 |\n",
       "| Base Linear regression | mod1 | 2992.92384 | 1.16549658 |\n",
       "\n"
      ],
      "text/plain": [
       "   Name                   Model RMSE       RMSLE     \n",
       "1  kNN                    mod8    33.79699 0.02525251\n",
       "2  SVM                    mod9   480.61743 0.20606427\n",
       "3  Base Linear regression mod1   633.02244 0.24676782\n",
       "4  Base Linear regression mod1   633.02244 0.24676782\n",
       "5  XGBoost                mod7   579.89200 0.28709500\n",
       "6  RandomForest (ranger)  mod6   580.79116 0.29448315\n",
       "7  RandomForest           mod5   597.52156 0.30082613\n",
       "8  RandomForest (RF)      mod5   597.52156 0.30082613\n",
       "9  Decision Trees-tree    mod3   783.25386 0.35420401\n",
       "10 Decision Trees-rpart   mod4   783.25386 0.35420401\n",
       "11 kNN                    mod8   953.18899 0.40032081\n",
       "12 Base Linear regression mod1  2992.92384 1.16549658\n",
       "13 Base Linear regression mod1  2992.92384 1.16549658\n",
       "14 Base Linear regression mod1  2992.92384 1.16549658"
      ]
     },
     "metadata": {},
     "output_type": "display_data"
    }
   ],
   "source": [
    "err_res %>% arrange(RMSLE)"
   ]
  },
  {
   "cell_type": "code",
   "execution_count": 83,
   "metadata": {},
   "outputs": [
    {
     "data": {
      "text/html": [
       "<style>\n",
       ".list-inline {list-style: none; margin:0; padding: 0}\n",
       ".list-inline>li {display: inline-block}\n",
       ".list-inline>li:not(:last-child)::after {content: \"\\00b7\"; padding: 0 .5ex}\n",
       "</style>\n",
       "<ol class=list-inline><li>1606</li><li>1321</li><li>1263</li><li>1162</li><li>1421</li><li>1650</li><li>1927</li><li>981</li><li>986</li><li>1416</li><li>1098</li><li>1360</li><li>1712</li><li>1530</li><li>1746</li><li>1589</li><li>1913</li><li>2115</li><li>2475</li><li>1450</li><li>1446</li><li>1851</li><li>605</li><li>2192</li><li>2744</li><li>3117</li><li>2121</li><li>1693</li><li>3115</li><li>1795</li><li>2808</li><li>3126</li><li>795</li><li>3429</li><li>3204</li><li>4191</li><li>3872</li><li>5312</li><li>4362</li><li>4182</li><li>4864</li><li>3409</li><li>4660</li><li>4492</li><li>4679</li><li>4098</li><li>4548</li><li>3915</li><li>5020</li><li>4844</li><li>4010</li><li>4708</li><li>5225</li><li>5362</li><li>5119</li><li>4665</li><li>4040</li><li>5336</li><li>5538</li><li>5923</li><li>4541</li><li>4332</li><li>3846</li><li>4302</li><li>4866</li><li>3785</li><li>4602</li><li>3820</li><li>3805</li><li>4758</li><li>3542</li><li>5115</li><li>4484</li><li>4713</li><li>4785</li><li>4760</li><li>4511</li><li>4274</li><li>3641</li><li>4352</li><li>5423</li><li>2429</li><li>4826</li><li>4765</li><li>2416</li><li>2913</li><li>5041</li><li>4570</li><li>4748</li><li>4381</li><li>627</li><li>4068</li><li>3649</li><li>4035</li><li>4205</li><li>3368</li><li>1817</li><li>3053</li><li>2566</li><li>1495</li><li>2792</li><li>3071</li><li>3613</li><li>3485</li><li>2594</li><li>705</li><li>3322</li><li>2743</li><li>1317</li><li>2999</li></ol>\n"
      ],
      "text/latex": [
       "\\begin{enumerate*}\n",
       "\\item 1606\n",
       "\\item 1321\n",
       "\\item 1263\n",
       "\\item 1162\n",
       "\\item 1421\n",
       "\\item 1650\n",
       "\\item 1927\n",
       "\\item 981\n",
       "\\item 986\n",
       "\\item 1416\n",
       "\\item 1098\n",
       "\\item 1360\n",
       "\\item 1712\n",
       "\\item 1530\n",
       "\\item 1746\n",
       "\\item 1589\n",
       "\\item 1913\n",
       "\\item 2115\n",
       "\\item 2475\n",
       "\\item 1450\n",
       "\\item 1446\n",
       "\\item 1851\n",
       "\\item 605\n",
       "\\item 2192\n",
       "\\item 2744\n",
       "\\item 3117\n",
       "\\item 2121\n",
       "\\item 1693\n",
       "\\item 3115\n",
       "\\item 1795\n",
       "\\item 2808\n",
       "\\item 3126\n",
       "\\item 795\n",
       "\\item 3429\n",
       "\\item 3204\n",
       "\\item 4191\n",
       "\\item 3872\n",
       "\\item 5312\n",
       "\\item 4362\n",
       "\\item 4182\n",
       "\\item 4864\n",
       "\\item 3409\n",
       "\\item 4660\n",
       "\\item 4492\n",
       "\\item 4679\n",
       "\\item 4098\n",
       "\\item 4548\n",
       "\\item 3915\n",
       "\\item 5020\n",
       "\\item 4844\n",
       "\\item 4010\n",
       "\\item 4708\n",
       "\\item 5225\n",
       "\\item 5362\n",
       "\\item 5119\n",
       "\\item 4665\n",
       "\\item 4040\n",
       "\\item 5336\n",
       "\\item 5538\n",
       "\\item 5923\n",
       "\\item 4541\n",
       "\\item 4332\n",
       "\\item 3846\n",
       "\\item 4302\n",
       "\\item 4866\n",
       "\\item 3785\n",
       "\\item 4602\n",
       "\\item 3820\n",
       "\\item 3805\n",
       "\\item 4758\n",
       "\\item 3542\n",
       "\\item 5115\n",
       "\\item 4484\n",
       "\\item 4713\n",
       "\\item 4785\n",
       "\\item 4760\n",
       "\\item 4511\n",
       "\\item 4274\n",
       "\\item 3641\n",
       "\\item 4352\n",
       "\\item 5423\n",
       "\\item 2429\n",
       "\\item 4826\n",
       "\\item 4765\n",
       "\\item 2416\n",
       "\\item 2913\n",
       "\\item 5041\n",
       "\\item 4570\n",
       "\\item 4748\n",
       "\\item 4381\n",
       "\\item 627\n",
       "\\item 4068\n",
       "\\item 3649\n",
       "\\item 4035\n",
       "\\item 4205\n",
       "\\item 3368\n",
       "\\item 1817\n",
       "\\item 3053\n",
       "\\item 2566\n",
       "\\item 1495\n",
       "\\item 2792\n",
       "\\item 3071\n",
       "\\item 3613\n",
       "\\item 3485\n",
       "\\item 2594\n",
       "\\item 705\n",
       "\\item 3322\n",
       "\\item 2743\n",
       "\\item 1317\n",
       "\\item 2999\n",
       "\\end{enumerate*}\n"
      ],
      "text/markdown": [
       "1. 1606\n",
       "2. 1321\n",
       "3. 1263\n",
       "4. 1162\n",
       "5. 1421\n",
       "6. 1650\n",
       "7. 1927\n",
       "8. 981\n",
       "9. 986\n",
       "10. 1416\n",
       "11. 1098\n",
       "12. 1360\n",
       "13. 1712\n",
       "14. 1530\n",
       "15. 1746\n",
       "16. 1589\n",
       "17. 1913\n",
       "18. 2115\n",
       "19. 2475\n",
       "20. 1450\n",
       "21. 1446\n",
       "22. 1851\n",
       "23. 605\n",
       "24. 2192\n",
       "25. 2744\n",
       "26. 3117\n",
       "27. 2121\n",
       "28. 1693\n",
       "29. 3115\n",
       "30. 1795\n",
       "31. 2808\n",
       "32. 3126\n",
       "33. 795\n",
       "34. 3429\n",
       "35. 3204\n",
       "36. 4191\n",
       "37. 3872\n",
       "38. 5312\n",
       "39. 4362\n",
       "40. 4182\n",
       "41. 4864\n",
       "42. 3409\n",
       "43. 4660\n",
       "44. 4492\n",
       "45. 4679\n",
       "46. 4098\n",
       "47. 4548\n",
       "48. 3915\n",
       "49. 5020\n",
       "50. 4844\n",
       "51. 4010\n",
       "52. 4708\n",
       "53. 5225\n",
       "54. 5362\n",
       "55. 5119\n",
       "56. 4665\n",
       "57. 4040\n",
       "58. 5336\n",
       "59. 5538\n",
       "60. 5923\n",
       "61. 4541\n",
       "62. 4332\n",
       "63. 3846\n",
       "64. 4302\n",
       "65. 4866\n",
       "66. 3785\n",
       "67. 4602\n",
       "68. 3820\n",
       "69. 3805\n",
       "70. 4758\n",
       "71. 3542\n",
       "72. 5115\n",
       "73. 4484\n",
       "74. 4713\n",
       "75. 4785\n",
       "76. 4760\n",
       "77. 4511\n",
       "78. 4274\n",
       "79. 3641\n",
       "80. 4352\n",
       "81. 5423\n",
       "82. 2429\n",
       "83. 4826\n",
       "84. 4765\n",
       "85. 2416\n",
       "86. 2913\n",
       "87. 5041\n",
       "88. 4570\n",
       "89. 4748\n",
       "90. 4381\n",
       "91. 627\n",
       "92. 4068\n",
       "93. 3649\n",
       "94. 4035\n",
       "95. 4205\n",
       "96. 3368\n",
       "97. 1817\n",
       "98. 3053\n",
       "99. 2566\n",
       "100. 1495\n",
       "101. 2792\n",
       "102. 3071\n",
       "103. 3613\n",
       "104. 3485\n",
       "105. 2594\n",
       "106. 705\n",
       "107. 3322\n",
       "108. 2743\n",
       "109. 1317\n",
       "110. 2999\n",
       "\n",
       "\n"
      ],
      "text/plain": [
       "  [1] 1606 1321 1263 1162 1421 1650 1927  981  986 1416 1098 1360 1712 1530 1746\n",
       " [16] 1589 1913 2115 2475 1450 1446 1851  605 2192 2744 3117 2121 1693 3115 1795\n",
       " [31] 2808 3126  795 3429 3204 4191 3872 5312 4362 4182 4864 3409 4660 4492 4679\n",
       " [46] 4098 4548 3915 5020 4844 4010 4708 5225 5362 5119 4665 4040 5336 5538 5923\n",
       " [61] 4541 4332 3846 4302 4866 3785 4602 3820 3805 4758 3542 5115 4484 4713 4785\n",
       " [76] 4760 4511 4274 3641 4352 5423 2429 4826 4765 2416 2913 5041 4570 4748 4381\n",
       " [91]  627 4068 3649 4035 4205 3368 1817 3053 2566 1495 2792 3071 3613 3485 2594\n",
       "[106]  705 3322 2743 1317 2999"
      ]
     },
     "metadata": {},
     "output_type": "display_data"
    }
   ],
   "source": [
    "test$cnt"
   ]
  },
  {
   "cell_type": "code",
   "execution_count": 15,
   "metadata": {},
   "outputs": [
    {
     "data": {
      "text/html": [
       "<style>\n",
       ".list-inline {list-style: none; margin:0; padding: 0}\n",
       ".list-inline>li {display: inline-block}\n",
       ".list-inline>li:not(:last-child)::after {content: \"\\00b7\"; padding: 0 .5ex}\n",
       "</style>\n",
       "<ol class=list-inline><li>'id'</li><li>'season'</li><li>'mnth'</li><li>'holiday'</li><li>'weekday'</li><li>'workingday'</li><li>'weathersit'</li><li>'temp'</li><li>'atemp'</li><li>'hum'</li><li>'windspeed'</li></ol>\n"
      ],
      "text/latex": [
       "\\begin{enumerate*}\n",
       "\\item 'id'\n",
       "\\item 'season'\n",
       "\\item 'mnth'\n",
       "\\item 'holiday'\n",
       "\\item 'weekday'\n",
       "\\item 'workingday'\n",
       "\\item 'weathersit'\n",
       "\\item 'temp'\n",
       "\\item 'atemp'\n",
       "\\item 'hum'\n",
       "\\item 'windspeed'\n",
       "\\end{enumerate*}\n"
      ],
      "text/markdown": [
       "1. 'id'\n",
       "2. 'season'\n",
       "3. 'mnth'\n",
       "4. 'holiday'\n",
       "5. 'weekday'\n",
       "6. 'workingday'\n",
       "7. 'weathersit'\n",
       "8. 'temp'\n",
       "9. 'atemp'\n",
       "10. 'hum'\n",
       "11. 'windspeed'\n",
       "\n",
       "\n"
      ],
      "text/plain": [
       " [1] \"id\"         \"season\"     \"mnth\"       \"holiday\"    \"weekday\"   \n",
       " [6] \"workingday\" \"weathersit\" \"temp\"       \"atemp\"      \"hum\"       \n",
       "[11] \"windspeed\" "
      ]
     },
     "metadata": {},
     "output_type": "display_data"
    }
   ],
   "source": [
    "nm<-setdiff(names(df_train), \"cnt\")\n",
    "nm"
   ]
  },
  {
   "cell_type": "code",
   "execution_count": 16,
   "metadata": {},
   "outputs": [],
   "source": [
    "df_train1<-df_train[,nm]"
   ]
  },
  {
   "cell_type": "code",
   "execution_count": 17,
   "metadata": {},
   "outputs": [
    {
     "ename": "ERROR",
     "evalue": "Error in knn(df_train1, df_test, cl = df_train1$cnt): 'train' and 'class' have different lengths\n",
     "output_type": "error",
     "traceback": [
      "Error in knn(df_train1, df_test, cl = df_train1$cnt): 'train' and 'class' have different lengths\nTraceback:\n",
      "1. knn(df_train1, df_test, cl = df_train1$cnt)",
      "2. stop(\"'train' and 'class' have different lengths\")"
     ]
    }
   ],
   "source": [
    "library(class)\n",
    "id<-1:nrow(df_test)\n",
    "cnt<-knn(df_train1,df_test,cl=df_train1$cnt)"
   ]
  },
  {
   "cell_type": "code",
   "execution_count": 18,
   "metadata": {},
   "outputs": [],
   "source": [
    "id<-366:732"
   ]
  },
  {
   "cell_type": "code",
   "execution_count": 20,
   "metadata": {},
   "outputs": [
    {
     "name": "stderr",
     "output_type": "stream",
     "text": [
      "Warning message:\n",
      "\"package 'liquidSVM' was built under R version 4.0.3\"\n"
     ]
    }
   ],
   "source": [
    "library(liquidSVM)\n",
    "mod91 <- svm(cnt ~., df_train)"
   ]
  },
  {
   "cell_type": "code",
   "execution_count": 22,
   "metadata": {},
   "outputs": [],
   "source": [
    "pred91<- predict(mod91, newdata=df_test)"
   ]
  },
  {
   "cell_type": "code",
   "execution_count": 25,
   "metadata": {},
   "outputs": [],
   "source": [
    "id<-366:731\n",
    "cnt<-pred91"
   ]
  },
  {
   "cell_type": "code",
   "execution_count": 123,
   "metadata": {},
   "outputs": [
    {
     "data": {
      "text/html": [
       "NaN"
      ],
      "text/latex": [
       "NaN"
      ],
      "text/markdown": [
       "NaN"
      ],
      "text/plain": [
       "[1] NaN"
      ]
     },
     "metadata": {},
     "output_type": "display_data"
    },
    {
     "data": {
      "text/html": [
       "NaN"
      ],
      "text/latex": [
       "NaN"
      ],
      "text/markdown": [
       "NaN"
      ],
      "text/plain": [
       "[1] NaN"
      ]
     },
     "metadata": {},
     "output_type": "display_data"
    }
   ],
   "source": [
    "rmse(df_test$cnt,pred91)\n",
    "rmsle(df_test$cnt,pred91)"
   ]
  },
  {
   "cell_type": "code",
   "execution_count": 26,
   "metadata": {},
   "outputs": [
    {
     "data": {
      "text/html": [
       "<table>\n",
       "<caption>A data.frame: 366 × 2</caption>\n",
       "<thead>\n",
       "\t<tr><th scope=col>id</th><th scope=col>cnt</th></tr>\n",
       "\t<tr><th scope=col>&lt;int&gt;</th><th scope=col>&lt;dbl&gt;</th></tr>\n",
       "</thead>\n",
       "<tbody>\n",
       "\t<tr><td>366</td><td>3103.540</td></tr>\n",
       "\t<tr><td>367</td><td>2421.814</td></tr>\n",
       "\t<tr><td>368</td><td>2146.626</td></tr>\n",
       "\t<tr><td>369</td><td>2031.483</td></tr>\n",
       "\t<tr><td>370</td><td>3061.659</td></tr>\n",
       "\t<tr><td>371</td><td>3419.342</td></tr>\n",
       "\t<tr><td>372</td><td>3501.235</td></tr>\n",
       "\t<tr><td>373</td><td>3007.181</td></tr>\n",
       "\t<tr><td>374</td><td>2452.967</td></tr>\n",
       "\t<tr><td>375</td><td>3000.899</td></tr>\n",
       "\t<tr><td>376</td><td>2712.879</td></tr>\n",
       "\t<tr><td>377</td><td>3159.609</td></tr>\n",
       "\t<tr><td>378</td><td>2816.503</td></tr>\n",
       "\t<tr><td>379</td><td>2890.346</td></tr>\n",
       "\t<tr><td>380</td><td>2525.852</td></tr>\n",
       "\t<tr><td>381</td><td>2152.983</td></tr>\n",
       "\t<tr><td>382</td><td>2575.587</td></tr>\n",
       "\t<tr><td>383</td><td>2738.267</td></tr>\n",
       "\t<tr><td>384</td><td>2603.731</td></tr>\n",
       "\t<tr><td>385</td><td>2603.052</td></tr>\n",
       "\t<tr><td>386</td><td>2600.818</td></tr>\n",
       "\t<tr><td>387</td><td>2266.544</td></tr>\n",
       "\t<tr><td>388</td><td>2366.558</td></tr>\n",
       "\t<tr><td>389</td><td>3167.710</td></tr>\n",
       "\t<tr><td>390</td><td>3032.809</td></tr>\n",
       "\t<tr><td>391</td><td>3229.619</td></tr>\n",
       "\t<tr><td>392</td><td>2953.582</td></tr>\n",
       "\t<tr><td>393</td><td>3254.667</td></tr>\n",
       "\t<tr><td>394</td><td>2816.357</td></tr>\n",
       "\t<tr><td>395</td><td>2732.958</td></tr>\n",
       "\t<tr><td>...</td><td>...</td></tr>\n",
       "\t<tr><td>702</td><td>2037.6479</td></tr>\n",
       "\t<tr><td>703</td><td>2064.4736</td></tr>\n",
       "\t<tr><td>704</td><td>1879.1300</td></tr>\n",
       "\t<tr><td>705</td><td>1802.3944</td></tr>\n",
       "\t<tr><td>706</td><td>1781.4353</td></tr>\n",
       "\t<tr><td>707</td><td>1930.8306</td></tr>\n",
       "\t<tr><td>708</td><td>2328.7235</td></tr>\n",
       "\t<tr><td>709</td><td>1973.5314</td></tr>\n",
       "\t<tr><td>710</td><td>1789.5986</td></tr>\n",
       "\t<tr><td>711</td><td>1688.8651</td></tr>\n",
       "\t<tr><td>712</td><td>1926.5956</td></tr>\n",
       "\t<tr><td>713</td><td>1851.3827</td></tr>\n",
       "\t<tr><td>714</td><td>1834.2004</td></tr>\n",
       "\t<tr><td>715</td><td>2176.3440</td></tr>\n",
       "\t<tr><td>716</td><td>2070.7766</td></tr>\n",
       "\t<tr><td>717</td><td>1970.8544</td></tr>\n",
       "\t<tr><td>718</td><td>1735.5440</td></tr>\n",
       "\t<tr><td>719</td><td>1738.0621</td></tr>\n",
       "\t<tr><td>720</td><td>1942.6660</td></tr>\n",
       "\t<tr><td>721</td><td>1026.6695</td></tr>\n",
       "\t<tr><td>722</td><td>1373.6299</td></tr>\n",
       "\t<tr><td>723</td><td>1514.4652</td></tr>\n",
       "\t<tr><td>724</td><td>1225.0244</td></tr>\n",
       "\t<tr><td>725</td><td> 617.8750</td></tr>\n",
       "\t<tr><td>726</td><td> 877.4357</td></tr>\n",
       "\t<tr><td>727</td><td> 808.1185</td></tr>\n",
       "\t<tr><td>728</td><td>1300.9049</td></tr>\n",
       "\t<tr><td>729</td><td>1721.0486</td></tr>\n",
       "\t<tr><td>730</td><td>1351.2611</td></tr>\n",
       "\t<tr><td>731</td><td>1042.8122</td></tr>\n",
       "</tbody>\n",
       "</table>\n"
      ],
      "text/latex": [
       "A data.frame: 366 × 2\n",
       "\\begin{tabular}{ll}\n",
       " id & cnt\\\\\n",
       " <int> & <dbl>\\\\\n",
       "\\hline\n",
       "\t 366 & 3103.540\\\\\n",
       "\t 367 & 2421.814\\\\\n",
       "\t 368 & 2146.626\\\\\n",
       "\t 369 & 2031.483\\\\\n",
       "\t 370 & 3061.659\\\\\n",
       "\t 371 & 3419.342\\\\\n",
       "\t 372 & 3501.235\\\\\n",
       "\t 373 & 3007.181\\\\\n",
       "\t 374 & 2452.967\\\\\n",
       "\t 375 & 3000.899\\\\\n",
       "\t 376 & 2712.879\\\\\n",
       "\t 377 & 3159.609\\\\\n",
       "\t 378 & 2816.503\\\\\n",
       "\t 379 & 2890.346\\\\\n",
       "\t 380 & 2525.852\\\\\n",
       "\t 381 & 2152.983\\\\\n",
       "\t 382 & 2575.587\\\\\n",
       "\t 383 & 2738.267\\\\\n",
       "\t 384 & 2603.731\\\\\n",
       "\t 385 & 2603.052\\\\\n",
       "\t 386 & 2600.818\\\\\n",
       "\t 387 & 2266.544\\\\\n",
       "\t 388 & 2366.558\\\\\n",
       "\t 389 & 3167.710\\\\\n",
       "\t 390 & 3032.809\\\\\n",
       "\t 391 & 3229.619\\\\\n",
       "\t 392 & 2953.582\\\\\n",
       "\t 393 & 3254.667\\\\\n",
       "\t 394 & 2816.357\\\\\n",
       "\t 395 & 2732.958\\\\\n",
       "\t ... & ...\\\\\n",
       "\t 702 & 2037.6479\\\\\n",
       "\t 703 & 2064.4736\\\\\n",
       "\t 704 & 1879.1300\\\\\n",
       "\t 705 & 1802.3944\\\\\n",
       "\t 706 & 1781.4353\\\\\n",
       "\t 707 & 1930.8306\\\\\n",
       "\t 708 & 2328.7235\\\\\n",
       "\t 709 & 1973.5314\\\\\n",
       "\t 710 & 1789.5986\\\\\n",
       "\t 711 & 1688.8651\\\\\n",
       "\t 712 & 1926.5956\\\\\n",
       "\t 713 & 1851.3827\\\\\n",
       "\t 714 & 1834.2004\\\\\n",
       "\t 715 & 2176.3440\\\\\n",
       "\t 716 & 2070.7766\\\\\n",
       "\t 717 & 1970.8544\\\\\n",
       "\t 718 & 1735.5440\\\\\n",
       "\t 719 & 1738.0621\\\\\n",
       "\t 720 & 1942.6660\\\\\n",
       "\t 721 & 1026.6695\\\\\n",
       "\t 722 & 1373.6299\\\\\n",
       "\t 723 & 1514.4652\\\\\n",
       "\t 724 & 1225.0244\\\\\n",
       "\t 725 &  617.8750\\\\\n",
       "\t 726 &  877.4357\\\\\n",
       "\t 727 &  808.1185\\\\\n",
       "\t 728 & 1300.9049\\\\\n",
       "\t 729 & 1721.0486\\\\\n",
       "\t 730 & 1351.2611\\\\\n",
       "\t 731 & 1042.8122\\\\\n",
       "\\end{tabular}\n"
      ],
      "text/markdown": [
       "\n",
       "A data.frame: 366 × 2\n",
       "\n",
       "| id &lt;int&gt; | cnt &lt;dbl&gt; |\n",
       "|---|---|\n",
       "| 366 | 3103.540 |\n",
       "| 367 | 2421.814 |\n",
       "| 368 | 2146.626 |\n",
       "| 369 | 2031.483 |\n",
       "| 370 | 3061.659 |\n",
       "| 371 | 3419.342 |\n",
       "| 372 | 3501.235 |\n",
       "| 373 | 3007.181 |\n",
       "| 374 | 2452.967 |\n",
       "| 375 | 3000.899 |\n",
       "| 376 | 2712.879 |\n",
       "| 377 | 3159.609 |\n",
       "| 378 | 2816.503 |\n",
       "| 379 | 2890.346 |\n",
       "| 380 | 2525.852 |\n",
       "| 381 | 2152.983 |\n",
       "| 382 | 2575.587 |\n",
       "| 383 | 2738.267 |\n",
       "| 384 | 2603.731 |\n",
       "| 385 | 2603.052 |\n",
       "| 386 | 2600.818 |\n",
       "| 387 | 2266.544 |\n",
       "| 388 | 2366.558 |\n",
       "| 389 | 3167.710 |\n",
       "| 390 | 3032.809 |\n",
       "| 391 | 3229.619 |\n",
       "| 392 | 2953.582 |\n",
       "| 393 | 3254.667 |\n",
       "| 394 | 2816.357 |\n",
       "| 395 | 2732.958 |\n",
       "| ... | ... |\n",
       "| 702 | 2037.6479 |\n",
       "| 703 | 2064.4736 |\n",
       "| 704 | 1879.1300 |\n",
       "| 705 | 1802.3944 |\n",
       "| 706 | 1781.4353 |\n",
       "| 707 | 1930.8306 |\n",
       "| 708 | 2328.7235 |\n",
       "| 709 | 1973.5314 |\n",
       "| 710 | 1789.5986 |\n",
       "| 711 | 1688.8651 |\n",
       "| 712 | 1926.5956 |\n",
       "| 713 | 1851.3827 |\n",
       "| 714 | 1834.2004 |\n",
       "| 715 | 2176.3440 |\n",
       "| 716 | 2070.7766 |\n",
       "| 717 | 1970.8544 |\n",
       "| 718 | 1735.5440 |\n",
       "| 719 | 1738.0621 |\n",
       "| 720 | 1942.6660 |\n",
       "| 721 | 1026.6695 |\n",
       "| 722 | 1373.6299 |\n",
       "| 723 | 1514.4652 |\n",
       "| 724 | 1225.0244 |\n",
       "| 725 |  617.8750 |\n",
       "| 726 |  877.4357 |\n",
       "| 727 |  808.1185 |\n",
       "| 728 | 1300.9049 |\n",
       "| 729 | 1721.0486 |\n",
       "| 730 | 1351.2611 |\n",
       "| 731 | 1042.8122 |\n",
       "\n"
      ],
      "text/plain": [
       "    id  cnt      \n",
       "1   366 3103.540 \n",
       "2   367 2421.814 \n",
       "3   368 2146.626 \n",
       "4   369 2031.483 \n",
       "5   370 3061.659 \n",
       "6   371 3419.342 \n",
       "7   372 3501.235 \n",
       "8   373 3007.181 \n",
       "9   374 2452.967 \n",
       "10  375 3000.899 \n",
       "11  376 2712.879 \n",
       "12  377 3159.609 \n",
       "13  378 2816.503 \n",
       "14  379 2890.346 \n",
       "15  380 2525.852 \n",
       "16  381 2152.983 \n",
       "17  382 2575.587 \n",
       "18  383 2738.267 \n",
       "19  384 2603.731 \n",
       "20  385 2603.052 \n",
       "21  386 2600.818 \n",
       "22  387 2266.544 \n",
       "23  388 2366.558 \n",
       "24  389 3167.710 \n",
       "25  390 3032.809 \n",
       "26  391 3229.619 \n",
       "27  392 2953.582 \n",
       "28  393 3254.667 \n",
       "29  394 2816.357 \n",
       "30  395 2732.958 \n",
       "... ... ...      \n",
       "337 702 2037.6479\n",
       "338 703 2064.4736\n",
       "339 704 1879.1300\n",
       "340 705 1802.3944\n",
       "341 706 1781.4353\n",
       "342 707 1930.8306\n",
       "343 708 2328.7235\n",
       "344 709 1973.5314\n",
       "345 710 1789.5986\n",
       "346 711 1688.8651\n",
       "347 712 1926.5956\n",
       "348 713 1851.3827\n",
       "349 714 1834.2004\n",
       "350 715 2176.3440\n",
       "351 716 2070.7766\n",
       "352 717 1970.8544\n",
       "353 718 1735.5440\n",
       "354 719 1738.0621\n",
       "355 720 1942.6660\n",
       "356 721 1026.6695\n",
       "357 722 1373.6299\n",
       "358 723 1514.4652\n",
       "359 724 1225.0244\n",
       "360 725  617.8750\n",
       "361 726  877.4357\n",
       "362 727  808.1185\n",
       "363 728 1300.9049\n",
       "364 729 1721.0486\n",
       "365 730 1351.2611\n",
       "366 731 1042.8122"
      ]
     },
     "metadata": {},
     "output_type": "display_data"
    }
   ],
   "source": [
    "dft<-data.frame(id=id, cnt=cnt)\n",
    "dft"
   ]
  },
  {
   "cell_type": "code",
   "execution_count": 28,
   "metadata": {},
   "outputs": [],
   "source": [
    "write.csv(dft, file='results_svm_31102020.csv',row.names=FALSE)"
   ]
  }
 ],
 "metadata": {
  "kernelspec": {
   "display_name": "R",
   "language": "R",
   "name": "ir"
  },
  "language_info": {
   "codemirror_mode": "r",
   "file_extension": ".r",
   "mimetype": "text/x-r-source",
   "name": "R",
   "pygments_lexer": "r",
   "version": "4.0.1"
  }
 },
 "nbformat": 4,
 "nbformat_minor": 2
}
